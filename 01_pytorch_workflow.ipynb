{
  "nbformat": 4,
  "nbformat_minor": 0,
  "metadata": {
    "colab": {
      "provenance": [],
      "authorship_tag": "ABX9TyNuYf2sCcW/XX4knjSxRPZF",
      "include_colab_link": true
    },
    "kernelspec": {
      "name": "python3",
      "display_name": "Python 3"
    },
    "language_info": {
      "name": "python"
    }
  },
  "cells": [
    {
      "cell_type": "markdown",
      "metadata": {
        "id": "view-in-github",
        "colab_type": "text"
      },
      "source": [
        "<a href=\"https://colab.research.google.com/github/Chiranjeevi2001/introToDeepLearning/blob/main/01_pytorch_workflow.ipynb\" target=\"_parent\"><img src=\"https://colab.research.google.com/assets/colab-badge.svg\" alt=\"Open In Colab\"/></a>"
      ]
    },
    {
      "cell_type": "markdown",
      "source": [
        "#PyTorch Workflow\n",
        "## What is covered here:\n",
        "* Data (prepare and load)\n",
        "* Build model\n",
        "* Fitting the model to data (training)\n",
        "* Making predictions\n",
        "* Saving and loading a model\n",
        "* Putting it all together"
      ],
      "metadata": {
        "id": "jt7HcU0LQixz"
      }
    },
    {
      "cell_type": "code",
      "source": [
        "import torch\n",
        "from torch import nn # nn contains ll of pytorch's building blocks for neural networks\n",
        "import matplotlib.pyplot as plt\n",
        "\n",
        "# check the pytorch version\n",
        "torch.__version__"
      ],
      "metadata": {
        "colab": {
          "base_uri": "https://localhost:8080/",
          "height": 35
        },
        "id": "vAjEfOsYahxo",
        "outputId": "6ce46131-6efa-47a5-efd1-018978d9387c"
      },
      "execution_count": 1,
      "outputs": [
        {
          "output_type": "execute_result",
          "data": {
            "text/plain": [
              "'2.1.0+cu121'"
            ],
            "application/vnd.google.colaboratory.intrinsic+json": {
              "type": "string"
            }
          },
          "metadata": {},
          "execution_count": 1
        }
      ]
    },
    {
      "cell_type": "markdown",
      "source": [
        "# 1. Data : Preparing and loading\n",
        "Linear Regression is used to make a straight line with known parameters."
      ],
      "metadata": {
        "id": "VFnhgoMTa_Cr"
      }
    },
    {
      "cell_type": "code",
      "source": [
        "# Linear Regression is used to make a straight line with known parameters.\n",
        "\n",
        "weight = 0.7\n",
        "bias = 0.3\n",
        "\n",
        "# create a range of numbers\n",
        "\n",
        "start = 0\n",
        "end = 1\n",
        "step = 0.02\n",
        "\n",
        "X = torch.arange(start, end, step).unsqueeze(dim=1) # adds extra dimension (with unsqueeze: shape = [50,1] without unsqueeze: shape = [50])\n",
        "\n",
        "y = weight*X + bias\n",
        "\n",
        "X.shape, y.shape"
      ],
      "metadata": {
        "colab": {
          "base_uri": "https://localhost:8080/"
        },
        "id": "tUnmrKWObLfr",
        "outputId": "efb9416f-41e8-45a5-a672-1dc32dbab6a8"
      },
      "execution_count": 2,
      "outputs": [
        {
          "output_type": "execute_result",
          "data": {
            "text/plain": [
              "(torch.Size([50, 1]), torch.Size([50, 1]))"
            ]
          },
          "metadata": {},
          "execution_count": 2
        }
      ]
    },
    {
      "cell_type": "code",
      "source": [
        "len(X), len(y)"
      ],
      "metadata": {
        "colab": {
          "base_uri": "https://localhost:8080/"
        },
        "id": "-nH__XZ7cyUf",
        "outputId": "3dfd5e6c-b252-4783-f94e-e8b6b618c9c6"
      },
      "execution_count": 3,
      "outputs": [
        {
          "output_type": "execute_result",
          "data": {
            "text/plain": [
              "(50, 50)"
            ]
          },
          "metadata": {},
          "execution_count": 3
        }
      ]
    },
    {
      "cell_type": "markdown",
      "source": [
        "## Splitting data into training and testing sets\n",
        "\n",
        "* training set\n",
        "* validation set\n",
        "* test set\n",
        "\n"
      ],
      "metadata": {
        "id": "5g3jtPWsc9PL"
      }
    },
    {
      "cell_type": "code",
      "source": [
        "# train test split of 80:20\n",
        "\n",
        "train_split = int(0.8*len(X))\n",
        "X_train, y_train = X[:train_split], y[:train_split]\n",
        "X_test, y_test = X[train_split:], y[train_split:]\n",
        "X_train.size(), X_test.size(), y_train.size(), y_test.size()"
      ],
      "metadata": {
        "colab": {
          "base_uri": "https://localhost:8080/"
        },
        "id": "TeJja4VJdkol",
        "outputId": "db95039f-172d-4699-85f5-7977533b8795"
      },
      "execution_count": 4,
      "outputs": [
        {
          "output_type": "execute_result",
          "data": {
            "text/plain": [
              "(torch.Size([40, 1]),\n",
              " torch.Size([10, 1]),\n",
              " torch.Size([40, 1]),\n",
              " torch.Size([10, 1]))"
            ]
          },
          "metadata": {},
          "execution_count": 4
        }
      ]
    },
    {
      "cell_type": "markdown",
      "source": [
        "## Data visualization"
      ],
      "metadata": {
        "id": "HA1IWcvw2JWM"
      }
    },
    {
      "cell_type": "code",
      "source": [
        "def plot_prediction(train_data = X_train,\n",
        "                    train_labels = y_train,\n",
        "                    test_data = X_test,\n",
        "                    test_labels = y_test,\n",
        "                    predictions=None):\n",
        "  plt.figure(figsize=(10,7))\n",
        "  plt.scatter(train_data, train_labels, c=\"b\", s=4, label=\"Training data\")\n",
        "\n",
        "  plt.scatter(test_data, test_labels, c=\"g\", s=4, label=\"Testing data\")\n",
        "  if predictions is not None:\n",
        "    plt.scatter(test_data, predictions, c=\"r\", s=4, label = \"Prediction data\")\n",
        "\n",
        "  plt.legend(prop={\"size\":14})"
      ],
      "metadata": {
        "id": "SQLa9xSCe3fY"
      },
      "execution_count": 5,
      "outputs": []
    },
    {
      "cell_type": "code",
      "source": [
        "plot_prediction()"
      ],
      "metadata": {
        "colab": {
          "base_uri": "https://localhost:8080/",
          "height": 599
        },
        "id": "Fm8xuqdefQ_N",
        "outputId": "003714cf-64e6-435e-f6df-fd7d770d0e98"
      },
      "execution_count": 6,
      "outputs": [
        {
          "output_type": "display_data",
          "data": {
            "text/plain": [
              "<Figure size 1000x700 with 1 Axes>"
            ],
            "image/png": "[encoded data removed]"
          },
          "metadata": {}
        }
      ]
    },
    {
      "cell_type": "markdown",
      "source": [
        "# 2. Build Model"
      ],
      "metadata": {
        "id": "chrHXQ1f3aY6"
      }
    },
    {
      "cell_type": "code",
      "source": [
        "# Create a linear regression model class\n",
        "\n",
        "class LinearRegressionModel(nn.Module): # inherits nn.Module\n",
        "  def __init__(self):\n",
        "    super().__init__()\n",
        "    self.weights = nn.Parameter(torch.randn(1,\n",
        "                                             requires_grad = True,\n",
        "                                             dtype = torch.float))\n",
        "    self.bias = nn.Parameter(torch.randn(1, requires_grad = True,\n",
        "                                         dtype = torch.float))\n",
        "\n",
        "  def forward(self, x:torch.Tensor) -> torch.Tensor: # x is the input tensor, the function returns yet another tensor\n",
        "    return self.weights*x + self.bias # linear regression formula"
      ],
      "metadata": {
        "id": "gbyUGOmf31y6"
      },
      "execution_count": 7,
      "outputs": []
    },
    {
      "cell_type": "markdown",
      "source": [
        "## PyTorch Model Building Essentials\n",
        "\n",
        "* `torch.nn` - contains all of the building blocks for computational graphs(neural network)\n",
        "* `torch.nn.Parameter` - defines what parameters should our model try and learn, often a PyTorch layer from torch.nn will set these for us\n",
        "* `torch.nn.Module` - best class for all neural networks modules. If you inherit this, you should override forward()\n",
        "* `torch.optim` - this is where the optimizers in PyTorch live. They help in Gradient Descent learning\n",
        "* `def forward()` - all nn.Module subclasses require you to override forward(). It specifies what heppens at each model call\n"
      ],
      "metadata": {
        "id": "OEpP6WcZ8qoY"
      }
    },
    {
      "cell_type": "markdown",
      "source": [
        "### `.parameter()` - Checking the contents of our PyTorch model\n"
      ],
      "metadata": {
        "id": "jYDw6VmkvX4R"
      }
    },
    {
      "cell_type": "code",
      "source": [
        "torch.manual_seed(42)\n",
        "\n",
        "model_0 = LinearRegressionModel()\n",
        "\n",
        "# check out the parameters\n",
        "list(model_0.parameters())"
      ],
      "metadata": {
        "colab": {
          "base_uri": "https://localhost:8080/"
        },
        "id": "gJcdXeoYjghQ",
        "outputId": "3221f971-2f9e-4868-dc74-3bbf0806ea7c"
      },
      "execution_count": 8,
      "outputs": [
        {
          "output_type": "execute_result",
          "data": {
            "text/plain": [
              "[Parameter containing:\n",
              " tensor([0.3367], requires_grad=True),\n",
              " Parameter containing:\n",
              " tensor([0.1288], requires_grad=True)]"
            ]
          },
          "metadata": {},
          "execution_count": 8
        }
      ]
    },
    {
      "cell_type": "code",
      "source": [
        "# List named parameters\n",
        "model_0.state_dict()"
      ],
      "metadata": {
        "colab": {
          "base_uri": "https://localhost:8080/"
        },
        "id": "0WlqeNCvjtlZ",
        "outputId": "ab896277-0b54-48f2-8bba-1ff91876008f"
      },
      "execution_count": 9,
      "outputs": [
        {
          "output_type": "execute_result",
          "data": {
            "text/plain": [
              "OrderedDict([('weights', tensor([0.3367])), ('bias', tensor([0.1288]))])"
            ]
          },
          "metadata": {},
          "execution_count": 9
        }
      ]
    },
    {
      "cell_type": "markdown",
      "source": [
        "### Making prediction using `torch.inference_mode()`"
      ],
      "metadata": {
        "id": "l8KekMDfkqsQ"
      }
    },
    {
      "cell_type": "code",
      "source": [
        "%%time\n",
        "y_preds = model_0(X_test)\n",
        "y_preds"
      ],
      "metadata": {
        "colab": {
          "base_uri": "https://localhost:8080/"
        },
        "id": "1yStSU5_nZ6n",
        "outputId": "6dd370cd-6d50-480d-e411-d7f2658ea404"
      },
      "execution_count": 10,
      "outputs": [
        {
          "output_type": "stream",
          "name": "stdout",
          "text": [
            "CPU times: user 244 µs, sys: 40 µs, total: 284 µs\n",
            "Wall time: 292 µs\n"
          ]
        },
        {
          "output_type": "execute_result",
          "data": {
            "text/plain": [
              "tensor([[0.3982],\n",
              "        [0.4049],\n",
              "        [0.4116],\n",
              "        [0.4184],\n",
              "        [0.4251],\n",
              "        [0.4318],\n",
              "        [0.4386],\n",
              "        [0.4453],\n",
              "        [0.4520],\n",
              "        [0.4588]], grad_fn=<AddBackward0>)"
            ]
          },
          "metadata": {},
          "execution_count": 10
        }
      ]
    },
    {
      "cell_type": "code",
      "source": [
        "%%time\n",
        "with torch.inference_mode(): #context manager -- turns off gradient tracking and makes predictions faster\n",
        "  y_preds = model_0(X_test)\n",
        "\n",
        "y_preds"
      ],
      "metadata": {
        "colab": {
          "base_uri": "https://localhost:8080/"
        },
        "id": "GFDUYz--lXeC",
        "outputId": "f2eb57c3-901b-4d6a-b1d8-d5796a0dee25"
      },
      "execution_count": 11,
      "outputs": [
        {
          "output_type": "stream",
          "name": "stdout",
          "text": [
            "CPU times: user 1.34 ms, sys: 58 µs, total: 1.4 ms\n",
            "Wall time: 1.4 ms\n"
          ]
        },
        {
          "output_type": "execute_result",
          "data": {
            "text/plain": [
              "tensor([[0.3982],\n",
              "        [0.4049],\n",
              "        [0.4116],\n",
              "        [0.4184],\n",
              "        [0.4251],\n",
              "        [0.4318],\n",
              "        [0.4386],\n",
              "        [0.4453],\n",
              "        [0.4520],\n",
              "        [0.4588]])"
            ]
          },
          "metadata": {},
          "execution_count": 11
        }
      ]
    },
    {
      "cell_type": "code",
      "source": [
        "plot_prediction(predictions = y_preds)"
      ],
      "metadata": {
        "colab": {
          "base_uri": "https://localhost:8080/",
          "height": 599
        },
        "id": "VMRP3ma2mDbc",
        "outputId": "b411912a-1408-4540-aa6f-cb65e0bc1a69"
      },
      "execution_count": 12,
      "outputs": [
        {
          "output_type": "display_data",
          "data": {
            "text/plain": [
              "<Figure size 1000x700 with 1 Axes>"
            ],
            "image/png": "[encoded data removed]"
          },
          "metadata": {}
        }
      ]
    },
    {
      "cell_type": "markdown",
      "source": [
        "# 3. Training our model\n",
        "\n",
        "Make our model move from **unknown** (poor representation) parameters to some **known** (better representation) parameters\n",
        "\n",
        "\n",
        "### Things we need to train:\n",
        "* **Loss Function**:\n",
        "Measures how poor your model's predictions are(aka `cost function`, `criterion`).\n",
        "* **Optimizer**: takes into account the model's loss and adjusts the model's parameters to improve the loss function.\n",
        "\n",
        "For PyTorch, we need:\n",
        "* A Training loop\n",
        "* A Testing loop"
      ],
      "metadata": {
        "id": "smJDMFQwme9O"
      }
    },
    {
      "cell_type": "markdown",
      "source": [
        "Inside the optimizer, you need to set two parameters:\n",
        "* `params` - the model parameters you'd like to optimize.\n",
        "* `lr`(learning rate) - hyperparameter that defines how big/small the optimizer changes the parameters with each step."
      ],
      "metadata": {
        "id": "GFO7jsgZuG4_"
      }
    },
    {
      "cell_type": "code",
      "source": [
        "# Setup a loss function: which to use? problem specific\n",
        "loss_fn = nn.L1Loss()\n",
        "\n",
        "# Setup an Optimizer (Stochastic Gradient descent) which to use? problem specific\n",
        "optimizer = torch.optim.SGD(params=model_0.parameters(),\n",
        "                            lr = 0.01 # learning rate, possibly the most important hyperparameter you can set\n",
        "                           )"
      ],
      "metadata": {
        "id": "adgAYcmn5eQa"
      },
      "execution_count": 13,
      "outputs": []
    },
    {
      "cell_type": "code",
      "source": [
        "loss_fn"
      ],
      "metadata": {
        "colab": {
          "base_uri": "https://localhost:8080/"
        },
        "id": "-HMuojzd7yW6",
        "outputId": "3ef6dea5-a0f1-4675-de4b-ee24e5a50a1c"
      },
      "execution_count": 14,
      "outputs": [
        {
          "output_type": "execute_result",
          "data": {
            "text/plain": [
              "L1Loss()"
            ]
          },
          "metadata": {},
          "execution_count": 14
        }
      ]
    },
    {
      "cell_type": "markdown",
      "source": [
        "### Building a training loop (and a testing loop) in PyTorch\n",
        "\n",
        "Things we need for a training loop:\n",
        "0. Loop through the data\n",
        "1. Forward pass (involves data moving through our model's `forward()` function(s)) to make predictions on data (forward propagation)\n",
        "2. Calculate the loss (compare forward pass predictions to ground truth)\n",
        "3. Optimizer zero grad\n",
        "4. Loss backwards (**backpropagation**)\n",
        "5. Optimizer step - use the optimizer to adjust our model's parameters to try and improve the loss (**gradient descent**)."
      ],
      "metadata": {
        "id": "BQFBmR3T7zmJ"
      }
    },
    {
      "cell_type": "code",
      "source": [
        "# An epoch is one loop through the data... (hyperparameter)\n",
        "epochs = 200\n",
        "# Track //grid search??\n",
        "epoch_count = []\n",
        "loss_values = []\n",
        "test_loss_values = []\n",
        "\n",
        "## Training\n",
        "# 0. Loop through the data\n",
        "for epoch in range(epochs):\n",
        "  # Set the model to training mode\n",
        "  model_0.train() # train mode in pytorch sets all parameters that require gradients to require gradients (yes...opposite to inference mode)\n",
        "\n",
        "  # 1. Forward Pass\n",
        "  y_pred = model_0(X_train)\n",
        "\n",
        "  # 2. Calculate the train loss\n",
        "  loss = loss_fn(y_pred, y_train)\n",
        "\n",
        "  # 3. Optimizer zero grad\n",
        "  optimizer.zero_grad()\n",
        "\n",
        "  # 4. Perform BackPropagation on the loss w.r.t the parameters of the model\n",
        "  loss.backward()\n",
        "\n",
        "  # 5. Step the optimizer (perform Gradient Descent)\n",
        "  optimizer.step() # how the optimizer changes (gradients) will accumulate through the loop. So, we need to set them to zero (step 3)\n",
        "\n",
        "  ## Testing\n",
        "  model_0.eval() # turns off gradient tracking & a couple more things\n",
        "  with torch.inference_mode():\n",
        "    # 1. Do the forward pass\n",
        "    test_pred = model_0(X_test)\n",
        "\n",
        "    # 2. Calculate the test loss\n",
        "    test_loss = loss_fn(test_pred, y_test)\n",
        "\n",
        "    if epoch%10==0:\n",
        "      epoch_count.append(epoch)\n",
        "      loss_values.append(loss)\n",
        "      test_loss_values.append(test_loss)\n",
        "      print(\"Epoch:\", epoch,\" | Loss:\",loss, \" | Test Loss:\", test_loss)\n"
      ],
      "metadata": {
        "id": "Rn5Wya98vASo",
        "colab": {
          "base_uri": "https://localhost:8080/"
        },
        "outputId": "4bf4a741-ee6e-4d50-98c0-f14b363e23ef"
      },
      "execution_count": 15,
      "outputs": [
        {
          "output_type": "stream",
          "name": "stdout",
          "text": [
            "Epoch: 0  | Loss: tensor(0.3129, grad_fn=<MeanBackward0>)  | Test Loss: tensor(0.4811)\n",
            "Epoch: 10  | Loss: tensor(0.1977, grad_fn=<MeanBackward0>)  | Test Loss: tensor(0.3464)\n",
            "Epoch: 20  | Loss: tensor(0.0891, grad_fn=<MeanBackward0>)  | Test Loss: tensor(0.2173)\n",
            "Epoch: 30  | Loss: tensor(0.0531, grad_fn=<MeanBackward0>)  | Test Loss: tensor(0.1446)\n",
            "Epoch: 40  | Loss: tensor(0.0454, grad_fn=<MeanBackward0>)  | Test Loss: tensor(0.1136)\n",
            "Epoch: 50  | Loss: tensor(0.0417, grad_fn=<MeanBackward0>)  | Test Loss: tensor(0.0992)\n",
            "Epoch: 60  | Loss: tensor(0.0382, grad_fn=<MeanBackward0>)  | Test Loss: tensor(0.0889)\n",
            "Epoch: 70  | Loss: tensor(0.0348, grad_fn=<MeanBackward0>)  | Test Loss: tensor(0.0806)\n",
            "Epoch: 80  | Loss: tensor(0.0313, grad_fn=<MeanBackward0>)  | Test Loss: tensor(0.0723)\n",
            "Epoch: 90  | Loss: tensor(0.0279, grad_fn=<MeanBackward0>)  | Test Loss: tensor(0.0647)\n",
            "Epoch: 100  | Loss: tensor(0.0245, grad_fn=<MeanBackward0>)  | Test Loss: tensor(0.0565)\n",
            "Epoch: 110  | Loss: tensor(0.0210, grad_fn=<MeanBackward0>)  | Test Loss: tensor(0.0482)\n",
            "Epoch: 120  | Loss: tensor(0.0176, grad_fn=<MeanBackward0>)  | Test Loss: tensor(0.0406)\n",
            "Epoch: 130  | Loss: tensor(0.0142, grad_fn=<MeanBackward0>)  | Test Loss: tensor(0.0323)\n",
            "Epoch: 140  | Loss: tensor(0.0107, grad_fn=<MeanBackward0>)  | Test Loss: tensor(0.0241)\n",
            "Epoch: 150  | Loss: tensor(0.0073, grad_fn=<MeanBackward0>)  | Test Loss: tensor(0.0165)\n",
            "Epoch: 160  | Loss: tensor(0.0039, grad_fn=<MeanBackward0>)  | Test Loss: tensor(0.0082)\n",
            "Epoch: 170  | Loss: tensor(0.0089, grad_fn=<MeanBackward0>)  | Test Loss: tensor(0.0050)\n",
            "Epoch: 180  | Loss: tensor(0.0089, grad_fn=<MeanBackward0>)  | Test Loss: tensor(0.0050)\n",
            "Epoch: 190  | Loss: tensor(0.0089, grad_fn=<MeanBackward0>)  | Test Loss: tensor(0.0050)\n"
          ]
        }
      ]
    },
    {
      "cell_type": "code",
      "source": [
        "weight, bias #true values (ground truth)"
      ],
      "metadata": {
        "colab": {
          "base_uri": "https://localhost:8080/"
        },
        "id": "jWLeYShk1rmy",
        "outputId": "e6bd0ba5-1001-48cf-b884-e117c65da834"
      },
      "execution_count": 16,
      "outputs": [
        {
          "output_type": "execute_result",
          "data": {
            "text/plain": [
              "(0.7, 0.3)"
            ]
          },
          "metadata": {},
          "execution_count": 16
        }
      ]
    },
    {
      "cell_type": "code",
      "source": [
        "# learned weights\n",
        "model_0.state_dict()"
      ],
      "metadata": {
        "colab": {
          "base_uri": "https://localhost:8080/"
        },
        "id": "WdJa4Jqw3mAA",
        "outputId": "d45515dc-4492-42d2-9540-60ede6ba2ffd"
      },
      "execution_count": 17,
      "outputs": [
        {
          "output_type": "execute_result",
          "data": {
            "text/plain": [
              "OrderedDict([('weights', tensor([0.6990])), ('bias', tensor([0.3093]))])"
            ]
          },
          "metadata": {},
          "execution_count": 17
        }
      ]
    },
    {
      "cell_type": "code",
      "source": [
        "# convert tensors to numpy to plot\n",
        "import numpy as np\n",
        "numpy_loss_values = np.array(torch.tensor(loss_values).numpy())\n",
        "numpy_test_loss_values = np.array(torch.tensor(test_loss_values).numpy())"
      ],
      "metadata": {
        "id": "-TD4EgTP8TpV"
      },
      "execution_count": 21,
      "outputs": []
    },
    {
      "cell_type": "code",
      "source": [
        "# Plot the loss curves\n",
        "\n",
        "plt.plot(epoch_count, numpy_loss_values, label=\"Train loss\")\n",
        "plt.plot(epoch_count, numpy_test_loss_values, label = \"Test loss\")\n",
        "plt.title(\"Training and testing loss curves\")\n",
        "plt.legend()\n",
        "plt.show()"
      ],
      "metadata": {
        "colab": {
          "base_uri": "https://localhost:8080/",
          "height": 452
        },
        "id": "YQVjWuVP7-zN",
        "outputId": "fdaf374a-3d73-44a4-930e-77d1e4a4d67a"
      },
      "execution_count": 23,
      "outputs": [
        {
          "output_type": "display_data",
          "data": {
            "text/plain": [
              "<Figure size 640x480 with 1 Axes>"
            ],
            "image/png": "[encoded data removed]"
          },
          "metadata": {}
        }
      ]
    },
    {
      "cell_type": "code",
      "source": [
        "with torch.inference_mode():\n",
        "  y_preds_new = model_0(X_test)"
      ],
      "metadata": {
        "id": "z_02sRps2GZP"
      },
      "execution_count": 18,
      "outputs": []
    },
    {
      "cell_type": "code",
      "source": [
        "plot_prediction(predictions = y_preds_new)"
      ],
      "metadata": {
        "colab": {
          "base_uri": "https://localhost:8080/",
          "height": 599
        },
        "id": "bG3zCWHA3M_2",
        "outputId": "e65e8242-77cb-4faa-e63c-5c354dc32845"
      },
      "execution_count": 19,
      "outputs": [
        {
          "output_type": "display_data",
          "data": {
            "text/plain": [
              "<Figure size 1000x700 with 1 Axes>"
            ],
            "image/png": "[encoded data removed]"
          },
          "metadata": {}
        }
      ]
    },
    {
      "cell_type": "code",
      "source": [],
      "metadata": {
        "id": "KjNNPdLu6uz_"
      },
      "execution_count": 19,
      "outputs": []
    }
  ]
}