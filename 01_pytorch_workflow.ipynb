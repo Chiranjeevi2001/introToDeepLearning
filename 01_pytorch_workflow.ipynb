{
  "nbformat": 4,
  "nbformat_minor": 0,
  "metadata": {
    "colab": {
      "provenance": [],
      "authorship_tag": "ABX9TyOXoQVOPSA/oVFeYueptxMP",
      "include_colab_link": true
    },
    "kernelspec": {
      "name": "python3",
      "display_name": "Python 3"
    },
    "language_info": {
      "name": "python"
    }
  },
  "cells": [
    {
      "cell_type": "markdown",
      "metadata": {
        "id": "view-in-github",
        "colab_type": "text"
      },
      "source": [
        "<a href=\"https://colab.research.google.com/github/Chiranjeevi2001/introToDeepLearning/blob/main/01_pytorch_workflow.ipynb\" target=\"_parent\"><img src=\"https://colab.research.google.com/assets/colab-badge.svg\" alt=\"Open In Colab\"/></a>"
      ]
    },
    {
      "cell_type": "markdown",
      "source": [
        "#PyTorch Workflow\n",
        "## What is covered here:\n",
        "* Data (prepare and load)\n",
        "* Build model\n",
        "* Fitting the model to data (training)\n",
        "* Making predictions\n",
        "* Saving and loading a model\n",
        "* Putting it all together"
      ],
      "metadata": {
        "id": "jt7HcU0LQixz"
      }
    },
    {
      "cell_type": "code",
      "source": [
        "import torch\n",
        "from torch import nn # nn contains ll of pytorch's building blocks for neural networks\n",
        "import matplotlib.pyplot as plt\n",
        "\n",
        "# check the pytorch version\n",
        "torch.__version__"
      ],
      "metadata": {
        "colab": {
          "base_uri": "https://localhost:8080/",
          "height": 35
        },
        "id": "vAjEfOsYahxo",
        "outputId": "f18b8e4c-e939-4e73-fdc7-48ad474cb000"
      },
      "execution_count": null,
      "outputs": [
        {
          "output_type": "execute_result",
          "data": {
            "text/plain": [
              "'2.1.0+cu121'"
            ],
            "application/vnd.google.colaboratory.intrinsic+json": {
              "type": "string"
            }
          },
          "metadata": {},
          "execution_count": 1
        }
      ]
    },
    {
      "cell_type": "markdown",
      "source": [
        "# 1. Data : Preparing and loading\n",
        "Linear Regression is used to make a straight line with known parameters."
      ],
      "metadata": {
        "id": "VFnhgoMTa_Cr"
      }
    },
    {
      "cell_type": "code",
      "source": [
        "# Linear Regression is used to make a straight line with known parameters.\n",
        "\n",
        "weight = 0.7\n",
        "bias = 0.3\n",
        "\n",
        "# create a range of numbers\n",
        "\n",
        "start = 0\n",
        "end = 1\n",
        "step = 0.02\n",
        "\n",
        "X = torch.arange(start, end, step).unsqueeze(dim=1) # adds extra dimension (with unsqueeze: shape = [50,1] without unsqueeze: shape = [50])\n",
        "\n",
        "y = weight*X + bias\n",
        "\n",
        "X.shape, y.shape"
      ],
      "metadata": {
        "colab": {
          "base_uri": "https://localhost:8080/"
        },
        "id": "tUnmrKWObLfr",
        "outputId": "5d79824f-4652-4e2c-cdc5-535b9aeb4d67"
      },
      "execution_count": null,
      "outputs": [
        {
          "output_type": "execute_result",
          "data": {
            "text/plain": [
              "(torch.Size([50, 1]), torch.Size([50, 1]))"
            ]
          },
          "metadata": {},
          "execution_count": 2
        }
      ]
    },
    {
      "cell_type": "code",
      "source": [
        "len(X), len(y)"
      ],
      "metadata": {
        "colab": {
          "base_uri": "https://localhost:8080/"
        },
        "id": "-nH__XZ7cyUf",
        "outputId": "41fd3346-c919-4a87-c6df-36f54323e7e9"
      },
      "execution_count": null,
      "outputs": [
        {
          "output_type": "execute_result",
          "data": {
            "text/plain": [
              "(50, 50)"
            ]
          },
          "metadata": {},
          "execution_count": 3
        }
      ]
    },
    {
      "cell_type": "markdown",
      "source": [
        "## Splitting data into training and testing sets\n",
        "\n",
        "* training set\n",
        "* validation set\n",
        "* test set\n",
        "\n"
      ],
      "metadata": {
        "id": "5g3jtPWsc9PL"
      }
    },
    {
      "cell_type": "code",
      "source": [
        "# train test split of 80:20\n",
        "\n",
        "train_split = int(0.8*len(X))\n",
        "X_train, y_train = X[:train_split], y[:train_split]\n",
        "X_test, y_test = X[train_split:], y[train_split:]\n",
        "X_train.size(), X_test.size(), y_train.size(), y_test.size()"
      ],
      "metadata": {
        "colab": {
          "base_uri": "https://localhost:8080/"
        },
        "id": "TeJja4VJdkol",
        "outputId": "5e5e9658-8267-4545-b7aa-9d42eea5bf07"
      },
      "execution_count": null,
      "outputs": [
        {
          "output_type": "execute_result",
          "data": {
            "text/plain": [
              "(torch.Size([40, 1]),\n",
              " torch.Size([10, 1]),\n",
              " torch.Size([40, 1]),\n",
              " torch.Size([10, 1]))"
            ]
          },
          "metadata": {},
          "execution_count": 4
        }
      ]
    },
    {
      "cell_type": "markdown",
      "source": [
        "## Data visualization"
      ],
      "metadata": {
        "id": "HA1IWcvw2JWM"
      }
    },
    {
      "cell_type": "code",
      "source": [
        "def plot_prediction(train_data = X_train,\n",
        "                    train_labels = y_train,\n",
        "                    test_data = X_test,\n",
        "                    test_labels = y_test,\n",
        "                    predictions=None):\n",
        "  plt.figure(figsize=(10,7))\n",
        "  plt.scatter(train_data, train_labels, c=\"b\", s=4, label=\"Training data\")\n",
        "\n",
        "  plt.scatter(test_data, test_labels, c=\"g\", s=4, label=\"Testing data\")\n",
        "  if predictions is not None:\n",
        "    plt.scatter(test_data, predictions, c=\"r\", s=4, label = \"Prediction data\")\n",
        "\n",
        "  plt.legend(prop={\"size\":14})"
      ],
      "metadata": {
        "id": "SQLa9xSCe3fY"
      },
      "execution_count": null,
      "outputs": []
    },
    {
      "cell_type": "code",
      "source": [
        "plot_prediction()"
      ],
      "metadata": {
        "colab": {
          "base_uri": "https://localhost:8080/",
          "height": 599
        },
        "id": "Fm8xuqdefQ_N",
        "outputId": "45a2abf2-bdae-4110-fc15-ba83380f93cb"
      },
      "execution_count": null,
      "outputs": [
        {
          "output_type": "display_data",
          "data": {
            "text/plain": [
              "<Figure size 1000x700 with 1 Axes>"
            ],
            "image/png": "[encoded data removed]"
          },
          "metadata": {}
        }
      ]
    },
    {
      "cell_type": "markdown",
      "source": [
        "# 2. Build Model"
      ],
      "metadata": {
        "id": "chrHXQ1f3aY6"
      }
    },
    {
      "cell_type": "code",
      "source": [
        "# Create a linear regression model class\n",
        "\n",
        "class LinearRegressionModel(nn.Module): # inherits nn.Module\n",
        "  def __init__(self):\n",
        "    super().__init__()\n",
        "    self.weights = nn.Parameter(torch.randn(1,\n",
        "                                             requires_grad = True,\n",
        "                                             dtype = torch.float))\n",
        "    self.bias = nn.Parameter(torch.randn(1, requires_grad = True,\n",
        "                                         dtype = torch.float))\n",
        "\n",
        "  def forward(self, x:torch.Tensor) -> torch.Tensor: # x is the input tensor, the function returns yet another tensor\n",
        "    return self.weights*x + self.bias # linear regression formula"
      ],
      "metadata": {
        "id": "gbyUGOmf31y6"
      },
      "execution_count": null,
      "outputs": []
    },
    {
      "cell_type": "markdown",
      "source": [
        "## PyTorch Model Building Essentials\n",
        "\n",
        "* `torch.nn` - contains all of the building blocks for computational graphs(neural network)\n",
        "* `torch.nn.Parameter` - defines what parameters should our model try and learn, often a PyTorch layer from torch.nn will set these for us\n",
        "* `torch.nn.Module` - best class for all neural networks modules. If you inherit this, you should override forward()\n",
        "* `torch.optim` - this is where the optimizers in PyTorch live. They help in Gradient Descent learning\n",
        "* `def forward()` - all nn.Module subclasses require you to override forward(). It specifies what heppens at each model call\n"
      ],
      "metadata": {
        "id": "OEpP6WcZ8qoY"
      }
    },
    {
      "cell_type": "markdown",
      "source": [
        "### `.parameter()` - Checking the contents of our PyTorch model\n"
      ],
      "metadata": {
        "id": "jYDw6VmkvX4R"
      }
    },
    {
      "cell_type": "code",
      "source": [
        "torch.manual_seed(42)\n",
        "\n",
        "model_0 = LinearRegressionModel()\n",
        "\n",
        "# check out the parameters\n",
        "list(model_0.parameters())"
      ],
      "metadata": {
        "colab": {
          "base_uri": "https://localhost:8080/"
        },
        "id": "gJcdXeoYjghQ",
        "outputId": "4b8bc72b-219a-4c01-c71e-bedc8241870b"
      },
      "execution_count": null,
      "outputs": [
        {
          "output_type": "execute_result",
          "data": {
            "text/plain": [
              "[Parameter containing:\n",
              " tensor([0.3367], requires_grad=True),\n",
              " Parameter containing:\n",
              " tensor([0.1288], requires_grad=True)]"
            ]
          },
          "metadata": {},
          "execution_count": 8
        }
      ]
    },
    {
      "cell_type": "code",
      "source": [
        "# List named parameters\n",
        "model_0.state_dict()"
      ],
      "metadata": {
        "colab": {
          "base_uri": "https://localhost:8080/"
        },
        "id": "0WlqeNCvjtlZ",
        "outputId": "de975cbe-4426-41ca-acfc-e08c7e8b9e37"
      },
      "execution_count": null,
      "outputs": [
        {
          "output_type": "execute_result",
          "data": {
            "text/plain": [
              "OrderedDict([('weights', tensor([0.3367])), ('bias', tensor([0.1288]))])"
            ]
          },
          "metadata": {},
          "execution_count": 9
        }
      ]
    },
    {
      "cell_type": "markdown",
      "source": [
        "### Making prediction using `torch.inference_mode()`"
      ],
      "metadata": {
        "id": "l8KekMDfkqsQ"
      }
    },
    {
      "cell_type": "code",
      "source": [
        "%%time\n",
        "y_preds = model_0(X_test)\n",
        "y_preds"
      ],
      "metadata": {
        "colab": {
          "base_uri": "https://localhost:8080/"
        },
        "id": "1yStSU5_nZ6n",
        "outputId": "5837742b-af83-40c1-80fa-6139169589d6"
      },
      "execution_count": null,
      "outputs": [
        {
          "output_type": "stream",
          "name": "stdout",
          "text": [
            "CPU times: user 507 µs, sys: 99 µs, total: 606 µs\n",
            "Wall time: 6.27 ms\n"
          ]
        },
        {
          "output_type": "execute_result",
          "data": {
            "text/plain": [
              "tensor([[0.3982],\n",
              "        [0.4049],\n",
              "        [0.4116],\n",
              "        [0.4184],\n",
              "        [0.4251],\n",
              "        [0.4318],\n",
              "        [0.4386],\n",
              "        [0.4453],\n",
              "        [0.4520],\n",
              "        [0.4588]], grad_fn=<AddBackward0>)"
            ]
          },
          "metadata": {},
          "execution_count": 10
        }
      ]
    },
    {
      "cell_type": "code",
      "source": [
        "%%time\n",
        "with torch.inference_mode(): #context manager -- turns off gradient tracking and makes predictions faster\n",
        "  y_preds = model_0(X_test)\n",
        "\n",
        "y_preds"
      ],
      "metadata": {
        "colab": {
          "base_uri": "https://localhost:8080/"
        },
        "id": "GFDUYz--lXeC",
        "outputId": "0899aa44-e551-4b64-c3d9-09a5d53f835d"
      },
      "execution_count": null,
      "outputs": [
        {
          "output_type": "stream",
          "name": "stdout",
          "text": [
            "CPU times: user 1.27 ms, sys: 51 µs, total: 1.32 ms\n",
            "Wall time: 4.13 ms\n"
          ]
        },
        {
          "output_type": "execute_result",
          "data": {
            "text/plain": [
              "tensor([[0.3982],\n",
              "        [0.4049],\n",
              "        [0.4116],\n",
              "        [0.4184],\n",
              "        [0.4251],\n",
              "        [0.4318],\n",
              "        [0.4386],\n",
              "        [0.4453],\n",
              "        [0.4520],\n",
              "        [0.4588]])"
            ]
          },
          "metadata": {},
          "execution_count": 11
        }
      ]
    },
    {
      "cell_type": "code",
      "source": [
        "plot_prediction(predictions = y_preds)"
      ],
      "metadata": {
        "colab": {
          "base_uri": "https://localhost:8080/",
          "height": 599
        },
        "id": "VMRP3ma2mDbc",
        "outputId": "ddba0116-4542-4dd3-f1e4-d35967f9dc3c"
      },
      "execution_count": null,
      "outputs": [
        {
          "output_type": "display_data",
          "data": {
            "text/plain": [
              "<Figure size 1000x700 with 1 Axes>"
            ],
            "image/png": "[encoded data removed]"
          },
          "metadata": {}
        }
      ]
    },
    {
      "cell_type": "markdown",
      "source": [
        "# 3. Training our model\n",
        "\n",
        "Make our model move from **unknown** (poor representation) parameters to some **known** (better representation) parameters\n",
        "\n",
        "\n",
        "### Things we need to train:\n",
        "* **Loss Function**:\n",
        "Measures how poor your model's predictions are(aka `cost function`, `criterion`).\n",
        "* **Optimizer**: takes into account the model's loss and adjusts the model's parameters to improve the loss function.\n",
        "\n",
        "For PyTorch, we need:\n",
        "* A Training loop\n",
        "* A Testing loop"
      ],
      "metadata": {
        "id": "smJDMFQwme9O"
      }
    },
    {
      "cell_type": "markdown",
      "source": [
        "Inside the optimizer, you need to set two parameters:\n",
        "* `params` - the model parameters you'd like to optimize.\n",
        "* `lr`(learning rate) - hyperparameter that defines how big/small the optimizer changes the parameters with each step."
      ],
      "metadata": {
        "id": "GFO7jsgZuG4_"
      }
    },
    {
      "cell_type": "code",
      "source": [
        "# Setup a loss function: which to use? problem specific\n",
        "loss_fn = nn.L1Loss()\n",
        "\n",
        "# Setup an Optimizer (Stochastic Gradient descent) which to use? problem specific\n",
        "optimizer = torch.optim.SGD(params=model_0.parameters(),\n",
        "                            lr = 0.01 # learning rate, possibly the most important hyperparameter you can set\n",
        "                           )"
      ],
      "metadata": {
        "id": "adgAYcmn5eQa"
      },
      "execution_count": null,
      "outputs": []
    },
    {
      "cell_type": "code",
      "source": [
        "loss_fn"
      ],
      "metadata": {
        "colab": {
          "base_uri": "https://localhost:8080/"
        },
        "id": "-HMuojzd7yW6",
        "outputId": "40701ad0-9238-404c-a08c-66b32f8bab0a"
      },
      "execution_count": null,
      "outputs": [
        {
          "output_type": "execute_result",
          "data": {
            "text/plain": [
              "L1Loss()"
            ]
          },
          "metadata": {},
          "execution_count": 14
        }
      ]
    },
    {
      "cell_type": "markdown",
      "source": [
        "### Building a training loop (and a testing loop) in PyTorch\n",
        "\n",
        "Things we need for a training loop:\n",
        "0. Loop through the data\n",
        "1. Forward pass (involves data moving through our model's `forward()` function(s)) to make predictions on data (forward propagation)\n",
        "2. Calculate the loss (compare forward pass predictions to ground truth)\n",
        "3. Optimizer zero grad\n",
        "4. Loss backwards (**backpropagation**)\n",
        "5. Optimizer step - use the optimizer to adjust our model's parameters to try and improve the loss (**gradient descent**)."
      ],
      "metadata": {
        "id": "BQFBmR3T7zmJ"
      }
    },
    {
      "cell_type": "code",
      "source": [
        "# An epoch is one loop through the data... (hyperparameter)\n",
        "epochs = 200\n",
        "# Track //grid search??\n",
        "epoch_count = []\n",
        "loss_values = []\n",
        "test_loss_values = []\n",
        "\n",
        "## Training\n",
        "# 0. Loop through the data\n",
        "for epoch in range(epochs):\n",
        "  # Set the model to training mode\n",
        "  model_0.train() # train mode in pytorch sets all parameters that require gradients to require gradients (yes...opposite to inference mode)\n",
        "\n",
        "  # 1. Forward Pass\n",
        "  y_pred = model_0(X_train)\n",
        "\n",
        "  # 2. Calculate the train loss\n",
        "  loss = loss_fn(y_pred, y_train)\n",
        "\n",
        "  # 3. Optimizer zero grad\n",
        "  optimizer.zero_grad()\n",
        "\n",
        "  # 4. Perform BackPropagation on the loss w.r.t the parameters of the model\n",
        "  loss.backward()\n",
        "\n",
        "  # 5. Step the optimizer (perform Gradient Descent)\n",
        "  optimizer.step() # how the optimizer changes (gradients) will accumulate through the loop. So, we need to set them to zero (step 3)\n",
        "\n",
        "  ## Testing\n",
        "  model_0.eval() # turns off gradient tracking & a couple more things\n",
        "  with torch.inference_mode():\n",
        "    # 1. Do the forward pass\n",
        "    test_pred = model_0(X_test)\n",
        "\n",
        "    # 2. Calculate the test loss\n",
        "    test_loss = loss_fn(test_pred, y_test)\n",
        "\n",
        "    if epoch%10==0:\n",
        "      epoch_count.append(epoch)\n",
        "      loss_values.append(loss)\n",
        "      test_loss_values.append(test_loss)\n",
        "      print(\"Epoch:\", epoch,\" | Loss:\",loss, \" | Test Loss:\", test_loss)\n"
      ],
      "metadata": {
        "id": "Rn5Wya98vASo",
        "colab": {
          "base_uri": "https://localhost:8080/"
        },
        "outputId": "7e12cb2f-21fc-4631-f790-661883435143"
      },
      "execution_count": null,
      "outputs": [
        {
          "output_type": "stream",
          "name": "stdout",
          "text": [
            "Epoch: 0  | Loss: tensor(0.3129, grad_fn=<MeanBackward0>)  | Test Loss: tensor(0.4811)\n",
            "Epoch: 10  | Loss: tensor(0.1977, grad_fn=<MeanBackward0>)  | Test Loss: tensor(0.3464)\n",
            "Epoch: 20  | Loss: tensor(0.0891, grad_fn=<MeanBackward0>)  | Test Loss: tensor(0.2173)\n",
            "Epoch: 30  | Loss: tensor(0.0531, grad_fn=<MeanBackward0>)  | Test Loss: tensor(0.1446)\n",
            "Epoch: 40  | Loss: tensor(0.0454, grad_fn=<MeanBackward0>)  | Test Loss: tensor(0.1136)\n",
            "Epoch: 50  | Loss: tensor(0.0417, grad_fn=<MeanBackward0>)  | Test Loss: tensor(0.0992)\n",
            "Epoch: 60  | Loss: tensor(0.0382, grad_fn=<MeanBackward0>)  | Test Loss: tensor(0.0889)\n",
            "Epoch: 70  | Loss: tensor(0.0348, grad_fn=<MeanBackward0>)  | Test Loss: tensor(0.0806)\n",
            "Epoch: 80  | Loss: tensor(0.0313, grad_fn=<MeanBackward0>)  | Test Loss: tensor(0.0723)\n",
            "Epoch: 90  | Loss: tensor(0.0279, grad_fn=<MeanBackward0>)  | Test Loss: tensor(0.0647)\n",
            "Epoch: 100  | Loss: tensor(0.0245, grad_fn=<MeanBackward0>)  | Test Loss: tensor(0.0565)\n",
            "Epoch: 110  | Loss: tensor(0.0210, grad_fn=<MeanBackward0>)  | Test Loss: tensor(0.0482)\n",
            "Epoch: 120  | Loss: tensor(0.0176, grad_fn=<MeanBackward0>)  | Test Loss: tensor(0.0406)\n",
            "Epoch: 130  | Loss: tensor(0.0142, grad_fn=<MeanBackward0>)  | Test Loss: tensor(0.0323)\n",
            "Epoch: 140  | Loss: tensor(0.0107, grad_fn=<MeanBackward0>)  | Test Loss: tensor(0.0241)\n",
            "Epoch: 150  | Loss: tensor(0.0073, grad_fn=<MeanBackward0>)  | Test Loss: tensor(0.0165)\n",
            "Epoch: 160  | Loss: tensor(0.0039, grad_fn=<MeanBackward0>)  | Test Loss: tensor(0.0082)\n",
            "Epoch: 170  | Loss: tensor(0.0089, grad_fn=<MeanBackward0>)  | Test Loss: tensor(0.0050)\n",
            "Epoch: 180  | Loss: tensor(0.0089, grad_fn=<MeanBackward0>)  | Test Loss: tensor(0.0050)\n",
            "Epoch: 190  | Loss: tensor(0.0089, grad_fn=<MeanBackward0>)  | Test Loss: tensor(0.0050)\n"
          ]
        }
      ]
    },
    {
      "cell_type": "code",
      "source": [
        "weight, bias #true values (ground truth)"
      ],
      "metadata": {
        "colab": {
          "base_uri": "https://localhost:8080/"
        },
        "id": "jWLeYShk1rmy",
        "outputId": "12fdb0b1-4b0c-4fee-b0f6-ef0c225129bd"
      },
      "execution_count": null,
      "outputs": [
        {
          "output_type": "execute_result",
          "data": {
            "text/plain": [
              "(0.7, 0.3)"
            ]
          },
          "metadata": {},
          "execution_count": 16
        }
      ]
    },
    {
      "cell_type": "code",
      "source": [
        "# learned weights\n",
        "model_0.state_dict()"
      ],
      "metadata": {
        "colab": {
          "base_uri": "https://localhost:8080/"
        },
        "id": "WdJa4Jqw3mAA",
        "outputId": "ec2a05a2-5c8c-4136-8e79-f3c51355406f"
      },
      "execution_count": null,
      "outputs": [
        {
          "output_type": "execute_result",
          "data": {
            "text/plain": [
              "OrderedDict([('weights', tensor([0.6990])), ('bias', tensor([0.3093]))])"
            ]
          },
          "metadata": {},
          "execution_count": 17
        }
      ]
    },
    {
      "cell_type": "code",
      "source": [
        "# convert tensors to numpy to plot\n",
        "import numpy as np\n",
        "numpy_loss_values = np.array(torch.tensor(loss_values).numpy())\n",
        "numpy_test_loss_values = np.array(torch.tensor(test_loss_values).numpy())"
      ],
      "metadata": {
        "id": "-TD4EgTP8TpV"
      },
      "execution_count": null,
      "outputs": []
    },
    {
      "cell_type": "code",
      "source": [
        "# Plot the loss curves\n",
        "\n",
        "plt.plot(epoch_count, numpy_loss_values, label=\"Train loss\")\n",
        "plt.plot(epoch_count, numpy_test_loss_values, label = \"Test loss\")\n",
        "plt.title(\"Training and testing loss curves\")\n",
        "plt.legend()\n",
        "plt.show()"
      ],
      "metadata": {
        "colab": {
          "base_uri": "https://localhost:8080/",
          "height": 452
        },
        "id": "YQVjWuVP7-zN",
        "outputId": "2d6a8877-a52f-47b0-9c88-a78c793dc5dd"
      },
      "execution_count": null,
      "outputs": [
        {
          "output_type": "display_data",
          "data": {
            "text/plain": [
              "<Figure size 640x480 with 1 Axes>"
            ],
            "image/png": "[encoded data removed]"
          },
          "metadata": {}
        }
      ]
    },
    {
      "cell_type": "markdown",
      "source": [
        "## 4. Making Predictions"
      ],
      "metadata": {
        "id": "I1G-Flgr9uM8"
      }
    },
    {
      "cell_type": "code",
      "source": [
        "with torch.inference_mode():\n",
        "  y_preds_new = model_0(X_test)"
      ],
      "metadata": {
        "id": "z_02sRps2GZP"
      },
      "execution_count": null,
      "outputs": []
    },
    {
      "cell_type": "code",
      "source": [
        "plot_prediction(predictions = y_preds_new)"
      ],
      "metadata": {
        "colab": {
          "base_uri": "https://localhost:8080/",
          "height": 599
        },
        "id": "bG3zCWHA3M_2",
        "outputId": "ac8dd3c7-c36b-452f-fd19-d423034115ca"
      },
      "execution_count": null,
      "outputs": [
        {
          "output_type": "display_data",
          "data": {
            "text/plain": [
              "<Figure size 1000x700 with 1 Axes>"
            ],
            "image/png": "[encoded data removed]"
          },
          "metadata": {}
        }
      ]
    },
    {
      "cell_type": "markdown",
      "source": [
        "## 5. Save and load models\n",
        "\n",
        "Three main methods for saving and loading models in PyTorch\n",
        "1. `torch.save()` : Allows you to save a model in python pickle format\n",
        "2. `torch.load()` : Allows you to load a saved model\n",
        "3. `torch.nn.Module.load_state_dict()` : Allows you to load a model's saved state dictionary (trained parameters)"
      ],
      "metadata": {
        "id": "KjNNPdLu6uz_"
      }
    },
    {
      "cell_type": "code",
      "source": [
        "# saving a model\n",
        "from pathlib import Path\n",
        "\n",
        "# 1. Create a model directory\n",
        "MODEL_PATH = Path(\"models\")\n",
        "MODEL_PATH.mkdir(parents=True, exist_ok=True)\n",
        "\n",
        "# 2. Create a model save path\n",
        "MODEL_NAME = \"01_pytorch_workflow_model_0.pth\"\n",
        "MODEL_SAVE_PATH = MODEL_PATH / MODEL_NAME\n",
        "MODEL_SAVE_PATH\n",
        "\n",
        "# 3. Save the model's state_dict()\n",
        "print(\"Saving model to:\", MODEL_SAVE_PATH)\n",
        "torch.save(obj = model_0.state_dict(), f = MODEL_SAVE_PATH)"
      ],
      "metadata": {
        "colab": {
          "base_uri": "https://localhost:8080/"
        },
        "id": "ZKeYSjaN98L9",
        "outputId": "822346fb-d756-43a6-9ee9-03d612c3cc8d"
      },
      "execution_count": null,
      "outputs": [
        {
          "output_type": "stream",
          "name": "stdout",
          "text": [
            "Saving model to: models/01_pytorch_workflow_model_0.pth\n"
          ]
        }
      ]
    },
    {
      "cell_type": "code",
      "source": [
        "!ls -l models"
      ],
      "metadata": {
        "colab": {
          "base_uri": "https://localhost:8080/"
        },
        "id": "3dBLwdfqAHW-",
        "outputId": "be64595c-4260-4934-be61-0b0a4c350ab8"
      },
      "execution_count": null,
      "outputs": [
        {
          "output_type": "stream",
          "name": "stdout",
          "text": [
            "total 4\n",
            "-rw-r--r-- 1 root root 1680 Feb 23 18:06 01_pytorch_workflow_model_0.pth\n"
          ]
        }
      ]
    },
    {
      "cell_type": "markdown",
      "source": [
        "### Loading the model\n",
        "Since we saved the `state_dict()` rather than the entire model, we'll create a new instance of the model class and load the saved `state_dict()` into that."
      ],
      "metadata": {
        "id": "qMx9JqtUAt7i"
      }
    },
    {
      "cell_type": "code",
      "source": [
        "loaded_model_0 = LinearRegressionModel()\n",
        "loaded_model_0.load_state_dict(torch.load(f = MODEL_SAVE_PATH))"
      ],
      "metadata": {
        "colab": {
          "base_uri": "https://localhost:8080/"
        },
        "id": "DGZFnyWWJHyF",
        "outputId": "e78b17de-a554-4dd1-995e-bcda7c39c44d"
      },
      "execution_count": null,
      "outputs": [
        {
          "output_type": "execute_result",
          "data": {
            "text/plain": [
              "<All keys matched successfully>"
            ]
          },
          "metadata": {},
          "execution_count": 24
        }
      ]
    },
    {
      "cell_type": "code",
      "source": [
        "loaded_model_0.state_dict()"
      ],
      "metadata": {
        "colab": {
          "base_uri": "https://localhost:8080/"
        },
        "id": "q2UbeUUXMJ4l",
        "outputId": "0c209a66-4f2e-4036-c597-e89c66b5b007"
      },
      "execution_count": null,
      "outputs": [
        {
          "output_type": "execute_result",
          "data": {
            "text/plain": [
              "OrderedDict([('weights', tensor([0.6990])), ('bias', tensor([0.3093]))])"
            ]
          },
          "metadata": {},
          "execution_count": 25
        }
      ]
    },
    {
      "cell_type": "code",
      "source": [
        "loaded_model_0.eval()\n",
        "with torch.inference_mode():\n",
        "  loaded_model_preds = loaded_model_0(X_test)\n",
        "loaded_model_preds"
      ],
      "metadata": {
        "colab": {
          "base_uri": "https://localhost:8080/"
        },
        "id": "i59AxTB1MMJC",
        "outputId": "d817fb5f-5ef9-48c7-946b-3fee6fa296bb"
      },
      "execution_count": null,
      "outputs": [
        {
          "output_type": "execute_result",
          "data": {
            "text/plain": [
              "tensor([[0.8685],\n",
              "        [0.8825],\n",
              "        [0.8965],\n",
              "        [0.9105],\n",
              "        [0.9245],\n",
              "        [0.9384],\n",
              "        [0.9524],\n",
              "        [0.9664],\n",
              "        [0.9804],\n",
              "        [0.9944]])"
            ]
          },
          "metadata": {},
          "execution_count": 26
        }
      ]
    },
    {
      "cell_type": "code",
      "source": [
        "plot_prediction(predictions = loaded_model_preds) # essentially the same prediction values as model_0"
      ],
      "metadata": {
        "colab": {
          "base_uri": "https://localhost:8080/",
          "height": 599
        },
        "id": "wV_duPkAMR13",
        "outputId": "5633ca3c-40ab-4d0e-9fc0-e6889defc1b3"
      },
      "execution_count": null,
      "outputs": [
        {
          "output_type": "display_data",
          "data": {
            "text/plain": [
              "<Figure size 1000x700 with 1 Axes>"
            ],
            "image/png": "[encoded data removed]"
          },
          "metadata": {}
        }
      ]
    },
    {
      "cell_type": "markdown",
      "source": [
        "## 6. Putting it all together"
      ],
      "metadata": {
        "id": "f7L5YG-vM7oM"
      }
    },
    {
      "cell_type": "code",
      "source": [
        "# Import pytorch and matplotlib\n",
        "import torch\n",
        "import matplotlib.pyplot as plt\n",
        "from torch import nn\n",
        "torch.__version__"
      ],
      "metadata": {
        "colab": {
          "base_uri": "https://localhost:8080/",
          "height": 35
        },
        "id": "SSIuXWgnJv-p",
        "outputId": "eca6334f-fb17-495e-9c6d-036470129774"
      },
      "execution_count": null,
      "outputs": [
        {
          "output_type": "execute_result",
          "data": {
            "text/plain": [
              "'2.1.0+cu121'"
            ],
            "application/vnd.google.colaboratory.intrinsic+json": {
              "type": "string"
            }
          },
          "metadata": {},
          "execution_count": 29
        }
      ]
    },
    {
      "cell_type": "code",
      "source": [
        "# create device-agnostic code\n",
        "device = 'cuda' if torch.cuda.is_available() else 'cpu'\n",
        "print(f\"Using device: {device}\")"
      ],
      "metadata": {
        "colab": {
          "base_uri": "https://localhost:8080/"
        },
        "id": "y2R5nqgOKNgy",
        "outputId": "07eaf8d0-4ab9-45fe-f9a5-03e65363f271"
      },
      "execution_count": null,
      "outputs": [
        {
          "output_type": "stream",
          "name": "stdout",
          "text": [
            "Using device: cpu\n"
          ]
        }
      ]
    },
    {
      "cell_type": "markdown",
      "source": [
        "### 6.1 Data"
      ],
      "metadata": {
        "id": "fbEw94CfJrfj"
      }
    },
    {
      "cell_type": "code",
      "source": [
        "# creating a dummy dataset\n",
        "\n",
        "weight = 0.9\n",
        "bias = 0.5\n",
        "start = -10\n",
        "end = 10\n",
        "step = 40\n",
        "x = torch.linspace(start, end, step).unsqueeze(dim=1) # without unsqueeze, dimensionality errors will popup\n",
        "y = weight*x + bias\n",
        "x.shape, y.shape"
      ],
      "metadata": {
        "colab": {
          "base_uri": "https://localhost:8080/"
        },
        "id": "xnPGckcmJt6E",
        "outputId": "79a13bad-979a-49eb-f17d-92c5fc5aed4e"
      },
      "execution_count": null,
      "outputs": [
        {
          "output_type": "execute_result",
          "data": {
            "text/plain": [
              "(torch.Size([40, 1]), torch.Size([40, 1]))"
            ]
          },
          "metadata": {},
          "execution_count": 49
        }
      ]
    },
    {
      "cell_type": "code",
      "source": [
        "# split the data\n",
        "train_split = int(0.8 * len(x))\n",
        "\n",
        "x_train = x[:train_split]\n",
        "y_train = y[:train_split]\n",
        "x_test = x[train_split:]\n",
        "y_test = y[train_split:]\n",
        "\n",
        "x_train.shape, x_test.shape"
      ],
      "metadata": {
        "colab": {
          "base_uri": "https://localhost:8080/"
        },
        "id": "-cZ8KaKiK-e1",
        "outputId": "25c5f2c1-95db-4b26-ef97-62d1d367eb5c"
      },
      "execution_count": null,
      "outputs": [
        {
          "output_type": "execute_result",
          "data": {
            "text/plain": [
              "(torch.Size([32, 1]), torch.Size([8, 1]))"
            ]
          },
          "metadata": {},
          "execution_count": 50
        }
      ]
    },
    {
      "cell_type": "code",
      "source": [
        "# plot the data\n",
        "\n",
        "def plot_predictions(x_train = x_train, y_train = y_train, x_test = x_test,y_test =  y_test,predictions = None):\n",
        "  plt.figure()\n",
        "  plt.scatter(x_train, y_train, c='b',s=10, label=\"Training data\")\n",
        "  plt.scatter(x_test, y_test, c='r', s=10, label=\"Testing data\")\n",
        "  if(predictions!=None):\n",
        "    plt.scatter(x_test, predictions, c='g', s=9, label = \"Predictions\")\n",
        "  plt.legend()\n",
        "  plt.show()\n",
        "\n",
        "plot_predictions()\n"
      ],
      "metadata": {
        "colab": {
          "base_uri": "https://localhost:8080/",
          "height": 430
        },
        "id": "qHPk8rQWLxP7",
        "outputId": "6a5de81d-805b-4e18-d801-550f181d5d00"
      },
      "execution_count": null,
      "outputs": [
        {
          "output_type": "display_data",
          "data": {
            "text/plain": [
              "<Figure size 640x480 with 1 Axes>"
            ],
            "image/png": "[encoded data removed]"
          },
          "metadata": {}
        }
      ]
    },
    {
      "cell_type": "markdown",
      "source": [
        "### 6.2 Create a Linear Model by subclassing nn.Module"
      ],
      "metadata": {
        "id": "ojzPYSokR778"
      }
    },
    {
      "cell_type": "code",
      "source": [
        "\n",
        "class LinearRegressionModelv2(nn.Module):\n",
        "  def __init__(self):\n",
        "    super().__init__()\n",
        "    # Use nn.Linear() for creating the model parameters\n",
        "    self.linear_layer = nn.Linear(in_features = 1,\n",
        "                                  out_features = 1) # one value of x is mapped to one value of y\n",
        "  def forward(self, x: torch.Tensor) -> torch.Tensor:\n",
        "    return self.linear_layer(x)\n",
        "\n",
        "# set the manual seed\n",
        "torch.manual_seed(42)\n",
        "model_1 = LinearRegressionModelv2()\n",
        "model_1.state_dict()"
      ],
      "metadata": {
        "colab": {
          "base_uri": "https://localhost:8080/"
        },
        "id": "aNU_HwOpMho0",
        "outputId": "6c8c85c1-2942-464b-d964-872ac11be33c"
      },
      "execution_count": null,
      "outputs": [
        {
          "output_type": "execute_result",
          "data": {
            "text/plain": [
              "OrderedDict([('linear_layer.weight', tensor([[0.7645]])),\n",
              "             ('linear_layer.bias', tensor([0.8300]))])"
            ]
          },
          "metadata": {},
          "execution_count": 68
        }
      ]
    },
    {
      "cell_type": "code",
      "source": [
        "model_1.to(device)"
      ],
      "metadata": {
        "colab": {
          "base_uri": "https://localhost:8080/"
        },
        "id": "08nBnhKUQHY0",
        "outputId": "535d509a-cb5f-46c2-d21c-b318a3400f3b"
      },
      "execution_count": null,
      "outputs": [
        {
          "output_type": "execute_result",
          "data": {
            "text/plain": [
              "LinearRegressionModelv2(\n",
              "  (linear_layer): Linear(in_features=1, out_features=1, bias=True)\n",
              ")"
            ]
          },
          "metadata": {},
          "execution_count": 69
        }
      ]
    },
    {
      "cell_type": "code",
      "source": [
        "next(model_1.parameters()).device"
      ],
      "metadata": {
        "colab": {
          "base_uri": "https://localhost:8080/"
        },
        "id": "E6ABh3otRulI",
        "outputId": "520a286a-bff3-42e2-ea04-b4ea6c9b77e3"
      },
      "execution_count": null,
      "outputs": [
        {
          "output_type": "execute_result",
          "data": {
            "text/plain": [
              "device(type='cpu')"
            ]
          },
          "metadata": {},
          "execution_count": 70
        }
      ]
    },
    {
      "cell_type": "markdown",
      "source": [
        "### 6.3 Training"
      ],
      "metadata": {
        "id": "3C-3XDpJRzZX"
      }
    },
    {
      "cell_type": "code",
      "source": [
        "# Setup loss function and optimizer\n",
        "loss_fn = nn.L1Loss()\n",
        "optimizer = torch.optim.SGD(params = model_1.parameters(), lr=0.01)"
      ],
      "metadata": {
        "id": "zQCcLdk1SG7r"
      },
      "execution_count": null,
      "outputs": []
    },
    {
      "cell_type": "code",
      "source": [
        "torch.manual_seed(42)\n",
        "epochs = 200\n",
        "\n",
        "for epoch in range(epochs):\n",
        "  model_1.train()\n",
        "\n",
        "  # 1. Forward pass\n",
        "  y_pred = model_1(x_train)\n",
        "  # 2. calculate loss\n",
        "  loss_value = loss_fn(y_pred, y_train)\n",
        "  # 3. Optimizer zero grad\n",
        "  optimizer.zero_grad()\n",
        "\n",
        "  # 4. perform backpropagation\n",
        "  loss_value.backward()\n",
        "\n",
        "  # 5. Optimizer step\n",
        "  optimizer.step()\n",
        "\n",
        "  ## Testing\n",
        "  model_1.eval()\n",
        "  with torch.inference_mode():\n",
        "    test_pred = model_1(x_test)\n",
        "    test_loss = loss_fn(test_pred, y_test)\n",
        "\n",
        "  if epoch%10 == 0:\n",
        "    print(f\"Epoch:{epoch} Training loss:{loss_value} Testing loss:{test_loss} weights:{model_1.state_dict()}\")\n"
      ],
      "metadata": {
        "colab": {
          "base_uri": "https://localhost:8080/"
        },
        "id": "VlUkWV02SooU",
        "outputId": "c21ef1e9-d95a-4954-bc67-c84fd7080428"
      },
      "execution_count": null,
      "outputs": [
        {
          "output_type": "stream",
          "name": "stdout",
          "text": [
            "Epoch:0 Training loss:0.7218310236930847 Testing loss:0.4623093605041504 weights:OrderedDict([('linear_layer.weight', tensor([[0.8041]])), ('linear_layer.bias', tensor([0.8244]))])\n",
            "Epoch:10 Training loss:0.21098101139068604 Testing loss:0.5644266605377197 weights:OrderedDict([('linear_layer.weight', tensor([[0.9395]])), ('linear_layer.bias', tensor([0.7400]))])\n",
            "Epoch:20 Training loss:0.1605384796857834 Testing loss:0.4005720615386963 weights:OrderedDict([('linear_layer.weight', tensor([[0.9285]])), ('linear_layer.bias', tensor([0.6669]))])\n",
            "Epoch:30 Training loss:0.1100960373878479 Testing loss:0.2367175817489624 weights:OrderedDict([('linear_layer.weight', tensor([[0.9174]])), ('linear_layer.bias', tensor([0.5938]))])\n",
            "Epoch:40 Training loss:0.10875067114830017 Testing loss:0.2091357707977295 weights:OrderedDict([('linear_layer.weight', tensor([[0.9203]])), ('linear_layer.bias', tensor([0.5425]))])\n",
            "Epoch:50 Training loss:0.10708705335855484 Testing loss:0.18913602828979492 weights:OrderedDict([('linear_layer.weight', tensor([[0.9203]])), ('linear_layer.bias', tensor([0.5225]))])\n",
            "Epoch:60 Training loss:0.10530202090740204 Testing loss:0.17913603782653809 weights:OrderedDict([('linear_layer.weight', tensor([[0.9203]])), ('linear_layer.bias', tensor([0.5125]))])\n",
            "Epoch:70 Training loss:0.10334889590740204 Testing loss:0.17288565635681152 weights:OrderedDict([('linear_layer.weight', tensor([[0.9203]])), ('linear_layer.bias', tensor([0.5063]))])\n",
            "Epoch:80 Training loss:0.10498899221420288 Testing loss:0.16581642627716064 weights:OrderedDict([('linear_layer.weight', tensor([[0.9198]])), ('linear_layer.bias', tensor([0.5031]))])\n",
            "Epoch:90 Training loss:0.10498899221420288 Testing loss:0.16581642627716064 weights:OrderedDict([('linear_layer.weight', tensor([[0.9198]])), ('linear_layer.bias', tensor([0.5031]))])\n",
            "Epoch:100 Training loss:0.10498899221420288 Testing loss:0.16581642627716064 weights:OrderedDict([('linear_layer.weight', tensor([[0.9198]])), ('linear_layer.bias', tensor([0.5031]))])\n",
            "Epoch:110 Training loss:0.10498899221420288 Testing loss:0.16581642627716064 weights:OrderedDict([('linear_layer.weight', tensor([[0.9198]])), ('linear_layer.bias', tensor([0.5031]))])\n",
            "Epoch:120 Training loss:0.10498899221420288 Testing loss:0.16581642627716064 weights:OrderedDict([('linear_layer.weight', tensor([[0.9198]])), ('linear_layer.bias', tensor([0.5031]))])\n",
            "Epoch:130 Training loss:0.10498899221420288 Testing loss:0.16581642627716064 weights:OrderedDict([('linear_layer.weight', tensor([[0.9198]])), ('linear_layer.bias', tensor([0.5031]))])\n",
            "Epoch:140 Training loss:0.10498899221420288 Testing loss:0.16581642627716064 weights:OrderedDict([('linear_layer.weight', tensor([[0.9198]])), ('linear_layer.bias', tensor([0.5031]))])\n",
            "Epoch:150 Training loss:0.10498899221420288 Testing loss:0.16581642627716064 weights:OrderedDict([('linear_layer.weight', tensor([[0.9198]])), ('linear_layer.bias', tensor([0.5031]))])\n",
            "Epoch:160 Training loss:0.10498899221420288 Testing loss:0.16581642627716064 weights:OrderedDict([('linear_layer.weight', tensor([[0.9198]])), ('linear_layer.bias', tensor([0.5031]))])\n",
            "Epoch:170 Training loss:0.10498899221420288 Testing loss:0.16581642627716064 weights:OrderedDict([('linear_layer.weight', tensor([[0.9198]])), ('linear_layer.bias', tensor([0.5031]))])\n",
            "Epoch:180 Training loss:0.10498899221420288 Testing loss:0.16581642627716064 weights:OrderedDict([('linear_layer.weight', tensor([[0.9198]])), ('linear_layer.bias', tensor([0.5031]))])\n",
            "Epoch:190 Training loss:0.10498899221420288 Testing loss:0.16581642627716064 weights:OrderedDict([('linear_layer.weight', tensor([[0.9198]])), ('linear_layer.bias', tensor([0.5031]))])\n"
          ]
        }
      ]
    },
    {
      "cell_type": "code",
      "source": [
        "model_1.state_dict()"
      ],
      "metadata": {
        "colab": {
          "base_uri": "https://localhost:8080/"
        },
        "id": "tVJUr6b4StUG",
        "outputId": "3137bcb6-8722-42f8-f39c-75cad9c021ef"
      },
      "execution_count": null,
      "outputs": [
        {
          "output_type": "execute_result",
          "data": {
            "text/plain": [
              "OrderedDict([('linear_layer.weight', tensor([[0.8762]])),\n",
              "             ('linear_layer.bias', tensor([0.5056]))])"
            ]
          },
          "metadata": {},
          "execution_count": 73
        }
      ]
    },
    {
      "cell_type": "markdown",
      "source": [
        "### 6.4 Making Predictions"
      ],
      "metadata": {
        "id": "_Zu3lvnMWklS"
      }
    },
    {
      "cell_type": "code",
      "source": [
        "with torch.inference_mode():\n",
        "  y_preds = model_1(x_test)\n",
        "plot_predictions(predictions=y_preds)"
      ],
      "metadata": {
        "colab": {
          "base_uri": "https://localhost:8080/",
          "height": 430
        },
        "id": "G2ROmEh_VoCl",
        "outputId": "f39fcec0-3659-486d-fb50-6a0168fdd034"
      },
      "execution_count": null,
      "outputs": [
        {
          "output_type": "display_data",
          "data": {
            "text/plain": [
              "<Figure size 640x480 with 1 Axes>"
            ],
            "image/png": "[encoded data removed]"
          },
          "metadata": {}
        }
      ]
    },
    {
      "cell_type": "markdown",
      "source": [
        "### 6.5 Saving and loading a model"
      ],
      "metadata": {
        "id": "2rV26-aGV7mX"
      }
    },
    {
      "cell_type": "code",
      "source": [
        "from pathlib import Path\n",
        "\n",
        "# 1. create models directory\n",
        "MODEL_PATH = Path(\"models\")\n",
        "MODEL_PATH.mkdir(parents=True, exist_ok=True)\n",
        "\n",
        "# 2. create a model save path\n",
        "MODEL_NAME = \"01_pytorch_workflow_model_1.pth\"\n",
        "\n",
        "MODEL_SAVE_PATH = MODEL_PATH/MODEL_NAME\n",
        "\n",
        "MODEL_SAVE_PATH"
      ],
      "metadata": {
        "colab": {
          "base_uri": "https://localhost:8080/"
        },
        "id": "cH96a7FJWqxK",
        "outputId": "dccb3032-a09b-4094-ed7a-9aac892759b5"
      },
      "execution_count": null,
      "outputs": [
        {
          "output_type": "execute_result",
          "data": {
            "text/plain": [
              "PosixPath('models/01_pytorch_workflow_model_1.pth')"
            ]
          },
          "metadata": {},
          "execution_count": 83
        }
      ]
    },
    {
      "cell_type": "code",
      "source": [
        "torch.save(f = MODEL_SAVE_PATH, obj = model_1.state_dict())\n",
        "print(\"Model saved to path:\", MODEL_SAVE_PATH)"
      ],
      "metadata": {
        "colab": {
          "base_uri": "https://localhost:8080/"
        },
        "id": "uMNbM5YmXMTY",
        "outputId": "8a6a23e0-b9e0-4d2f-94e7-c62096de775f"
      },
      "execution_count": null,
      "outputs": [
        {
          "output_type": "stream",
          "name": "stdout",
          "text": [
            "Model saved to path: models/01_pytorch_workflow_model_1.pth\n"
          ]
        }
      ]
    },
    {
      "cell_type": "code",
      "source": [
        "# Loading a model\n",
        "loaded_model_1 = LinearRegressionModelv2()\n",
        "\n",
        "loaded_model_1.load_state_dict(torch.load(f=MODEL_SAVE_PATH))\n",
        "\n",
        "loaded_model_1.state_dict()"
      ],
      "metadata": {
        "colab": {
          "base_uri": "https://localhost:8080/"
        },
        "id": "q4k3T7TFXdWz",
        "outputId": "64cb0619-98bb-4400-bd92-443934e97760"
      },
      "execution_count": null,
      "outputs": [
        {
          "output_type": "execute_result",
          "data": {
            "text/plain": [
              "OrderedDict([('linear_layer.weight', tensor([[0.8762]])),\n",
              "             ('linear_layer.bias', tensor([0.5056]))])"
            ]
          },
          "metadata": {},
          "execution_count": 85
        }
      ]
    },
    {
      "cell_type": "code",
      "source": [
        "loaded_model_1.eval()\n",
        "with torch.inference_mode():\n",
        "  loaded_preds = loaded_model_1(x_test)\n",
        "plot_predictions(predictions = loaded_preds)"
      ],
      "metadata": {
        "colab": {
          "base_uri": "https://localhost:8080/",
          "height": 430
        },
        "id": "W_TC1wxrX5tg",
        "outputId": "6a525aa3-c77d-4daa-9978-fc8c27e9097e"
      },
      "execution_count": null,
      "outputs": [
        {
          "output_type": "display_data",
          "data": {
            "text/plain": [
              "<Figure size 640x480 with 1 Axes>"
            ],
            "image/png": "[encoded data removed]"
          },
          "metadata": {}
        }
      ]
    },
    {
      "cell_type": "code",
      "source": [],
      "metadata": {
        "id": "0Xx_vsQnYI7J"
      },
      "execution_count": null,
      "outputs": []
    }
  ]
}