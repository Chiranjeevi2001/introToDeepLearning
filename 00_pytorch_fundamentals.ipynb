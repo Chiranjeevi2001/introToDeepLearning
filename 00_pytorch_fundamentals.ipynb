{
  "nbformat": 4,
  "nbformat_minor": 0,
  "metadata": {
    "colab": {
      "provenance": [],
      "authorship_tag": "ABX9TyMerqSBrfpCKzZ/Kx0m1jYG",
      "include_colab_link": true
    },
    "kernelspec": {
      "name": "python3",
      "display_name": "Python 3"
    },
    "language_info": {
      "name": "python"
    }
  },
  "cells": [
    {
      "cell_type": "markdown",
      "metadata": {
        "id": "view-in-github",
        "colab_type": "text"
      },
      "source": [
        "<a href=\"https://colab.research.google.com/github/Chiranjeevi2001/introToDeepLearning/blob/main/00_pytorch_fundamentals.ipynb\" target=\"_parent\"><img src=\"https://colab.research.google.com/assets/colab-badge.svg\" alt=\"Open In Colab\"/></a>"
      ]
    },
    {
      "cell_type": "code",
      "execution_count": 1,
      "metadata": {
        "colab": {
          "base_uri": "https://localhost:8080/"
        },
        "id": "VeLz-_wlcm49",
        "outputId": "a3abaf20-d20d-4671-94a4-7b9472d328db"
      },
      "outputs": [
        {
          "output_type": "stream",
          "name": "stdout",
          "text": [
            "/bin/bash: line 1: nvidia-smi: command not found\n"
          ]
        }
      ],
      "source": [
        "!nvidia-smi"
      ]
    },
    {
      "cell_type": "markdown",
      "source": [
        "##00 PyTorch Fundamentals"
      ],
      "metadata": {
        "id": "pnTZ38MPdaQ0"
      }
    },
    {
      "cell_type": "code",
      "source": [
        "import torch\n",
        "import pandas as pd\n",
        "import numpy as np\n",
        "import matplotlib.pyplot as plt\n",
        "print(torch.__version__)"
      ],
      "metadata": {
        "colab": {
          "base_uri": "https://localhost:8080/"
        },
        "id": "GttBIMRUdywO",
        "outputId": "d2c05e2e-907b-4f37-ea1e-c0e2df12b4c0"
      },
      "execution_count": 2,
      "outputs": [
        {
          "output_type": "stream",
          "name": "stdout",
          "text": [
            "2.1.0+cu121\n"
          ]
        }
      ]
    },
    {
      "cell_type": "markdown",
      "source": [
        "## Introduction to Tensors"
      ],
      "metadata": {
        "id": "RUt1KwQmd2Fk"
      }
    },
    {
      "cell_type": "code",
      "source": [
        "# creating tensors\n",
        "#scalar\n",
        "scalar  = torch.tensor(73)\n",
        "print(scalar.shape)"
      ],
      "metadata": {
        "colab": {
          "base_uri": "https://localhost:8080/"
        },
        "id": "mT30z47Eeysy",
        "outputId": "7ec2f810-acb1-4129-93ec-f71bcaff8b2e"
      },
      "execution_count": 3,
      "outputs": [
        {
          "output_type": "stream",
          "name": "stdout",
          "text": [
            "torch.Size([])\n"
          ]
        }
      ]
    },
    {
      "cell_type": "code",
      "source": [
        "scalar.ndim"
      ],
      "metadata": {
        "colab": {
          "base_uri": "https://localhost:8080/"
        },
        "id": "KN7ibX08fEqG",
        "outputId": "08c7fe85-627f-4984-f08e-2a2778308598"
      },
      "execution_count": 4,
      "outputs": [
        {
          "output_type": "execute_result",
          "data": {
            "text/plain": [
              "0"
            ]
          },
          "metadata": {},
          "execution_count": 4
        }
      ]
    },
    {
      "cell_type": "code",
      "source": [
        "# Get Tensor back as Python int\n",
        "scalar.item()"
      ],
      "metadata": {
        "colab": {
          "base_uri": "https://localhost:8080/"
        },
        "id": "VWON00GsfmFd",
        "outputId": "47c34c1d-7317-436e-bdc1-899d2aaa79b5"
      },
      "execution_count": 5,
      "outputs": [
        {
          "output_type": "execute_result",
          "data": {
            "text/plain": [
              "73"
            ]
          },
          "metadata": {},
          "execution_count": 5
        }
      ]
    },
    {
      "cell_type": "code",
      "source": [
        "# vector\n",
        "\n",
        "vector = torch.tensor([7,7])\n",
        "vector"
      ],
      "metadata": {
        "colab": {
          "base_uri": "https://localhost:8080/"
        },
        "id": "mGNH2JOrfpmM",
        "outputId": "eda452db-12b1-4424-9420-9cbe5bda441e"
      },
      "execution_count": 6,
      "outputs": [
        {
          "output_type": "execute_result",
          "data": {
            "text/plain": [
              "tensor([7, 7])"
            ]
          },
          "metadata": {},
          "execution_count": 6
        }
      ]
    },
    {
      "cell_type": "code",
      "source": [
        "vector.ndim"
      ],
      "metadata": {
        "colab": {
          "base_uri": "https://localhost:8080/"
        },
        "id": "Jl_DnNfEf82W",
        "outputId": "019eca1b-11b4-4d38-df0c-4e119c717dcb"
      },
      "execution_count": 7,
      "outputs": [
        {
          "output_type": "execute_result",
          "data": {
            "text/plain": [
              "1"
            ]
          },
          "metadata": {},
          "execution_count": 7
        }
      ]
    },
    {
      "cell_type": "code",
      "source": [
        "vector.shape"
      ],
      "metadata": {
        "colab": {
          "base_uri": "https://localhost:8080/"
        },
        "id": "FCrpoGEmf-hX",
        "outputId": "8eccbca2-e114-48d7-fecd-050439cd69e7"
      },
      "execution_count": 8,
      "outputs": [
        {
          "output_type": "execute_result",
          "data": {
            "text/plain": [
              "torch.Size([2])"
            ]
          },
          "metadata": {},
          "execution_count": 8
        }
      ]
    },
    {
      "cell_type": "code",
      "source": [
        "# Matrix\n",
        "\n",
        "MATRIX = torch.tensor([[7,8],\n",
        "                       [1,2]])\n",
        "MATRIX"
      ],
      "metadata": {
        "colab": {
          "base_uri": "https://localhost:8080/"
        },
        "id": "ff-gLoCPgCkH",
        "outputId": "fb69f5d4-2d20-4941-be17-30f60932144d"
      },
      "execution_count": 9,
      "outputs": [
        {
          "output_type": "execute_result",
          "data": {
            "text/plain": [
              "tensor([[7, 8],\n",
              "        [1, 2]])"
            ]
          },
          "metadata": {},
          "execution_count": 9
        }
      ]
    },
    {
      "cell_type": "code",
      "source": [
        "MATRIX.ndim"
      ],
      "metadata": {
        "colab": {
          "base_uri": "https://localhost:8080/"
        },
        "id": "tPDxOxhMgRsy",
        "outputId": "a0abc55f-c872-4b47-f2d9-49d9b7aca599"
      },
      "execution_count": 10,
      "outputs": [
        {
          "output_type": "execute_result",
          "data": {
            "text/plain": [
              "2"
            ]
          },
          "metadata": {},
          "execution_count": 10
        }
      ]
    },
    {
      "cell_type": "code",
      "source": [
        "MATRIX.shape"
      ],
      "metadata": {
        "colab": {
          "base_uri": "https://localhost:8080/"
        },
        "id": "dPYEd-OugU6Z",
        "outputId": "fe261929-b904-40b9-a6bb-5dd83c7876ec"
      },
      "execution_count": 11,
      "outputs": [
        {
          "output_type": "execute_result",
          "data": {
            "text/plain": [
              "torch.Size([2, 2])"
            ]
          },
          "metadata": {},
          "execution_count": 11
        }
      ]
    },
    {
      "cell_type": "code",
      "source": [
        "# Tensor\n",
        "\n",
        "TENSOR = torch.tensor([[[2,3], [4,5]],\n",
        "                       [[2,3],[10, 19]]])\n",
        "TENSOR"
      ],
      "metadata": {
        "colab": {
          "base_uri": "https://localhost:8080/"
        },
        "id": "1C6zNH0ggX4B",
        "outputId": "9fd62305-bd84-40ec-f61f-d96c22925851"
      },
      "execution_count": 12,
      "outputs": [
        {
          "output_type": "execute_result",
          "data": {
            "text/plain": [
              "tensor([[[ 2,  3],\n",
              "         [ 4,  5]],\n",
              "\n",
              "        [[ 2,  3],\n",
              "         [10, 19]]])"
            ]
          },
          "metadata": {},
          "execution_count": 12
        }
      ]
    },
    {
      "cell_type": "code",
      "source": [
        "TENSOR.ndim"
      ],
      "metadata": {
        "colab": {
          "base_uri": "https://localhost:8080/"
        },
        "id": "RWQRQmzLg0UV",
        "outputId": "9b2a6678-3aa3-4e38-c680-597eb8c8121f"
      },
      "execution_count": 13,
      "outputs": [
        {
          "output_type": "execute_result",
          "data": {
            "text/plain": [
              "3"
            ]
          },
          "metadata": {},
          "execution_count": 13
        }
      ]
    },
    {
      "cell_type": "code",
      "source": [
        "TENSOR.shape"
      ],
      "metadata": {
        "colab": {
          "base_uri": "https://localhost:8080/"
        },
        "id": "Pn_VLuqVg4SP",
        "outputId": "518b4694-fdfd-4e09-871b-4d70a986f7d3"
      },
      "execution_count": 14,
      "outputs": [
        {
          "output_type": "execute_result",
          "data": {
            "text/plain": [
              "torch.Size([2, 2, 2])"
            ]
          },
          "metadata": {},
          "execution_count": 14
        }
      ]
    },
    {
      "cell_type": "markdown",
      "source": [
        "## random tensor"
      ],
      "metadata": {
        "id": "1zJjLXo-g6SY"
      }
    },
    {
      "cell_type": "code",
      "source": [
        "random_tensor = torch.rand(3,4,2,10)\n",
        "random_tensor"
      ],
      "metadata": {
        "colab": {
          "base_uri": "https://localhost:8080/"
        },
        "id": "eAjXGUu_n7nY",
        "outputId": "cfe8ebfd-7570-4be1-827b-21dc05b0cc04"
      },
      "execution_count": 15,
      "outputs": [
        {
          "output_type": "execute_result",
          "data": {
            "text/plain": [
              "tensor([[[[0.4283, 0.7909, 0.9071, 0.4012, 0.0388, 0.4062, 0.9613, 0.6362,\n",
              "           0.1859, 0.9505],\n",
              "          [0.4623, 0.7537, 0.9531, 0.1071, 0.4648, 0.3920, 0.2726, 0.0066,\n",
              "           0.0095, 0.7693]],\n",
              "\n",
              "         [[0.2735, 0.0860, 0.9752, 0.9752, 0.1954, 0.7498, 0.8212, 0.9680,\n",
              "           0.8681, 0.5909],\n",
              "          [0.0248, 0.6220, 0.1405, 0.5422, 0.3025, 0.6789, 0.2318, 0.6215,\n",
              "           0.6778, 0.8041]],\n",
              "\n",
              "         [[0.6020, 0.7745, 0.9032, 0.5595, 0.3472, 0.7646, 0.5514, 0.6546,\n",
              "           0.2868, 0.0890],\n",
              "          [0.2277, 0.7566, 0.6872, 0.4006, 0.4843, 0.5380, 0.4531, 0.9011,\n",
              "           0.7733, 0.3654]],\n",
              "\n",
              "         [[0.1029, 0.3646, 0.8285, 0.7113, 0.4947, 0.8337, 0.1713, 0.3146,\n",
              "           0.3632, 0.6205],\n",
              "          [0.9514, 0.0574, 0.2000, 0.1778, 0.0124, 0.7789, 0.8520, 0.2794,\n",
              "           0.7262, 0.3131]]],\n",
              "\n",
              "\n",
              "        [[[0.6477, 0.3651, 0.7794, 0.1170, 0.7667, 0.1666, 0.2486, 0.1812,\n",
              "           0.0314, 0.8399],\n",
              "          [0.1338, 0.3965, 0.5600, 0.9536, 0.5831, 0.4933, 0.7224, 0.6340,\n",
              "           0.9711, 0.9273]],\n",
              "\n",
              "         [[0.6302, 0.5669, 0.9994, 0.7335, 0.2929, 0.6150, 0.1133, 0.0864,\n",
              "           0.5674, 0.3629],\n",
              "          [0.0976, 0.6990, 0.8661, 0.3398, 0.8316, 0.4186, 0.7191, 0.2592,\n",
              "           0.7431, 0.7989]],\n",
              "\n",
              "         [[0.9201, 0.3684, 0.8578, 0.2941, 0.6735, 0.8234, 0.5449, 0.0565,\n",
              "           0.4405, 0.8953],\n",
              "          [0.3900, 0.5752, 0.5665, 0.9786, 0.2054, 0.7412, 0.0973, 0.0942,\n",
              "           0.2665, 0.1099]],\n",
              "\n",
              "         [[0.3941, 0.5141, 0.6235, 0.4565, 0.9246, 0.7526, 0.4904, 0.0229,\n",
              "           0.7349, 0.4374],\n",
              "          [0.9530, 0.3308, 0.3046, 0.0802, 0.5686, 0.2901, 0.3686, 0.9807,\n",
              "           0.0533, 0.2160]]],\n",
              "\n",
              "\n",
              "        [[[0.6685, 0.6059, 0.7467, 0.2313, 0.6282, 0.8921, 0.8356, 0.0933,\n",
              "           0.4407, 0.9469],\n",
              "          [0.9984, 0.4757, 0.3446, 0.8937, 0.4727, 0.0774, 0.7567, 0.6789,\n",
              "           0.6446, 0.0767]],\n",
              "\n",
              "         [[0.1778, 0.6662, 0.2948, 0.9501, 0.7584, 0.8559, 0.4329, 0.5227,\n",
              "           0.4785, 0.3024],\n",
              "          [0.7761, 0.1532, 0.1205, 0.8037, 0.0756, 0.1372, 0.0737, 0.4280,\n",
              "           0.0942, 0.4480]],\n",
              "\n",
              "         [[0.9731, 0.5808, 0.4312, 0.8067, 0.0343, 0.5390, 0.8622, 0.7087,\n",
              "           0.6939, 0.1815],\n",
              "          [0.2794, 0.5626, 0.8874, 0.4349, 0.3436, 0.2858, 0.8256, 0.2488,\n",
              "           0.1538, 0.2934]],\n",
              "\n",
              "         [[0.0188, 0.2707, 0.9494, 0.1484, 0.7186, 0.4591, 0.4145, 0.7474,\n",
              "           0.1813, 0.9797],\n",
              "          [0.1255, 0.6673, 0.6876, 0.6231, 0.4592, 0.0337, 0.6988, 0.7226,\n",
              "           0.4121, 0.8394]]]])"
            ]
          },
          "metadata": {},
          "execution_count": 15
        }
      ]
    },
    {
      "cell_type": "code",
      "source": [
        "#creating a tensor with the same size as that of an image\n",
        "random_image_size_tensor = torch.rand(size=(224,224,3) )#height, width and color channel (rgb)\n",
        "random_image_size_tensor.shape, random_image_size_tensor.ndim"
      ],
      "metadata": {
        "colab": {
          "base_uri": "https://localhost:8080/"
        },
        "id": "WXJqowCnoBBA",
        "outputId": "496eb03d-b240-464b-aaed-301793ee1588"
      },
      "execution_count": 16,
      "outputs": [
        {
          "output_type": "execute_result",
          "data": {
            "text/plain": [
              "(torch.Size([224, 224, 3]), 3)"
            ]
          },
          "metadata": {},
          "execution_count": 16
        }
      ]
    },
    {
      "cell_type": "markdown",
      "source": [
        "### Zeros and ones"
      ],
      "metadata": {
        "id": "Te-UH2LbolVN"
      }
    },
    {
      "cell_type": "code",
      "source": [
        "zeros = torch.zeros(3,3)\n",
        "zeros"
      ],
      "metadata": {
        "colab": {
          "base_uri": "https://localhost:8080/"
        },
        "id": "yU1eAjncpS8f",
        "outputId": "da1017c5-6058-4bd8-c974-f6736a877ee0"
      },
      "execution_count": 17,
      "outputs": [
        {
          "output_type": "execute_result",
          "data": {
            "text/plain": [
              "tensor([[0., 0., 0.],\n",
              "        [0., 0., 0.],\n",
              "        [0., 0., 0.]])"
            ]
          },
          "metadata": {},
          "execution_count": 17
        }
      ]
    },
    {
      "cell_type": "code",
      "source": [
        "random_tensor = torch.rand(3,3)\n",
        "zeros*random_tensor"
      ],
      "metadata": {
        "colab": {
          "base_uri": "https://localhost:8080/"
        },
        "id": "dQLANz2ppWwj",
        "outputId": "c51b65eb-5e10-4f08-c469-7d66781a9def"
      },
      "execution_count": 18,
      "outputs": [
        {
          "output_type": "execute_result",
          "data": {
            "text/plain": [
              "tensor([[0., 0., 0.],\n",
              "        [0., 0., 0.],\n",
              "        [0., 0., 0.]])"
            ]
          },
          "metadata": {},
          "execution_count": 18
        }
      ]
    },
    {
      "cell_type": "code",
      "source": [
        "ones = torch.ones(size=(3,4))\n",
        "ones"
      ],
      "metadata": {
        "colab": {
          "base_uri": "https://localhost:8080/"
        },
        "id": "iE1Urcv2pjAB",
        "outputId": "027ddf78-89f9-4d32-8a89-ed600ec55f83"
      },
      "execution_count": 19,
      "outputs": [
        {
          "output_type": "execute_result",
          "data": {
            "text/plain": [
              "tensor([[1., 1., 1., 1.],\n",
              "        [1., 1., 1., 1.],\n",
              "        [1., 1., 1., 1.]])"
            ]
          },
          "metadata": {},
          "execution_count": 19
        }
      ]
    },
    {
      "cell_type": "code",
      "source": [
        "ones.dtype"
      ],
      "metadata": {
        "colab": {
          "base_uri": "https://localhost:8080/"
        },
        "id": "c9zETp1BptPP",
        "outputId": "57620b9b-fb1b-4f3a-8f17-ba52e10c55ab"
      },
      "execution_count": 20,
      "outputs": [
        {
          "output_type": "execute_result",
          "data": {
            "text/plain": [
              "torch.float32"
            ]
          },
          "metadata": {},
          "execution_count": 20
        }
      ]
    },
    {
      "cell_type": "markdown",
      "source": [
        "### Creating a range of tensors and tensors-like"
      ],
      "metadata": {
        "id": "NDsZLl4upuvq"
      }
    },
    {
      "cell_type": "code",
      "source": [
        "# Use torch.arange()\n",
        "\n",
        "one_to_ten = torch.arange(0,10.1,0.1) # start (inclusive), end(exclusive) and the step.\n",
        "one_to_ten, one_to_ten.shape"
      ],
      "metadata": {
        "colab": {
          "base_uri": "https://localhost:8080/"
        },
        "id": "DVGmYfKCqDHT",
        "outputId": "901b7d3c-8297-4e72-9570-13bde2903a52"
      },
      "execution_count": 21,
      "outputs": [
        {
          "output_type": "execute_result",
          "data": {
            "text/plain": [
              "(tensor([ 0.0000,  0.1000,  0.2000,  0.3000,  0.4000,  0.5000,  0.6000,  0.7000,\n",
              "          0.8000,  0.9000,  1.0000,  1.1000,  1.2000,  1.3000,  1.4000,  1.5000,\n",
              "          1.6000,  1.7000,  1.8000,  1.9000,  2.0000,  2.1000,  2.2000,  2.3000,\n",
              "          2.4000,  2.5000,  2.6000,  2.7000,  2.8000,  2.9000,  3.0000,  3.1000,\n",
              "          3.2000,  3.3000,  3.4000,  3.5000,  3.6000,  3.7000,  3.8000,  3.9000,\n",
              "          4.0000,  4.1000,  4.2000,  4.3000,  4.4000,  4.5000,  4.6000,  4.7000,\n",
              "          4.8000,  4.9000,  5.0000,  5.1000,  5.2000,  5.3000,  5.4000,  5.5000,\n",
              "          5.6000,  5.7000,  5.8000,  5.9000,  6.0000,  6.1000,  6.2000,  6.3000,\n",
              "          6.4000,  6.5000,  6.6000,  6.7000,  6.8000,  6.9000,  7.0000,  7.1000,\n",
              "          7.2000,  7.3000,  7.4000,  7.5000,  7.6000,  7.7000,  7.8000,  7.9000,\n",
              "          8.0000,  8.1000,  8.2000,  8.3000,  8.4000,  8.5000,  8.6000,  8.7000,\n",
              "          8.8000,  8.9000,  9.0000,  9.1000,  9.2000,  9.3000,  9.4000,  9.5000,\n",
              "          9.6000,  9.7000,  9.8000,  9.9000, 10.0000]),\n",
              " torch.Size([101]))"
            ]
          },
          "metadata": {},
          "execution_count": 21
        }
      ]
    },
    {
      "cell_type": "code",
      "source": [
        "# Creating tensor-like\n",
        "\n",
        "ten_zeros = torch.zeros_like(input = one_to_ten) #create a zeros tensor with the same shape as that of one_to_ten tensor\n",
        "ten_zeros, ten_zeros.shape"
      ],
      "metadata": {
        "colab": {
          "base_uri": "https://localhost:8080/"
        },
        "id": "uipdObE-qHUe",
        "outputId": "dd69f111-6a6a-4f58-df45-fd8d1196012c"
      },
      "execution_count": 22,
      "outputs": [
        {
          "output_type": "execute_result",
          "data": {
            "text/plain": [
              "(tensor([0., 0., 0., 0., 0., 0., 0., 0., 0., 0., 0., 0., 0., 0., 0., 0., 0., 0., 0., 0., 0., 0., 0., 0.,\n",
              "         0., 0., 0., 0., 0., 0., 0., 0., 0., 0., 0., 0., 0., 0., 0., 0., 0., 0., 0., 0., 0., 0., 0., 0.,\n",
              "         0., 0., 0., 0., 0., 0., 0., 0., 0., 0., 0., 0., 0., 0., 0., 0., 0., 0., 0., 0., 0., 0., 0., 0.,\n",
              "         0., 0., 0., 0., 0., 0., 0., 0., 0., 0., 0., 0., 0., 0., 0., 0., 0., 0., 0., 0., 0., 0., 0., 0.,\n",
              "         0., 0., 0., 0., 0.]),\n",
              " torch.Size([101]))"
            ]
          },
          "metadata": {},
          "execution_count": 22
        }
      ]
    },
    {
      "cell_type": "markdown",
      "source": [
        "## Tensor datatypes"
      ],
      "metadata": {
        "id": "bIiBDQAmrDdz"
      }
    },
    {
      "cell_type": "code",
      "source": [
        "float32_tensor = torch.tensor([3.0,6.0,9.0], dtype = None, #datatype of tensor\n",
        "                              device = None, #on which device the tensor is stored, default = \"cpu\"\n",
        "                              requires_grad = False # track the gradients with tensor operations\n",
        "                              )"
      ],
      "metadata": {
        "id": "kRSCW6Qfrf0n"
      },
      "execution_count": 23,
      "outputs": []
    },
    {
      "cell_type": "code",
      "source": [
        "float32_tensor, float32_tensor.dtype"
      ],
      "metadata": {
        "colab": {
          "base_uri": "https://localhost:8080/"
        },
        "id": "JpDOQ8VErnv1",
        "outputId": "1894052a-7e22-4015-d865-0f1886f8815d"
      },
      "execution_count": 24,
      "outputs": [
        {
          "output_type": "execute_result",
          "data": {
            "text/plain": [
              "(tensor([3., 6., 9.]), torch.float32)"
            ]
          },
          "metadata": {},
          "execution_count": 24
        }
      ]
    },
    {
      "cell_type": "code",
      "source": [
        "float16_tensor = float32_tensor.type(torch.float16)\n",
        "float16_tensor\n"
      ],
      "metadata": {
        "colab": {
          "base_uri": "https://localhost:8080/"
        },
        "id": "1wlKWK_Rrr2Q",
        "outputId": "55c0d13a-82c4-4b53-c09d-5c321a45752e"
      },
      "execution_count": 25,
      "outputs": [
        {
          "output_type": "execute_result",
          "data": {
            "text/plain": [
              "tensor([3., 6., 9.], dtype=torch.float16)"
            ]
          },
          "metadata": {},
          "execution_count": 25
        }
      ]
    },
    {
      "cell_type": "code",
      "source": [
        "float16_tensor * float32_tensor"
      ],
      "metadata": {
        "colab": {
          "base_uri": "https://localhost:8080/"
        },
        "id": "Lb-S73pIt61o",
        "outputId": "c2670e43-1344-487f-d530-b5f7bc722217"
      },
      "execution_count": 26,
      "outputs": [
        {
          "output_type": "execute_result",
          "data": {
            "text/plain": [
              "tensor([ 9., 36., 81.])"
            ]
          },
          "metadata": {},
          "execution_count": 26
        }
      ]
    },
    {
      "cell_type": "code",
      "source": [
        "int32_tensor = torch.tensor([3,6,9], dtype = torch.int32)\n",
        "int32_tensor"
      ],
      "metadata": {
        "colab": {
          "base_uri": "https://localhost:8080/"
        },
        "id": "fr0cwNI1uHT_",
        "outputId": "ecb981cc-9236-405f-b604-c5bb8a739b1d"
      },
      "execution_count": 27,
      "outputs": [
        {
          "output_type": "execute_result",
          "data": {
            "text/plain": [
              "tensor([3, 6, 9], dtype=torch.int32)"
            ]
          },
          "metadata": {},
          "execution_count": 27
        }
      ]
    },
    {
      "cell_type": "code",
      "source": [
        "float32_tensor * int32_tensor"
      ],
      "metadata": {
        "colab": {
          "base_uri": "https://localhost:8080/"
        },
        "id": "6vg187nxufsj",
        "outputId": "b54a99ac-08fb-45e8-a90b-e3358d8400ce"
      },
      "execution_count": 28,
      "outputs": [
        {
          "output_type": "execute_result",
          "data": {
            "text/plain": [
              "tensor([ 9., 36., 81.])"
            ]
          },
          "metadata": {},
          "execution_count": 28
        }
      ]
    },
    {
      "cell_type": "markdown",
      "source": [
        "## Getting information from tensors (tensor attributes)"
      ],
      "metadata": {
        "id": "YCm4Mvy8ujOf"
      }
    },
    {
      "cell_type": "code",
      "source": [
        "int32_tensor.dtype, float32_tensor.dtype, float16_tensor.dtype # getting the datatype"
      ],
      "metadata": {
        "colab": {
          "base_uri": "https://localhost:8080/"
        },
        "id": "G_euSsBgu8jE",
        "outputId": "bd32f980-71fc-4713-e2c9-89b73dc95b96"
      },
      "execution_count": 29,
      "outputs": [
        {
          "output_type": "execute_result",
          "data": {
            "text/plain": [
              "(torch.int32, torch.float32, torch.float16)"
            ]
          },
          "metadata": {},
          "execution_count": 29
        }
      ]
    },
    {
      "cell_type": "code",
      "source": [
        "int32_tensor.shape, float32_tensor.shape, float16_tensor.shape # getting the shape"
      ],
      "metadata": {
        "colab": {
          "base_uri": "https://localhost:8080/"
        },
        "id": "AJyAUMahvO-6",
        "outputId": "39ade896-9d6a-4caf-fbb0-7db9cf51ac99"
      },
      "execution_count": 30,
      "outputs": [
        {
          "output_type": "execute_result",
          "data": {
            "text/plain": [
              "(torch.Size([3]), torch.Size([3]), torch.Size([3]))"
            ]
          },
          "metadata": {},
          "execution_count": 30
        }
      ]
    },
    {
      "cell_type": "code",
      "source": [
        "int32_tensor.device, float32_tensor.device, float16_tensor.device # get the device"
      ],
      "metadata": {
        "colab": {
          "base_uri": "https://localhost:8080/"
        },
        "id": "IOLJ8teHvVZ5",
        "outputId": "fd9d85be-8156-4e4c-9e86-7bde7d6765f4"
      },
      "execution_count": 31,
      "outputs": [
        {
          "output_type": "execute_result",
          "data": {
            "text/plain": [
              "(device(type='cpu'), device(type='cpu'), device(type='cpu'))"
            ]
          },
          "metadata": {},
          "execution_count": 31
        }
      ]
    },
    {
      "cell_type": "code",
      "source": [
        "gpu_tensor = int32_tensor.to(\"cpu\")"
      ],
      "metadata": {
        "id": "ezHqsnfivjfs"
      },
      "execution_count": 32,
      "outputs": []
    },
    {
      "cell_type": "code",
      "source": [
        "gpu_tensor.device"
      ],
      "metadata": {
        "colab": {
          "base_uri": "https://localhost:8080/"
        },
        "id": "1u_0d9G6wR7c",
        "outputId": "2edb4ffe-1e0f-49a7-8ae5-09a332c32d6f"
      },
      "execution_count": 33,
      "outputs": [
        {
          "output_type": "execute_result",
          "data": {
            "text/plain": [
              "device(type='cpu')"
            ]
          },
          "metadata": {},
          "execution_count": 33
        }
      ]
    },
    {
      "cell_type": "markdown",
      "source": [
        "## Manipulating Tensors (Tensor Operations)\n",
        "\n",
        "1. Addition\n",
        "2. Subtraction\n",
        "3. Multiplication (element wise)\n",
        "4. Division\n",
        "5. Matrix Multiplication"
      ],
      "metadata": {
        "id": "0-RH_js2wgeA"
      }
    },
    {
      "cell_type": "code",
      "source": [
        "# Create a tensor\n",
        "\n",
        "tensor = torch.tensor([1,2,3])\n",
        "tensor + 10 # adds 10 to every element"
      ],
      "metadata": {
        "colab": {
          "base_uri": "https://localhost:8080/"
        },
        "id": "onelBrSnwxtn",
        "outputId": "dc4a158f-3c06-40a2-f276-6027286091dd"
      },
      "execution_count": 34,
      "outputs": [
        {
          "output_type": "execute_result",
          "data": {
            "text/plain": [
              "tensor([11, 12, 13])"
            ]
          },
          "metadata": {},
          "execution_count": 34
        }
      ]
    },
    {
      "cell_type": "code",
      "source": [
        "tensor * 10"
      ],
      "metadata": {
        "colab": {
          "base_uri": "https://localhost:8080/"
        },
        "id": "DN5oU88YxMeI",
        "outputId": "8372f745-26e8-4902-b82d-86e418846848"
      },
      "execution_count": 35,
      "outputs": [
        {
          "output_type": "execute_result",
          "data": {
            "text/plain": [
              "tensor([10, 20, 30])"
            ]
          },
          "metadata": {},
          "execution_count": 35
        }
      ]
    },
    {
      "cell_type": "code",
      "source": [
        "tensor/5"
      ],
      "metadata": {
        "colab": {
          "base_uri": "https://localhost:8080/"
        },
        "id": "BXIRRBxOxSeN",
        "outputId": "6f70998f-d553-4f88-c2c7-719a2d041e84"
      },
      "execution_count": 36,
      "outputs": [
        {
          "output_type": "execute_result",
          "data": {
            "text/plain": [
              "tensor([0.2000, 0.4000, 0.6000])"
            ]
          },
          "metadata": {},
          "execution_count": 36
        }
      ]
    },
    {
      "cell_type": "code",
      "source": [
        "tensor-10"
      ],
      "metadata": {
        "colab": {
          "base_uri": "https://localhost:8080/"
        },
        "id": "WugtRZioxU8I",
        "outputId": "f958b170-995b-468e-cc48-d186023fcc45"
      },
      "execution_count": 37,
      "outputs": [
        {
          "output_type": "execute_result",
          "data": {
            "text/plain": [
              "tensor([-9, -8, -7])"
            ]
          },
          "metadata": {},
          "execution_count": 37
        }
      ]
    },
    {
      "cell_type": "code",
      "source": [
        "# Inbuilt functions for tensor\n",
        "\n",
        "torch.mul(tensor, 10)"
      ],
      "metadata": {
        "colab": {
          "base_uri": "https://localhost:8080/"
        },
        "id": "Tmcmi4FKxXU2",
        "outputId": "a84313f5-ff2f-4ad7-c216-d8878b87477f"
      },
      "execution_count": 38,
      "outputs": [
        {
          "output_type": "execute_result",
          "data": {
            "text/plain": [
              "tensor([10, 20, 30])"
            ]
          },
          "metadata": {},
          "execution_count": 38
        }
      ]
    },
    {
      "cell_type": "markdown",
      "source": [
        "### Matrix Multiplication (most common tensor operation)"
      ],
      "metadata": {
        "id": "IDg-j3a2xqFc"
      }
    },
    {
      "cell_type": "code",
      "source": [
        "%%time\n",
        "torch.matmul(tensor, tensor) ## works like a dot product for 1-d tensors"
      ],
      "metadata": {
        "colab": {
          "base_uri": "https://localhost:8080/"
        },
        "id": "SPczM0qFyI9q",
        "outputId": "b1e6c343-ebfa-4dd1-a422-be80f5a20c11"
      },
      "execution_count": 39,
      "outputs": [
        {
          "output_type": "stream",
          "name": "stdout",
          "text": [
            "CPU times: user 89 µs, sys: 13 µs, total: 102 µs\n",
            "Wall time: 107 µs\n"
          ]
        },
        {
          "output_type": "execute_result",
          "data": {
            "text/plain": [
              "tensor(14)"
            ]
          },
          "metadata": {},
          "execution_count": 39
        }
      ]
    },
    {
      "cell_type": "code",
      "source": [
        "# calculating dot product manually\n",
        "%%time\n",
        "value = 0\n",
        "for i in range(len(tensor)):\n",
        "  value += tensor[i]*tensor[i]\n",
        "print(value)"
      ],
      "metadata": {
        "id": "w33hItVPzz9O",
        "colab": {
          "base_uri": "https://localhost:8080/"
        },
        "outputId": "47339fc9-6f18-4222-e6b1-9372dbaaa13c"
      },
      "execution_count": 40,
      "outputs": [
        {
          "output_type": "stream",
          "name": "stdout",
          "text": [
            "tensor(14)\n",
            "CPU times: user 1.08 ms, sys: 11 µs, total: 1.09 ms\n",
            "Wall time: 1.1 ms\n"
          ]
        }
      ]
    },
    {
      "cell_type": "markdown",
      "source": [
        "### One of the most common errors in deep learning: Shape Errors\n",
        "\n",
        "Inner dimensions during matrix multiplication should match\n",
        "\n",
        "* `(3,2) @ (3,2)` won't work\n",
        "* `(3,2) @ (2,3)` will work\n",
        "\n",
        "The resulting matrix will have the dimensions of the outter dimensions."
      ],
      "metadata": {
        "id": "TLrp3MqeuWfm"
      }
    },
    {
      "cell_type": "code",
      "source": [
        "torch.matmul(torch.rand(3,2), torch.rand(2,2)).shape"
      ],
      "metadata": {
        "colab": {
          "base_uri": "https://localhost:8080/"
        },
        "id": "ZAen-wNc5ElM",
        "outputId": "b6d2f883-5af7-4e82-df42-2f8d9bff11b6"
      },
      "execution_count": 41,
      "outputs": [
        {
          "output_type": "execute_result",
          "data": {
            "text/plain": [
              "torch.Size([3, 2])"
            ]
          },
          "metadata": {},
          "execution_count": 41
        }
      ]
    },
    {
      "cell_type": "code",
      "source": [
        "# shapes for matrix multiplication\n",
        "tensor_A = torch.tensor([[1,2],\n",
        "                         [3,4],\n",
        "                         [5,6]])\n",
        "\n",
        "tensor_B = torch.tensor([[7,10],\n",
        "                         [8,11],\n",
        "                         [9,12]])\n",
        "\n",
        "# transpose any one of the matrices to fix the shape issue\n",
        "torch.mm(tensor_A.mT, tensor_B)  ## torch.mm == torch.matmul"
      ],
      "metadata": {
        "colab": {
          "base_uri": "https://localhost:8080/"
        },
        "id": "0yrEjhXT5qWa",
        "outputId": "5c2399c6-fcce-4455-dac9-94b8b15d76a6"
      },
      "execution_count": 42,
      "outputs": [
        {
          "output_type": "execute_result",
          "data": {
            "text/plain": [
              "tensor([[ 76, 103],\n",
              "        [100, 136]])"
            ]
          },
          "metadata": {},
          "execution_count": 42
        }
      ]
    },
    {
      "cell_type": "markdown",
      "source": [
        "## Tensor Aggregation functions\n",
        "(min, max, mean, sum, etc.)"
      ],
      "metadata": {
        "id": "YI8diklK8n23"
      }
    },
    {
      "cell_type": "code",
      "source": [
        "x = torch.arange(1,100,10)\n",
        "x"
      ],
      "metadata": {
        "colab": {
          "base_uri": "https://localhost:8080/"
        },
        "id": "mX6eIYNi-es1",
        "outputId": "de6a3eb3-5115-49a7-f538-6dee6bce7b86"
      },
      "execution_count": 43,
      "outputs": [
        {
          "output_type": "execute_result",
          "data": {
            "text/plain": [
              "tensor([ 1, 11, 21, 31, 41, 51, 61, 71, 81, 91])"
            ]
          },
          "metadata": {},
          "execution_count": 43
        }
      ]
    },
    {
      "cell_type": "code",
      "source": [
        "torch.min(x), x.min()"
      ],
      "metadata": {
        "colab": {
          "base_uri": "https://localhost:8080/"
        },
        "id": "TFOT4mVc-nSS",
        "outputId": "109818bf-9495-4c95-f4d2-1f79d2cacbce"
      },
      "execution_count": 44,
      "outputs": [
        {
          "output_type": "execute_result",
          "data": {
            "text/plain": [
              "(tensor(1), tensor(1))"
            ]
          },
          "metadata": {},
          "execution_count": 44
        }
      ]
    },
    {
      "cell_type": "code",
      "source": [
        "torch.max(x), x.max()"
      ],
      "metadata": {
        "colab": {
          "base_uri": "https://localhost:8080/"
        },
        "id": "Z5Q2sqBe-q4-",
        "outputId": "554d9112-9187-4994-e6b4-320fd99d9128"
      },
      "execution_count": 45,
      "outputs": [
        {
          "output_type": "execute_result",
          "data": {
            "text/plain": [
              "(tensor(91), tensor(91))"
            ]
          },
          "metadata": {},
          "execution_count": 45
        }
      ]
    },
    {
      "cell_type": "code",
      "source": [
        "x.dtype"
      ],
      "metadata": {
        "colab": {
          "base_uri": "https://localhost:8080/"
        },
        "id": "aTfvlm8v-6Uq",
        "outputId": "8bf22a2d-040f-4e67-ad58-789ab52faadc"
      },
      "execution_count": 46,
      "outputs": [
        {
          "output_type": "execute_result",
          "data": {
            "text/plain": [
              "torch.int64"
            ]
          },
          "metadata": {},
          "execution_count": 46
        }
      ]
    },
    {
      "cell_type": "code",
      "source": [
        "# mean function does not work on int64 (long) datatype it requires float32 or complex datatypes\n",
        "torch.mean(x.type(torch.float32)), x.type(torch.float32).mean()"
      ],
      "metadata": {
        "colab": {
          "base_uri": "https://localhost:8080/"
        },
        "id": "vO9AI0fh-tUo",
        "outputId": "98532f6f-538b-4c79-e888-e6a0eef432cc"
      },
      "execution_count": 47,
      "outputs": [
        {
          "output_type": "execute_result",
          "data": {
            "text/plain": [
              "(tensor(46.), tensor(46.))"
            ]
          },
          "metadata": {},
          "execution_count": 47
        }
      ]
    },
    {
      "cell_type": "code",
      "source": [
        "torch.sum(x), x.sum()"
      ],
      "metadata": {
        "colab": {
          "base_uri": "https://localhost:8080/"
        },
        "id": "LaaAzDDG_Q0o",
        "outputId": "1d512fd7-ee82-4811-bff1-b1f7b34d1abf"
      },
      "execution_count": 48,
      "outputs": [
        {
          "output_type": "execute_result",
          "data": {
            "text/plain": [
              "(tensor(460), tensor(460))"
            ]
          },
          "metadata": {},
          "execution_count": 48
        }
      ]
    },
    {
      "cell_type": "markdown",
      "source": [
        "## Finding the position of the max and min (positional max and min) in tensors"
      ],
      "metadata": {
        "id": "Ai_SbMGR_fTQ"
      }
    },
    {
      "cell_type": "code",
      "source": [
        "x.argmin() # returns 0-based index of the minimum element in the tensor"
      ],
      "metadata": {
        "colab": {
          "base_uri": "https://localhost:8080/"
        },
        "id": "tbhilfQk_0Ms",
        "outputId": "ca9c0d0a-1211-48be-f32c-0c346e6cdc35"
      },
      "execution_count": 49,
      "outputs": [
        {
          "output_type": "execute_result",
          "data": {
            "text/plain": [
              "tensor(0)"
            ]
          },
          "metadata": {},
          "execution_count": 49
        }
      ]
    },
    {
      "cell_type": "code",
      "source": [
        "x.argmax() # returns 0-based index of the maximum element in the tensor"
      ],
      "metadata": {
        "colab": {
          "base_uri": "https://localhost:8080/"
        },
        "id": "6K5Bgx1b_5KP",
        "outputId": "1733d952-201c-4b4b-de34-827fdaa5e7f2"
      },
      "execution_count": 50,
      "outputs": [
        {
          "output_type": "execute_result",
          "data": {
            "text/plain": [
              "tensor(9)"
            ]
          },
          "metadata": {},
          "execution_count": 50
        }
      ]
    },
    {
      "cell_type": "code",
      "source": [],
      "metadata": {
        "id": "Tn0qaRBc_7H7"
      },
      "execution_count": 50,
      "outputs": []
    },
    {
      "cell_type": "code",
      "source": [],
      "metadata": {
        "id": "wgJ3aVnLAXaA"
      },
      "execution_count": 50,
      "outputs": []
    }
  ]
}