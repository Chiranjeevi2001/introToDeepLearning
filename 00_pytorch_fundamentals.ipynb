{
  "nbformat": 4,
  "nbformat_minor": 0,
  "metadata": {
    "colab": {
      "provenance": [],
      "gpuType": "T4",
      "authorship_tag": "ABX9TyPEUpnyQPof4Dz6C8qf2FFb",
      "include_colab_link": true
    },
    "kernelspec": {
      "name": "python3",
      "display_name": "Python 3"
    },
    "language_info": {
      "name": "python"
    },
    "accelerator": "GPU"
  },
  "cells": [
    {
      "cell_type": "markdown",
      "metadata": {
        "id": "view-in-github",
        "colab_type": "text"
      },
      "source": [
        "<a href=\"https://colab.research.google.com/github/Chiranjeevi2001/introToDeepLearning/blob/main/00_pytorch_fundamentals.ipynb\" target=\"_parent\"><img src=\"https://colab.research.google.com/assets/colab-badge.svg\" alt=\"Open In Colab\"/></a>"
      ]
    },
    {
      "cell_type": "code",
      "execution_count": 1,
      "metadata": {
        "colab": {
          "base_uri": "https://localhost:8080/"
        },
        "id": "VeLz-_wlcm49",
        "outputId": "94f4abaf-0bf7-4c15-80e5-ac77d48aa5da"
      },
      "outputs": [
        {
          "output_type": "stream",
          "name": "stdout",
          "text": [
            "/bin/bash: line 1: nvidia-smi: command not found\n"
          ]
        }
      ],
      "source": [
        "!nvidia-smi"
      ]
    },
    {
      "cell_type": "markdown",
      "source": [
        "##00 PyTorch Fundamentals"
      ],
      "metadata": {
        "id": "pnTZ38MPdaQ0"
      }
    },
    {
      "cell_type": "code",
      "source": [
        "import torch\n",
        "import pandas as pd\n",
        "import numpy as np\n",
        "import matplotlib.pyplot as plt\n",
        "print(torch.__version__)"
      ],
      "metadata": {
        "colab": {
          "base_uri": "https://localhost:8080/"
        },
        "id": "GttBIMRUdywO",
        "outputId": "451af896-7cb6-4635-b276-886705794483"
      },
      "execution_count": 2,
      "outputs": [
        {
          "output_type": "stream",
          "name": "stdout",
          "text": [
            "2.1.0+cu121\n"
          ]
        }
      ]
    },
    {
      "cell_type": "markdown",
      "source": [
        "## Introduction to Tensors"
      ],
      "metadata": {
        "id": "RUt1KwQmd2Fk"
      }
    },
    {
      "cell_type": "code",
      "source": [
        "# creating tensors\n",
        "#scalar\n",
        "scalar  = torch.tensor(73)\n",
        "print(scalar.shape)"
      ],
      "metadata": {
        "colab": {
          "base_uri": "https://localhost:8080/"
        },
        "id": "mT30z47Eeysy",
        "outputId": "1e81f4c6-ec67-4265-e0d9-fae714c07503"
      },
      "execution_count": 3,
      "outputs": [
        {
          "output_type": "stream",
          "name": "stdout",
          "text": [
            "torch.Size([])\n"
          ]
        }
      ]
    },
    {
      "cell_type": "code",
      "source": [
        "scalar.ndim"
      ],
      "metadata": {
        "colab": {
          "base_uri": "https://localhost:8080/"
        },
        "id": "KN7ibX08fEqG",
        "outputId": "1406b7a9-8073-4395-faec-2df5a16d8cbc"
      },
      "execution_count": 4,
      "outputs": [
        {
          "output_type": "execute_result",
          "data": {
            "text/plain": [
              "0"
            ]
          },
          "metadata": {},
          "execution_count": 4
        }
      ]
    },
    {
      "cell_type": "code",
      "source": [
        "# Get Tensor back as Python int\n",
        "scalar.item()"
      ],
      "metadata": {
        "colab": {
          "base_uri": "https://localhost:8080/"
        },
        "id": "VWON00GsfmFd",
        "outputId": "d39ac326-217a-413e-bfb8-a02fc5978ace"
      },
      "execution_count": 5,
      "outputs": [
        {
          "output_type": "execute_result",
          "data": {
            "text/plain": [
              "73"
            ]
          },
          "metadata": {},
          "execution_count": 5
        }
      ]
    },
    {
      "cell_type": "code",
      "source": [
        "# vector\n",
        "\n",
        "vector = torch.tensor([7,7])\n",
        "vector"
      ],
      "metadata": {
        "colab": {
          "base_uri": "https://localhost:8080/"
        },
        "id": "mGNH2JOrfpmM",
        "outputId": "428637f2-2f72-4919-c5cf-f953245273da"
      },
      "execution_count": 6,
      "outputs": [
        {
          "output_type": "execute_result",
          "data": {
            "text/plain": [
              "tensor([7, 7])"
            ]
          },
          "metadata": {},
          "execution_count": 6
        }
      ]
    },
    {
      "cell_type": "code",
      "source": [
        "vector.ndim"
      ],
      "metadata": {
        "colab": {
          "base_uri": "https://localhost:8080/"
        },
        "id": "Jl_DnNfEf82W",
        "outputId": "8e9a9eca-d394-436b-cc05-b56ed910ffd9"
      },
      "execution_count": 7,
      "outputs": [
        {
          "output_type": "execute_result",
          "data": {
            "text/plain": [
              "1"
            ]
          },
          "metadata": {},
          "execution_count": 7
        }
      ]
    },
    {
      "cell_type": "code",
      "source": [
        "vector.shape"
      ],
      "metadata": {
        "colab": {
          "base_uri": "https://localhost:8080/"
        },
        "id": "FCrpoGEmf-hX",
        "outputId": "badcc9c2-2c58-46e6-ef7a-41c89f84cbb9"
      },
      "execution_count": 8,
      "outputs": [
        {
          "output_type": "execute_result",
          "data": {
            "text/plain": [
              "torch.Size([2])"
            ]
          },
          "metadata": {},
          "execution_count": 8
        }
      ]
    },
    {
      "cell_type": "code",
      "source": [
        "# Matrix\n",
        "\n",
        "MATRIX = torch.tensor([[7,8],\n",
        "                       [1,2]])\n",
        "MATRIX"
      ],
      "metadata": {
        "colab": {
          "base_uri": "https://localhost:8080/"
        },
        "id": "ff-gLoCPgCkH",
        "outputId": "d2eecc11-0c60-4367-e7c1-f8d7a2e608e6"
      },
      "execution_count": 9,
      "outputs": [
        {
          "output_type": "execute_result",
          "data": {
            "text/plain": [
              "tensor([[7, 8],\n",
              "        [1, 2]])"
            ]
          },
          "metadata": {},
          "execution_count": 9
        }
      ]
    },
    {
      "cell_type": "code",
      "source": [
        "MATRIX.ndim"
      ],
      "metadata": {
        "colab": {
          "base_uri": "https://localhost:8080/"
        },
        "id": "tPDxOxhMgRsy",
        "outputId": "d370a162-197f-4c3a-a551-f7aaaf41ddcd"
      },
      "execution_count": 10,
      "outputs": [
        {
          "output_type": "execute_result",
          "data": {
            "text/plain": [
              "2"
            ]
          },
          "metadata": {},
          "execution_count": 10
        }
      ]
    },
    {
      "cell_type": "code",
      "source": [
        "MATRIX.shape"
      ],
      "metadata": {
        "colab": {
          "base_uri": "https://localhost:8080/"
        },
        "id": "dPYEd-OugU6Z",
        "outputId": "b71d24ac-2587-4518-d7e3-cd85048bbe28"
      },
      "execution_count": 11,
      "outputs": [
        {
          "output_type": "execute_result",
          "data": {
            "text/plain": [
              "torch.Size([2, 2])"
            ]
          },
          "metadata": {},
          "execution_count": 11
        }
      ]
    },
    {
      "cell_type": "code",
      "source": [
        "# Tensor\n",
        "\n",
        "TENSOR = torch.tensor([[[2,3], [4,5]],\n",
        "                       [[2,3],[10, 19]]])\n",
        "TENSOR"
      ],
      "metadata": {
        "colab": {
          "base_uri": "https://localhost:8080/"
        },
        "id": "1C6zNH0ggX4B",
        "outputId": "5eced5ce-8b60-4a2e-ba41-af89c7b9774f"
      },
      "execution_count": 12,
      "outputs": [
        {
          "output_type": "execute_result",
          "data": {
            "text/plain": [
              "tensor([[[ 2,  3],\n",
              "         [ 4,  5]],\n",
              "\n",
              "        [[ 2,  3],\n",
              "         [10, 19]]])"
            ]
          },
          "metadata": {},
          "execution_count": 12
        }
      ]
    },
    {
      "cell_type": "code",
      "source": [
        "TENSOR.ndim"
      ],
      "metadata": {
        "colab": {
          "base_uri": "https://localhost:8080/"
        },
        "id": "RWQRQmzLg0UV",
        "outputId": "0214d0f0-711c-48d7-aa62-af9277e691be"
      },
      "execution_count": 13,
      "outputs": [
        {
          "output_type": "execute_result",
          "data": {
            "text/plain": [
              "3"
            ]
          },
          "metadata": {},
          "execution_count": 13
        }
      ]
    },
    {
      "cell_type": "code",
      "source": [
        "TENSOR.shape"
      ],
      "metadata": {
        "colab": {
          "base_uri": "https://localhost:8080/"
        },
        "id": "Pn_VLuqVg4SP",
        "outputId": "5cdfa290-1666-46d5-8239-d5be6e2ae8cb"
      },
      "execution_count": 14,
      "outputs": [
        {
          "output_type": "execute_result",
          "data": {
            "text/plain": [
              "torch.Size([2, 2, 2])"
            ]
          },
          "metadata": {},
          "execution_count": 14
        }
      ]
    },
    {
      "cell_type": "markdown",
      "source": [
        "## random tensor"
      ],
      "metadata": {
        "id": "1zJjLXo-g6SY"
      }
    },
    {
      "cell_type": "code",
      "source": [
        "random_tensor = torch.rand(3,4,2,10)\n",
        "random_tensor"
      ],
      "metadata": {
        "colab": {
          "base_uri": "https://localhost:8080/"
        },
        "id": "eAjXGUu_n7nY",
        "outputId": "d8d6c397-4988-4179-f726-001c74fc5877"
      },
      "execution_count": 15,
      "outputs": [
        {
          "output_type": "execute_result",
          "data": {
            "text/plain": [
              "tensor([[[[0.5231, 0.0850, 0.0764, 0.2092, 0.8809, 0.2281, 0.4649, 0.9995,\n",
              "           0.9628, 0.4015],\n",
              "          [0.8229, 0.2823, 0.9910, 0.7103, 0.2853, 0.1560, 0.6138, 0.5293,\n",
              "           0.1963, 0.2693]],\n",
              "\n",
              "         [[0.8101, 0.4455, 0.5099, 0.9900, 0.1903, 0.4865, 0.9235, 0.6537,\n",
              "           0.3500, 0.1682],\n",
              "          [0.1951, 0.1827, 0.6855, 0.7922, 0.9898, 0.5076, 0.3826, 0.2930,\n",
              "           0.8330, 0.5142]],\n",
              "\n",
              "         [[0.2349, 0.5582, 0.3630, 0.1828, 0.3114, 0.2917, 0.2799, 0.3457,\n",
              "           0.5431, 0.8289],\n",
              "          [0.9372, 0.0641, 0.9224, 0.8241, 0.3985, 0.6924, 0.9194, 0.2659,\n",
              "           0.0985, 0.2578]],\n",
              "\n",
              "         [[0.2294, 0.4196, 0.0305, 0.1580, 0.8203, 0.9717, 0.2733, 0.3809,\n",
              "           0.8339, 0.5325],\n",
              "          [0.6675, 0.1334, 0.3734, 0.2462, 0.9598, 0.6300, 0.2060, 0.1735,\n",
              "           0.3026, 0.1267]]],\n",
              "\n",
              "\n",
              "        [[[0.3882, 0.4909, 0.9293, 0.2920, 0.1652, 0.4578, 0.1139, 0.1599,\n",
              "           0.5939, 0.5628],\n",
              "          [0.8952, 0.8631, 0.5901, 0.8481, 0.1167, 0.3569, 0.0553, 0.3355,\n",
              "           0.9542, 0.9954]],\n",
              "\n",
              "         [[0.1371, 0.1430, 0.3684, 0.2786, 0.8163, 0.6562, 0.4867, 0.4894,\n",
              "           0.6395, 0.9031],\n",
              "          [0.7291, 0.4785, 0.1950, 0.7690, 0.9977, 0.9176, 0.2275, 0.0448,\n",
              "           0.2792, 0.5623]],\n",
              "\n",
              "         [[0.0219, 0.7601, 0.6528, 0.7520, 0.0965, 0.4408, 0.0693, 0.3166,\n",
              "           0.1365, 0.1423],\n",
              "          [0.7908, 0.9526, 0.2044, 0.7265, 0.4294, 0.5470, 0.7754, 0.9585,\n",
              "           0.8809, 0.6726]],\n",
              "\n",
              "         [[0.0010, 0.6194, 0.4623, 0.1102, 0.4515, 0.2520, 0.7923, 0.4898,\n",
              "           0.6586, 0.8507],\n",
              "          [0.7394, 0.7352, 0.3174, 0.8793, 0.3227, 0.4134, 0.5483, 0.6437,\n",
              "           0.4407, 0.2045]]],\n",
              "\n",
              "\n",
              "        [[[0.7731, 0.2365, 0.8091, 0.2849, 0.4275, 0.0527, 0.0571, 0.3507,\n",
              "           0.3377, 0.2737],\n",
              "          [0.9007, 0.5205, 0.9851, 0.4407, 0.3622, 0.7214, 0.9429, 0.6726,\n",
              "           0.9623, 0.9329]],\n",
              "\n",
              "         [[0.6351, 0.6128, 0.2089, 0.6390, 0.4686, 0.1781, 0.0090, 0.4581,\n",
              "           0.8455, 0.9077],\n",
              "          [0.4090, 0.8257, 0.4019, 0.4148, 0.6610, 0.4670, 0.9664, 0.6767,\n",
              "           0.5673, 0.0689]],\n",
              "\n",
              "         [[0.7903, 0.0735, 0.9351, 0.9817, 0.0153, 0.9297, 0.6423, 0.0233,\n",
              "           0.5911, 0.5325],\n",
              "          [0.0971, 0.7083, 0.5402, 0.1760, 0.5087, 0.0551, 0.1824, 0.1947,\n",
              "           0.5350, 0.6050]],\n",
              "\n",
              "         [[0.8244, 0.3485, 0.9465, 0.7732, 0.3549, 0.0173, 0.7505, 0.4014,\n",
              "           0.3899, 0.1304],\n",
              "          [0.4611, 0.8652, 0.5618, 0.7746, 0.8640, 0.1460, 0.9237, 0.2863,\n",
              "           0.9172, 0.7504]]]])"
            ]
          },
          "metadata": {},
          "execution_count": 15
        }
      ]
    },
    {
      "cell_type": "code",
      "source": [
        "#creating a tensor with the same size as that of an image\n",
        "random_image_size_tensor = torch.rand(size=(224,224,3) )#height, width and color channel (rgb)\n",
        "random_image_size_tensor.shape, random_image_size_tensor.ndim"
      ],
      "metadata": {
        "colab": {
          "base_uri": "https://localhost:8080/"
        },
        "id": "WXJqowCnoBBA",
        "outputId": "c7783405-3369-4559-f532-d64adeed2819"
      },
      "execution_count": 16,
      "outputs": [
        {
          "output_type": "execute_result",
          "data": {
            "text/plain": [
              "(torch.Size([224, 224, 3]), 3)"
            ]
          },
          "metadata": {},
          "execution_count": 16
        }
      ]
    },
    {
      "cell_type": "markdown",
      "source": [
        "### Zeros and ones"
      ],
      "metadata": {
        "id": "Te-UH2LbolVN"
      }
    },
    {
      "cell_type": "code",
      "source": [
        "zeros = torch.zeros(3,3)\n",
        "zeros"
      ],
      "metadata": {
        "colab": {
          "base_uri": "https://localhost:8080/"
        },
        "id": "yU1eAjncpS8f",
        "outputId": "d9587982-1a19-4ad4-cdde-d3adbf50db18"
      },
      "execution_count": 17,
      "outputs": [
        {
          "output_type": "execute_result",
          "data": {
            "text/plain": [
              "tensor([[0., 0., 0.],\n",
              "        [0., 0., 0.],\n",
              "        [0., 0., 0.]])"
            ]
          },
          "metadata": {},
          "execution_count": 17
        }
      ]
    },
    {
      "cell_type": "code",
      "source": [
        "random_tensor = torch.rand(3,3)\n",
        "zeros*random_tensor"
      ],
      "metadata": {
        "colab": {
          "base_uri": "https://localhost:8080/"
        },
        "id": "dQLANz2ppWwj",
        "outputId": "926b0a39-87d0-45f4-c30f-31ad7b5e2c90"
      },
      "execution_count": 18,
      "outputs": [
        {
          "output_type": "execute_result",
          "data": {
            "text/plain": [
              "tensor([[0., 0., 0.],\n",
              "        [0., 0., 0.],\n",
              "        [0., 0., 0.]])"
            ]
          },
          "metadata": {},
          "execution_count": 18
        }
      ]
    },
    {
      "cell_type": "code",
      "source": [
        "ones = torch.ones(size=(3,4))\n",
        "ones"
      ],
      "metadata": {
        "colab": {
          "base_uri": "https://localhost:8080/"
        },
        "id": "iE1Urcv2pjAB",
        "outputId": "3650f4b8-c43f-453d-f81d-939745fec6ce"
      },
      "execution_count": 19,
      "outputs": [
        {
          "output_type": "execute_result",
          "data": {
            "text/plain": [
              "tensor([[1., 1., 1., 1.],\n",
              "        [1., 1., 1., 1.],\n",
              "        [1., 1., 1., 1.]])"
            ]
          },
          "metadata": {},
          "execution_count": 19
        }
      ]
    },
    {
      "cell_type": "code",
      "source": [
        "ones.dtype"
      ],
      "metadata": {
        "colab": {
          "base_uri": "https://localhost:8080/"
        },
        "id": "c9zETp1BptPP",
        "outputId": "bea52280-7543-4e07-a892-896769a9855b"
      },
      "execution_count": 20,
      "outputs": [
        {
          "output_type": "execute_result",
          "data": {
            "text/plain": [
              "torch.float32"
            ]
          },
          "metadata": {},
          "execution_count": 20
        }
      ]
    },
    {
      "cell_type": "markdown",
      "source": [
        "### Creating a range of tensors and tensors-like"
      ],
      "metadata": {
        "id": "NDsZLl4upuvq"
      }
    },
    {
      "cell_type": "code",
      "source": [
        "# Use torch.arange()\n",
        "\n",
        "one_to_ten = torch.arange(0,10.1,0.1) # start (inclusive), end(exclusive) and the step.\n",
        "one_to_ten, one_to_ten.shape"
      ],
      "metadata": {
        "colab": {
          "base_uri": "https://localhost:8080/"
        },
        "id": "DVGmYfKCqDHT",
        "outputId": "2240f633-047e-47e8-a1d8-a271745da62e"
      },
      "execution_count": 21,
      "outputs": [
        {
          "output_type": "execute_result",
          "data": {
            "text/plain": [
              "(tensor([ 0.0000,  0.1000,  0.2000,  0.3000,  0.4000,  0.5000,  0.6000,  0.7000,\n",
              "          0.8000,  0.9000,  1.0000,  1.1000,  1.2000,  1.3000,  1.4000,  1.5000,\n",
              "          1.6000,  1.7000,  1.8000,  1.9000,  2.0000,  2.1000,  2.2000,  2.3000,\n",
              "          2.4000,  2.5000,  2.6000,  2.7000,  2.8000,  2.9000,  3.0000,  3.1000,\n",
              "          3.2000,  3.3000,  3.4000,  3.5000,  3.6000,  3.7000,  3.8000,  3.9000,\n",
              "          4.0000,  4.1000,  4.2000,  4.3000,  4.4000,  4.5000,  4.6000,  4.7000,\n",
              "          4.8000,  4.9000,  5.0000,  5.1000,  5.2000,  5.3000,  5.4000,  5.5000,\n",
              "          5.6000,  5.7000,  5.8000,  5.9000,  6.0000,  6.1000,  6.2000,  6.3000,\n",
              "          6.4000,  6.5000,  6.6000,  6.7000,  6.8000,  6.9000,  7.0000,  7.1000,\n",
              "          7.2000,  7.3000,  7.4000,  7.5000,  7.6000,  7.7000,  7.8000,  7.9000,\n",
              "          8.0000,  8.1000,  8.2000,  8.3000,  8.4000,  8.5000,  8.6000,  8.7000,\n",
              "          8.8000,  8.9000,  9.0000,  9.1000,  9.2000,  9.3000,  9.4000,  9.5000,\n",
              "          9.6000,  9.7000,  9.8000,  9.9000, 10.0000]),\n",
              " torch.Size([101]))"
            ]
          },
          "metadata": {},
          "execution_count": 21
        }
      ]
    },
    {
      "cell_type": "code",
      "source": [
        "# Creating tensor-like\n",
        "\n",
        "ten_zeros = torch.zeros_like(input = one_to_ten) #create a zeros tensor with the same shape as that of one_to_ten tensor\n",
        "ten_zeros, ten_zeros.shape"
      ],
      "metadata": {
        "colab": {
          "base_uri": "https://localhost:8080/"
        },
        "id": "uipdObE-qHUe",
        "outputId": "f591c599-da09-4197-8892-4d10a2b50b22"
      },
      "execution_count": 22,
      "outputs": [
        {
          "output_type": "execute_result",
          "data": {
            "text/plain": [
              "(tensor([0., 0., 0., 0., 0., 0., 0., 0., 0., 0., 0., 0., 0., 0., 0., 0., 0., 0., 0., 0., 0., 0., 0., 0.,\n",
              "         0., 0., 0., 0., 0., 0., 0., 0., 0., 0., 0., 0., 0., 0., 0., 0., 0., 0., 0., 0., 0., 0., 0., 0.,\n",
              "         0., 0., 0., 0., 0., 0., 0., 0., 0., 0., 0., 0., 0., 0., 0., 0., 0., 0., 0., 0., 0., 0., 0., 0.,\n",
              "         0., 0., 0., 0., 0., 0., 0., 0., 0., 0., 0., 0., 0., 0., 0., 0., 0., 0., 0., 0., 0., 0., 0., 0.,\n",
              "         0., 0., 0., 0., 0.]),\n",
              " torch.Size([101]))"
            ]
          },
          "metadata": {},
          "execution_count": 22
        }
      ]
    },
    {
      "cell_type": "markdown",
      "source": [
        "## Tensor datatypes"
      ],
      "metadata": {
        "id": "bIiBDQAmrDdz"
      }
    },
    {
      "cell_type": "code",
      "source": [
        "float32_tensor = torch.tensor([3.0,6.0,9.0], dtype = None, #datatype of tensor\n",
        "                              device = None, #on which device the tensor is stored, default = \"cpu\"\n",
        "                              requires_grad = False # track the gradients with tensor operations\n",
        "                              )"
      ],
      "metadata": {
        "id": "kRSCW6Qfrf0n"
      },
      "execution_count": 23,
      "outputs": []
    },
    {
      "cell_type": "code",
      "source": [
        "float32_tensor, float32_tensor.dtype"
      ],
      "metadata": {
        "colab": {
          "base_uri": "https://localhost:8080/"
        },
        "id": "JpDOQ8VErnv1",
        "outputId": "86e56414-963a-475a-fb1e-aab8b138ee9c"
      },
      "execution_count": 24,
      "outputs": [
        {
          "output_type": "execute_result",
          "data": {
            "text/plain": [
              "(tensor([3., 6., 9.]), torch.float32)"
            ]
          },
          "metadata": {},
          "execution_count": 24
        }
      ]
    },
    {
      "cell_type": "code",
      "source": [
        "float16_tensor = float32_tensor.type(torch.float16)\n",
        "float16_tensor\n"
      ],
      "metadata": {
        "colab": {
          "base_uri": "https://localhost:8080/"
        },
        "id": "1wlKWK_Rrr2Q",
        "outputId": "f026b08f-7c8e-47a5-899a-e27423d39306"
      },
      "execution_count": 25,
      "outputs": [
        {
          "output_type": "execute_result",
          "data": {
            "text/plain": [
              "tensor([3., 6., 9.], dtype=torch.float16)"
            ]
          },
          "metadata": {},
          "execution_count": 25
        }
      ]
    },
    {
      "cell_type": "code",
      "source": [
        "float16_tensor * float32_tensor"
      ],
      "metadata": {
        "colab": {
          "base_uri": "https://localhost:8080/"
        },
        "id": "Lb-S73pIt61o",
        "outputId": "6dd89f39-bf13-4191-fb36-4febb6520856"
      },
      "execution_count": 26,
      "outputs": [
        {
          "output_type": "execute_result",
          "data": {
            "text/plain": [
              "tensor([ 9., 36., 81.])"
            ]
          },
          "metadata": {},
          "execution_count": 26
        }
      ]
    },
    {
      "cell_type": "code",
      "source": [
        "int32_tensor = torch.tensor([3,6,9], dtype = torch.int32)\n",
        "int32_tensor"
      ],
      "metadata": {
        "colab": {
          "base_uri": "https://localhost:8080/"
        },
        "id": "fr0cwNI1uHT_",
        "outputId": "37951a06-34a2-43bc-f027-f3f33daf801c"
      },
      "execution_count": 27,
      "outputs": [
        {
          "output_type": "execute_result",
          "data": {
            "text/plain": [
              "tensor([3, 6, 9], dtype=torch.int32)"
            ]
          },
          "metadata": {},
          "execution_count": 27
        }
      ]
    },
    {
      "cell_type": "code",
      "source": [
        "float32_tensor * int32_tensor"
      ],
      "metadata": {
        "colab": {
          "base_uri": "https://localhost:8080/"
        },
        "id": "6vg187nxufsj",
        "outputId": "3c1f9e29-a32c-4134-ae07-3c37d66358eb"
      },
      "execution_count": 28,
      "outputs": [
        {
          "output_type": "execute_result",
          "data": {
            "text/plain": [
              "tensor([ 9., 36., 81.])"
            ]
          },
          "metadata": {},
          "execution_count": 28
        }
      ]
    },
    {
      "cell_type": "markdown",
      "source": [
        "## Getting information from tensors (tensor attributes)"
      ],
      "metadata": {
        "id": "YCm4Mvy8ujOf"
      }
    },
    {
      "cell_type": "code",
      "source": [
        "int32_tensor.dtype, float32_tensor.dtype, float16_tensor.dtype # getting the datatype"
      ],
      "metadata": {
        "colab": {
          "base_uri": "https://localhost:8080/"
        },
        "id": "G_euSsBgu8jE",
        "outputId": "ecd24fb4-70a5-459e-dbed-45b1cbceae85"
      },
      "execution_count": 29,
      "outputs": [
        {
          "output_type": "execute_result",
          "data": {
            "text/plain": [
              "(torch.int32, torch.float32, torch.float16)"
            ]
          },
          "metadata": {},
          "execution_count": 29
        }
      ]
    },
    {
      "cell_type": "code",
      "source": [
        "int32_tensor.shape, float32_tensor.shape, float16_tensor.shape # getting the shape"
      ],
      "metadata": {
        "colab": {
          "base_uri": "https://localhost:8080/"
        },
        "id": "AJyAUMahvO-6",
        "outputId": "3f545514-d08c-45a4-dd88-1cb120c13321"
      },
      "execution_count": 30,
      "outputs": [
        {
          "output_type": "execute_result",
          "data": {
            "text/plain": [
              "(torch.Size([3]), torch.Size([3]), torch.Size([3]))"
            ]
          },
          "metadata": {},
          "execution_count": 30
        }
      ]
    },
    {
      "cell_type": "code",
      "source": [
        "int32_tensor.device, float32_tensor.device, float16_tensor.device # get the device"
      ],
      "metadata": {
        "colab": {
          "base_uri": "https://localhost:8080/"
        },
        "id": "IOLJ8teHvVZ5",
        "outputId": "d04f7144-c0ce-4277-d193-6ea1491b6bcf"
      },
      "execution_count": 31,
      "outputs": [
        {
          "output_type": "execute_result",
          "data": {
            "text/plain": [
              "(device(type='cpu'), device(type='cpu'), device(type='cpu'))"
            ]
          },
          "metadata": {},
          "execution_count": 31
        }
      ]
    },
    {
      "cell_type": "code",
      "source": [
        "gpu_tensor = int32_tensor.to(\"cpu\")"
      ],
      "metadata": {
        "id": "ezHqsnfivjfs"
      },
      "execution_count": 32,
      "outputs": []
    },
    {
      "cell_type": "code",
      "source": [
        "gpu_tensor.device"
      ],
      "metadata": {
        "colab": {
          "base_uri": "https://localhost:8080/"
        },
        "id": "1u_0d9G6wR7c",
        "outputId": "66eb7355-04fa-41ae-9f8d-d4505d63a645"
      },
      "execution_count": 33,
      "outputs": [
        {
          "output_type": "execute_result",
          "data": {
            "text/plain": [
              "device(type='cpu')"
            ]
          },
          "metadata": {},
          "execution_count": 33
        }
      ]
    },
    {
      "cell_type": "markdown",
      "source": [
        "## Manipulating Tensors (Tensor Operations)\n",
        "\n",
        "1. Addition\n",
        "2. Subtraction\n",
        "3. Multiplication (element wise)\n",
        "4. Division\n",
        "5. Matrix Multiplication"
      ],
      "metadata": {
        "id": "0-RH_js2wgeA"
      }
    },
    {
      "cell_type": "code",
      "source": [
        "# Create a tensor\n",
        "\n",
        "tensor = torch.tensor([1,2,3])\n",
        "tensor + 10 # adds 10 to every element"
      ],
      "metadata": {
        "colab": {
          "base_uri": "https://localhost:8080/"
        },
        "id": "onelBrSnwxtn",
        "outputId": "4243451c-ccc4-47f5-8e57-3af83b0464ef"
      },
      "execution_count": 34,
      "outputs": [
        {
          "output_type": "execute_result",
          "data": {
            "text/plain": [
              "tensor([11, 12, 13])"
            ]
          },
          "metadata": {},
          "execution_count": 34
        }
      ]
    },
    {
      "cell_type": "code",
      "source": [
        "tensor * 10"
      ],
      "metadata": {
        "colab": {
          "base_uri": "https://localhost:8080/"
        },
        "id": "DN5oU88YxMeI",
        "outputId": "3a1ca365-4160-4534-b6db-5b6efed905ac"
      },
      "execution_count": 35,
      "outputs": [
        {
          "output_type": "execute_result",
          "data": {
            "text/plain": [
              "tensor([10, 20, 30])"
            ]
          },
          "metadata": {},
          "execution_count": 35
        }
      ]
    },
    {
      "cell_type": "code",
      "source": [
        "tensor/5"
      ],
      "metadata": {
        "colab": {
          "base_uri": "https://localhost:8080/"
        },
        "id": "BXIRRBxOxSeN",
        "outputId": "7909813b-f467-404b-f833-202711558d57"
      },
      "execution_count": 36,
      "outputs": [
        {
          "output_type": "execute_result",
          "data": {
            "text/plain": [
              "tensor([0.2000, 0.4000, 0.6000])"
            ]
          },
          "metadata": {},
          "execution_count": 36
        }
      ]
    },
    {
      "cell_type": "code",
      "source": [
        "tensor-10"
      ],
      "metadata": {
        "colab": {
          "base_uri": "https://localhost:8080/"
        },
        "id": "WugtRZioxU8I",
        "outputId": "a5cbe2b0-2053-4274-910f-57929713ba0c"
      },
      "execution_count": 37,
      "outputs": [
        {
          "output_type": "execute_result",
          "data": {
            "text/plain": [
              "tensor([-9, -8, -7])"
            ]
          },
          "metadata": {},
          "execution_count": 37
        }
      ]
    },
    {
      "cell_type": "code",
      "source": [
        "# Inbuilt functions for tensor\n",
        "\n",
        "torch.mul(tensor, 10)"
      ],
      "metadata": {
        "colab": {
          "base_uri": "https://localhost:8080/"
        },
        "id": "Tmcmi4FKxXU2",
        "outputId": "9f1b3cc1-0459-4465-aa02-ca140e9c6fe0"
      },
      "execution_count": 38,
      "outputs": [
        {
          "output_type": "execute_result",
          "data": {
            "text/plain": [
              "tensor([10, 20, 30])"
            ]
          },
          "metadata": {},
          "execution_count": 38
        }
      ]
    },
    {
      "cell_type": "markdown",
      "source": [
        "### Matrix Multiplication (most common tensor operation)"
      ],
      "metadata": {
        "id": "IDg-j3a2xqFc"
      }
    },
    {
      "cell_type": "code",
      "source": [
        "%%time\n",
        "torch.matmul(tensor, tensor) ## works like a dot product for 1-d tensors"
      ],
      "metadata": {
        "colab": {
          "base_uri": "https://localhost:8080/"
        },
        "id": "SPczM0qFyI9q",
        "outputId": "53f424bc-7a18-4998-f5b8-3365daff6861"
      },
      "execution_count": 39,
      "outputs": [
        {
          "output_type": "stream",
          "name": "stdout",
          "text": [
            "CPU times: user 271 µs, sys: 54 µs, total: 325 µs\n",
            "Wall time: 3.45 ms\n"
          ]
        },
        {
          "output_type": "execute_result",
          "data": {
            "text/plain": [
              "tensor(14)"
            ]
          },
          "metadata": {},
          "execution_count": 39
        }
      ]
    },
    {
      "cell_type": "code",
      "source": [
        "# calculating dot product manually\n",
        "%%time\n",
        "value = 0\n",
        "for i in range(len(tensor)):\n",
        "  value += tensor[i]*tensor[i]\n",
        "print(value)"
      ],
      "metadata": {
        "id": "w33hItVPzz9O",
        "colab": {
          "base_uri": "https://localhost:8080/"
        },
        "outputId": "cf34caa9-3eec-46cc-a1a5-9afd0dd4a65a"
      },
      "execution_count": 40,
      "outputs": [
        {
          "output_type": "stream",
          "name": "stdout",
          "text": [
            "tensor(14)\n",
            "CPU times: user 791 µs, sys: 1.16 ms, total: 1.95 ms\n",
            "Wall time: 5.12 ms\n"
          ]
        }
      ]
    },
    {
      "cell_type": "markdown",
      "source": [
        "### One of the most common errors in deep learning: Shape Errors\n",
        "\n",
        "Inner dimensions during matrix multiplication should match\n",
        "\n",
        "* `(3,2) @ (3,2)` won't work\n",
        "* `(3,2) @ (2,3)` will work\n",
        "\n",
        "The resulting matrix will have the dimensions of the outter dimensions."
      ],
      "metadata": {
        "id": "TLrp3MqeuWfm"
      }
    },
    {
      "cell_type": "code",
      "source": [
        "torch.matmul(torch.rand(3,2), torch.rand(2,2)).shape"
      ],
      "metadata": {
        "colab": {
          "base_uri": "https://localhost:8080/"
        },
        "id": "ZAen-wNc5ElM",
        "outputId": "2c0fb032-480c-44e0-84b7-a843b0a1b90f"
      },
      "execution_count": 41,
      "outputs": [
        {
          "output_type": "execute_result",
          "data": {
            "text/plain": [
              "torch.Size([3, 2])"
            ]
          },
          "metadata": {},
          "execution_count": 41
        }
      ]
    },
    {
      "cell_type": "code",
      "source": [
        "# shapes for matrix multiplication\n",
        "tensor_A = torch.tensor([[1,2],\n",
        "                         [3,4],\n",
        "                         [5,6]])\n",
        "\n",
        "tensor_B = torch.tensor([[7,10],\n",
        "                         [8,11],\n",
        "                         [9,12]])\n",
        "\n",
        "# transpose any one of the matrices to fix the shape issue\n",
        "torch.mm(tensor_A.mT, tensor_B)  ## torch.mm == torch.matmul"
      ],
      "metadata": {
        "colab": {
          "base_uri": "https://localhost:8080/"
        },
        "id": "0yrEjhXT5qWa",
        "outputId": "216de40f-80f9-4ea7-cbe6-61e85ef307c9"
      },
      "execution_count": 42,
      "outputs": [
        {
          "output_type": "execute_result",
          "data": {
            "text/plain": [
              "tensor([[ 76, 103],\n",
              "        [100, 136]])"
            ]
          },
          "metadata": {},
          "execution_count": 42
        }
      ]
    },
    {
      "cell_type": "markdown",
      "source": [
        "## Tensor Aggregation functions\n",
        "(min, max, mean, sum, etc.)"
      ],
      "metadata": {
        "id": "YI8diklK8n23"
      }
    },
    {
      "cell_type": "code",
      "source": [
        "x = torch.arange(1,100,10)\n",
        "x"
      ],
      "metadata": {
        "colab": {
          "base_uri": "https://localhost:8080/"
        },
        "id": "mX6eIYNi-es1",
        "outputId": "6f8ca27b-449e-4794-f4ed-6072dc4d161f"
      },
      "execution_count": 43,
      "outputs": [
        {
          "output_type": "execute_result",
          "data": {
            "text/plain": [
              "tensor([ 1, 11, 21, 31, 41, 51, 61, 71, 81, 91])"
            ]
          },
          "metadata": {},
          "execution_count": 43
        }
      ]
    },
    {
      "cell_type": "code",
      "source": [
        "torch.min(x), x.min()"
      ],
      "metadata": {
        "colab": {
          "base_uri": "https://localhost:8080/"
        },
        "id": "TFOT4mVc-nSS",
        "outputId": "81f0d784-32c2-4ed8-e8e2-07f677c7d94d"
      },
      "execution_count": 44,
      "outputs": [
        {
          "output_type": "execute_result",
          "data": {
            "text/plain": [
              "(tensor(1), tensor(1))"
            ]
          },
          "metadata": {},
          "execution_count": 44
        }
      ]
    },
    {
      "cell_type": "code",
      "source": [
        "torch.max(x), x.max()"
      ],
      "metadata": {
        "colab": {
          "base_uri": "https://localhost:8080/"
        },
        "id": "Z5Q2sqBe-q4-",
        "outputId": "156837c3-33d3-4058-ce5a-562effc49b0c"
      },
      "execution_count": 45,
      "outputs": [
        {
          "output_type": "execute_result",
          "data": {
            "text/plain": [
              "(tensor(91), tensor(91))"
            ]
          },
          "metadata": {},
          "execution_count": 45
        }
      ]
    },
    {
      "cell_type": "code",
      "source": [
        "x.dtype"
      ],
      "metadata": {
        "colab": {
          "base_uri": "https://localhost:8080/"
        },
        "id": "aTfvlm8v-6Uq",
        "outputId": "14b830dd-7cad-4bf6-f624-43c2bd9641ff"
      },
      "execution_count": 46,
      "outputs": [
        {
          "output_type": "execute_result",
          "data": {
            "text/plain": [
              "torch.int64"
            ]
          },
          "metadata": {},
          "execution_count": 46
        }
      ]
    },
    {
      "cell_type": "code",
      "source": [
        "# mean function does not work on int64 (long) datatype it requires float32 or complex datatypes\n",
        "torch.mean(x.type(torch.float32)), x.type(torch.float32).mean()"
      ],
      "metadata": {
        "colab": {
          "base_uri": "https://localhost:8080/"
        },
        "id": "vO9AI0fh-tUo",
        "outputId": "6f4ba7ba-b8cb-45bb-99c8-2dd3f366d290"
      },
      "execution_count": 47,
      "outputs": [
        {
          "output_type": "execute_result",
          "data": {
            "text/plain": [
              "(tensor(46.), tensor(46.))"
            ]
          },
          "metadata": {},
          "execution_count": 47
        }
      ]
    },
    {
      "cell_type": "code",
      "source": [
        "torch.sum(x), x.sum()"
      ],
      "metadata": {
        "colab": {
          "base_uri": "https://localhost:8080/"
        },
        "id": "LaaAzDDG_Q0o",
        "outputId": "6fed9ad8-4b38-46cc-fa9d-051c715cb2ef"
      },
      "execution_count": 48,
      "outputs": [
        {
          "output_type": "execute_result",
          "data": {
            "text/plain": [
              "(tensor(460), tensor(460))"
            ]
          },
          "metadata": {},
          "execution_count": 48
        }
      ]
    },
    {
      "cell_type": "markdown",
      "source": [
        "## Finding the position of the max and min (positional max and min) in tensors"
      ],
      "metadata": {
        "id": "Ai_SbMGR_fTQ"
      }
    },
    {
      "cell_type": "code",
      "source": [
        "x.argmin() # returns 0-based index of the minimum element in the tensor"
      ],
      "metadata": {
        "colab": {
          "base_uri": "https://localhost:8080/"
        },
        "id": "tbhilfQk_0Ms",
        "outputId": "055285ff-2502-41ab-aee1-fd93ebc4293c"
      },
      "execution_count": 49,
      "outputs": [
        {
          "output_type": "execute_result",
          "data": {
            "text/plain": [
              "tensor(0)"
            ]
          },
          "metadata": {},
          "execution_count": 49
        }
      ]
    },
    {
      "cell_type": "code",
      "source": [
        "x.argmax() # returns 0-based index of the maximum element in the tensor"
      ],
      "metadata": {
        "colab": {
          "base_uri": "https://localhost:8080/"
        },
        "id": "6K5Bgx1b_5KP",
        "outputId": "0b7e8c46-7a99-4469-98b5-23cfd588d249"
      },
      "execution_count": 50,
      "outputs": [
        {
          "output_type": "execute_result",
          "data": {
            "text/plain": [
              "tensor(9)"
            ]
          },
          "metadata": {},
          "execution_count": 50
        }
      ]
    },
    {
      "cell_type": "markdown",
      "source": [
        "## Reshaping, stacking, squeezing and unsqueezing tensors\n",
        "\n",
        "* Reshape - modifying the shape of an input tensor\n",
        "* View - return a view of an input tensor of a certain shape but keep the same memory of the original tensor\n",
        "* Stack - concatenates a sequence of tensors along a new dimension (vstack and hstack)\n",
        "* Squeeze - removes all `1` dimensions from a tensor\n",
        "* Unsqueeze - adds a `1` dimension to a target vector\n",
        "* Permute - return a view of the input dimensions permuted (swapped) in a certain way"
      ],
      "metadata": {
        "id": "Tn0qaRBc_7H7"
      }
    },
    {
      "cell_type": "code",
      "source": [
        "x = torch.arange(1., 11.)\n",
        "x, x.shape"
      ],
      "metadata": {
        "colab": {
          "base_uri": "https://localhost:8080/"
        },
        "id": "wgJ3aVnLAXaA",
        "outputId": "02292e72-e605-4584-c164-f8b91de44f0e"
      },
      "execution_count": 51,
      "outputs": [
        {
          "output_type": "execute_result",
          "data": {
            "text/plain": [
              "(tensor([ 1.,  2.,  3.,  4.,  5.,  6.,  7.,  8.,  9., 10.]), torch.Size([10]))"
            ]
          },
          "metadata": {},
          "execution_count": 51
        }
      ]
    },
    {
      "cell_type": "code",
      "source": [
        "# Add an extra dimension\n",
        "# new dimensions should be compatible with the original dimension (product of new dimensions == product of old dimensions)\n",
        "x_reshape = x.reshape(shape=(2,5))\n",
        "x_reshape.shape"
      ],
      "metadata": {
        "colab": {
          "base_uri": "https://localhost:8080/"
        },
        "id": "Xr_IPZ2CBzU7",
        "outputId": "7fbc07c3-10b1-4fae-cb7c-8f87388d7ead"
      },
      "execution_count": 52,
      "outputs": [
        {
          "output_type": "execute_result",
          "data": {
            "text/plain": [
              "torch.Size([2, 5])"
            ]
          },
          "metadata": {},
          "execution_count": 52
        }
      ]
    },
    {
      "cell_type": "code",
      "source": [
        " # Change the view\n",
        " # manipulating z will also change x, since they share the same memory\n",
        "z = x.view(5,2)\n",
        "z, z.shape\n",
        "z[:,0] = 5\n",
        "z,x"
      ],
      "metadata": {
        "colab": {
          "base_uri": "https://localhost:8080/"
        },
        "id": "46HQdSlwB7Lg",
        "outputId": "3f638990-7d1c-4314-afd2-b269a03d5756"
      },
      "execution_count": 53,
      "outputs": [
        {
          "output_type": "execute_result",
          "data": {
            "text/plain": [
              "(tensor([[ 5.,  2.],\n",
              "         [ 5.,  4.],\n",
              "         [ 5.,  6.],\n",
              "         [ 5.,  8.],\n",
              "         [ 5., 10.]]),\n",
              " tensor([ 5.,  2.,  5.,  4.,  5.,  6.,  5.,  8.,  5., 10.]))"
            ]
          },
          "metadata": {},
          "execution_count": 53
        }
      ]
    },
    {
      "cell_type": "code",
      "source": [
        "# stacking the tensors\n",
        "\n",
        "x_stacked1 = torch.stack([x,x,x,x], dim=0)\n",
        "x_stacked2 = torch.stack([x,x,x,x], dim=1)\n",
        "x_stacked1, x_stacked2"
      ],
      "metadata": {
        "colab": {
          "base_uri": "https://localhost:8080/"
        },
        "id": "3Vx3fi37DHjh",
        "outputId": "6974c748-92bc-4374-8bdd-f17f6af3f499"
      },
      "execution_count": 54,
      "outputs": [
        {
          "output_type": "execute_result",
          "data": {
            "text/plain": [
              "(tensor([[ 5.,  2.,  5.,  4.,  5.,  6.,  5.,  8.,  5., 10.],\n",
              "         [ 5.,  2.,  5.,  4.,  5.,  6.,  5.,  8.,  5., 10.],\n",
              "         [ 5.,  2.,  5.,  4.,  5.,  6.,  5.,  8.,  5., 10.],\n",
              "         [ 5.,  2.,  5.,  4.,  5.,  6.,  5.,  8.,  5., 10.]]),\n",
              " tensor([[ 5.,  5.,  5.,  5.],\n",
              "         [ 2.,  2.,  2.,  2.],\n",
              "         [ 5.,  5.,  5.,  5.],\n",
              "         [ 4.,  4.,  4.,  4.],\n",
              "         [ 5.,  5.,  5.,  5.],\n",
              "         [ 6.,  6.,  6.,  6.],\n",
              "         [ 5.,  5.,  5.,  5.],\n",
              "         [ 8.,  8.,  8.,  8.],\n",
              "         [ 5.,  5.,  5.,  5.],\n",
              "         [10., 10., 10., 10.]]))"
            ]
          },
          "metadata": {},
          "execution_count": 54
        }
      ]
    },
    {
      "cell_type": "code",
      "source": [
        "# squeeze and unsqueeze\n",
        "x = torch.zeros(2,1,2,1,2)\n",
        "x.size(), x"
      ],
      "metadata": {
        "colab": {
          "base_uri": "https://localhost:8080/"
        },
        "id": "EIZvnPnyD7FR",
        "outputId": "e74acb35-4162-4618-98c8-790eee41a376"
      },
      "execution_count": 55,
      "outputs": [
        {
          "output_type": "execute_result",
          "data": {
            "text/plain": [
              "(torch.Size([2, 1, 2, 1, 2]),\n",
              " tensor([[[[[0., 0.]],\n",
              " \n",
              "           [[0., 0.]]]],\n",
              " \n",
              " \n",
              " \n",
              "         [[[[0., 0.]],\n",
              " \n",
              "           [[0., 0.]]]]]))"
            ]
          },
          "metadata": {},
          "execution_count": 55
        }
      ]
    },
    {
      "cell_type": "code",
      "source": [
        "y = torch.squeeze(x)\n",
        "y.size(), y # all one dimensions of x are removed"
      ],
      "metadata": {
        "colab": {
          "base_uri": "https://localhost:8080/"
        },
        "id": "uhTpZ6B9EtsZ",
        "outputId": "bfc790bc-eb8d-4cc9-939a-98a175d708c9"
      },
      "execution_count": 56,
      "outputs": [
        {
          "output_type": "execute_result",
          "data": {
            "text/plain": [
              "(torch.Size([2, 2, 2]),\n",
              " tensor([[[0., 0.],\n",
              "          [0., 0.]],\n",
              " \n",
              "         [[0., 0.],\n",
              "          [0., 0.]]]))"
            ]
          },
          "metadata": {},
          "execution_count": 56
        }
      ]
    },
    {
      "cell_type": "code",
      "source": [
        "# unsqueeze\n",
        "y = x.unsqueeze(dim= 3) # one dimension is added at the 3rd dimension\n",
        "y.shape, y"
      ],
      "metadata": {
        "colab": {
          "base_uri": "https://localhost:8080/"
        },
        "id": "dDow6Zj7E2l1",
        "outputId": "a4f44aab-9ef5-478d-c6c2-4c8deb4e3e75"
      },
      "execution_count": 57,
      "outputs": [
        {
          "output_type": "execute_result",
          "data": {
            "text/plain": [
              "(torch.Size([2, 1, 2, 1, 1, 2]),\n",
              " tensor([[[[[[0., 0.]]],\n",
              " \n",
              " \n",
              "           [[[0., 0.]]]]],\n",
              " \n",
              " \n",
              " \n",
              " \n",
              "         [[[[[0., 0.]]],\n",
              " \n",
              " \n",
              "           [[[0., 0.]]]]]]))"
            ]
          },
          "metadata": {},
          "execution_count": 57
        }
      ]
    },
    {
      "cell_type": "code",
      "source": [
        "# permute\n",
        "\n",
        "x = torch.rand(size=(224,224,3)) # 0dim:224, 1dim:224, 2dim:3\n",
        "\n",
        "x.shape"
      ],
      "metadata": {
        "colab": {
          "base_uri": "https://localhost:8080/"
        },
        "id": "VleyGC_hFqqv",
        "outputId": "ebd975da-10ba-4fbb-b662-1c4b26f37cb9"
      },
      "execution_count": 58,
      "outputs": [
        {
          "output_type": "execute_result",
          "data": {
            "text/plain": [
              "torch.Size([224, 224, 3])"
            ]
          },
          "metadata": {},
          "execution_count": 58
        }
      ]
    },
    {
      "cell_type": "code",
      "source": [
        "y = x.permute(2, 0, 1) # 0dim_new = 2dim_old = 3, 1dim_new = 0dim_old = 224, 2dim_new = 1dim_old = 224 (dimensions are remapped)\n",
        "y.shape"
      ],
      "metadata": {
        "colab": {
          "base_uri": "https://localhost:8080/"
        },
        "id": "SlhUY4A-GfbH",
        "outputId": "8233033a-3d01-4234-a182-3c1e6103fa72"
      },
      "execution_count": 59,
      "outputs": [
        {
          "output_type": "execute_result",
          "data": {
            "text/plain": [
              "torch.Size([3, 224, 224])"
            ]
          },
          "metadata": {},
          "execution_count": 59
        }
      ]
    },
    {
      "cell_type": "code",
      "source": [
        "x[0,0,0]"
      ],
      "metadata": {
        "colab": {
          "base_uri": "https://localhost:8080/"
        },
        "id": "Qzrod2ywG7vB",
        "outputId": "e3ab9624-1d32-48b4-88b6-845e5a14211c"
      },
      "execution_count": 60,
      "outputs": [
        {
          "output_type": "execute_result",
          "data": {
            "text/plain": [
              "tensor(0.0328)"
            ]
          },
          "metadata": {},
          "execution_count": 60
        }
      ]
    },
    {
      "cell_type": "code",
      "source": [
        "y[0,0,0]"
      ],
      "metadata": {
        "colab": {
          "base_uri": "https://localhost:8080/"
        },
        "id": "xFrtYsNoHUKv",
        "outputId": "22fbd754-3197-45cc-fbe3-6413d82983dc"
      },
      "execution_count": 61,
      "outputs": [
        {
          "output_type": "execute_result",
          "data": {
            "text/plain": [
              "tensor(0.0328)"
            ]
          },
          "metadata": {},
          "execution_count": 61
        }
      ]
    },
    {
      "cell_type": "code",
      "source": [
        "x[0,0,0] = 5"
      ],
      "metadata": {
        "id": "PAIXFk2mHWF0"
      },
      "execution_count": 62,
      "outputs": []
    },
    {
      "cell_type": "code",
      "source": [
        "y[0,0,0] #shares the same memory as x"
      ],
      "metadata": {
        "colab": {
          "base_uri": "https://localhost:8080/"
        },
        "id": "XIu1FZfPHX-n",
        "outputId": "02912ecc-74e1-43d4-f3a0-1d7650190418"
      },
      "execution_count": 63,
      "outputs": [
        {
          "output_type": "execute_result",
          "data": {
            "text/plain": [
              "tensor(5.)"
            ]
          },
          "metadata": {},
          "execution_count": 63
        }
      ]
    },
    {
      "cell_type": "markdown",
      "source": [
        "## Indexing (selecting data from tensors)"
      ],
      "metadata": {
        "id": "wnXAJ8NoHZig"
      }
    },
    {
      "cell_type": "code",
      "source": [
        "x = torch.arange(1, 10).reshape(1,3,3)\n",
        "x, x.shape"
      ],
      "metadata": {
        "colab": {
          "base_uri": "https://localhost:8080/"
        },
        "id": "T3zUE2GqHode",
        "outputId": "5e0cb950-81cd-4bff-88d3-40c85ce73959"
      },
      "execution_count": 64,
      "outputs": [
        {
          "output_type": "execute_result",
          "data": {
            "text/plain": [
              "(tensor([[[1, 2, 3],\n",
              "          [4, 5, 6],\n",
              "          [7, 8, 9]]]),\n",
              " torch.Size([1, 3, 3]))"
            ]
          },
          "metadata": {},
          "execution_count": 64
        }
      ]
    },
    {
      "cell_type": "code",
      "source": [
        "# Indexing on our new tensor\n",
        "\n",
        "x[0] # indexing on the 0th dimension"
      ],
      "metadata": {
        "colab": {
          "base_uri": "https://localhost:8080/"
        },
        "id": "rAdl__GqH1AT",
        "outputId": "7773e1d0-a8ad-4720-9e46-7bf55053d4d1"
      },
      "execution_count": 65,
      "outputs": [
        {
          "output_type": "execute_result",
          "data": {
            "text/plain": [
              "tensor([[1, 2, 3],\n",
              "        [4, 5, 6],\n",
              "        [7, 8, 9]])"
            ]
          },
          "metadata": {},
          "execution_count": 65
        }
      ]
    },
    {
      "cell_type": "code",
      "source": [
        "x[0][0], x[0][2] # indexing on the 1st dimension"
      ],
      "metadata": {
        "colab": {
          "base_uri": "https://localhost:8080/"
        },
        "id": "UKCqt95gICcW",
        "outputId": "fbe01fbe-a230-423f-aaee-f83631197c71"
      },
      "execution_count": 66,
      "outputs": [
        {
          "output_type": "execute_result",
          "data": {
            "text/plain": [
              "(tensor([1, 2, 3]), tensor([7, 8, 9]))"
            ]
          },
          "metadata": {},
          "execution_count": 66
        }
      ]
    },
    {
      "cell_type": "code",
      "source": [
        "x[0][0][0], x[0][2][2] # indexing on the 3rd dimension"
      ],
      "metadata": {
        "colab": {
          "base_uri": "https://localhost:8080/"
        },
        "id": "w1ps94ssILkv",
        "outputId": "dde9fba8-a8d6-4d8f-80f0-20974167cd36"
      },
      "execution_count": 67,
      "outputs": [
        {
          "output_type": "execute_result",
          "data": {
            "text/plain": [
              "(tensor(1), tensor(9))"
            ]
          },
          "metadata": {},
          "execution_count": 67
        }
      ]
    },
    {
      "cell_type": "code",
      "source": [
        "# use \":\" to select all of the target dimension\n",
        "x[:,0]"
      ],
      "metadata": {
        "colab": {
          "base_uri": "https://localhost:8080/"
        },
        "id": "Aiph_YiCIWuj",
        "outputId": "de27cde6-3d0c-48e4-eb9f-7b06a843056e"
      },
      "execution_count": 68,
      "outputs": [
        {
          "output_type": "execute_result",
          "data": {
            "text/plain": [
              "tensor([[1, 2, 3]])"
            ]
          },
          "metadata": {},
          "execution_count": 68
        }
      ]
    },
    {
      "cell_type": "code",
      "source": [
        "# Get all values of the 0th and 1st dimension, but only index 1 of 2nd dimesion\n",
        "\n",
        "x[:,:,1]"
      ],
      "metadata": {
        "colab": {
          "base_uri": "https://localhost:8080/"
        },
        "id": "8g5HxW92I1qK",
        "outputId": "57287a57-05a0-447b-9931-d64417479f50"
      },
      "execution_count": 69,
      "outputs": [
        {
          "output_type": "execute_result",
          "data": {
            "text/plain": [
              "tensor([[2, 5, 8]])"
            ]
          },
          "metadata": {},
          "execution_count": 69
        }
      ]
    },
    {
      "cell_type": "code",
      "source": [
        "x[:,1,1]"
      ],
      "metadata": {
        "colab": {
          "base_uri": "https://localhost:8080/"
        },
        "id": "0v4qZlplJF0_",
        "outputId": "a4d63759-b7ea-498c-fe47-6c5c3c206170"
      },
      "execution_count": 70,
      "outputs": [
        {
          "output_type": "execute_result",
          "data": {
            "text/plain": [
              "tensor([5])"
            ]
          },
          "metadata": {},
          "execution_count": 70
        }
      ]
    },
    {
      "cell_type": "code",
      "source": [
        "x[:,:,2]"
      ],
      "metadata": {
        "colab": {
          "base_uri": "https://localhost:8080/"
        },
        "id": "F4V9tv07JKg_",
        "outputId": "2c155545-fabc-44fb-f498-7036b9820e0a"
      },
      "execution_count": 71,
      "outputs": [
        {
          "output_type": "execute_result",
          "data": {
            "text/plain": [
              "tensor([[3, 6, 9]])"
            ]
          },
          "metadata": {},
          "execution_count": 71
        }
      ]
    },
    {
      "cell_type": "code",
      "source": [
        "x.ndim"
      ],
      "metadata": {
        "id": "HCEO-xuNJ6s_",
        "colab": {
          "base_uri": "https://localhost:8080/"
        },
        "outputId": "33b29035-376e-41a6-9cd2-1c54e17d5331"
      },
      "execution_count": 72,
      "outputs": [
        {
          "output_type": "execute_result",
          "data": {
            "text/plain": [
              "3"
            ]
          },
          "metadata": {},
          "execution_count": 72
        }
      ]
    },
    {
      "cell_type": "markdown",
      "source": [
        "## Numpy"
      ],
      "metadata": {
        "id": "m_OFFtJiFqOe"
      }
    },
    {
      "cell_type": "code",
      "source": [
        "# numpy array to pytorch tensor\n",
        "import numpy as np\n",
        "array = np.arange(1.,10.)\n",
        "\n",
        "tensor = torch.from_numpy(array)\n",
        "\n",
        "array.dtype, tensor.dtype # float 64 stays as float64\n"
      ],
      "metadata": {
        "colab": {
          "base_uri": "https://localhost:8080/"
        },
        "id": "KTdKIOdMFwxi",
        "outputId": "c200e4a2-a793-4ae5-d086-aa37b2a1ff7e"
      },
      "execution_count": 76,
      "outputs": [
        {
          "output_type": "execute_result",
          "data": {
            "text/plain": [
              "(dtype('float64'), torch.float64)"
            ]
          },
          "metadata": {},
          "execution_count": 76
        }
      ]
    },
    {
      "cell_type": "code",
      "source": [
        "# to convert to type float32\n",
        "tensor = torch.from_numpy(array).type(torch.float32)\n",
        "tensor.dtype"
      ],
      "metadata": {
        "colab": {
          "base_uri": "https://localhost:8080/"
        },
        "id": "mXa3FWdaGQ9q",
        "outputId": "b72a2a63-354b-466e-baab-fdf191f35b16"
      },
      "execution_count": 77,
      "outputs": [
        {
          "output_type": "execute_result",
          "data": {
            "text/plain": [
              "torch.float32"
            ]
          },
          "metadata": {},
          "execution_count": 77
        }
      ]
    },
    {
      "cell_type": "code",
      "source": [
        "#change the value of array\n",
        "\n",
        "array = array+1\n",
        "\n",
        "array, tensor # array and tensor use different memory"
      ],
      "metadata": {
        "colab": {
          "base_uri": "https://localhost:8080/"
        },
        "id": "r0bZEcfrGpzV",
        "outputId": "6727a3da-dde4-472f-b86f-23db199be46f"
      },
      "execution_count": 80,
      "outputs": [
        {
          "output_type": "execute_result",
          "data": {
            "text/plain": [
              "(array([ 3.,  4.,  5.,  6.,  7.,  8.,  9., 10., 11.]),\n",
              " tensor([1., 2., 3., 4., 5., 6., 7., 8., 9.]))"
            ]
          },
          "metadata": {},
          "execution_count": 80
        }
      ]
    },
    {
      "cell_type": "code",
      "source": [
        "# Tensor to numpy array\n",
        "\n",
        "tensor = torch.ones(7)\n",
        "\n",
        "numpy_tensor = tensor.numpy()\n",
        "\n",
        "tensor.dtype, numpy_tensor.dtype ## again, default datatype of float 32 stays"
      ],
      "metadata": {
        "colab": {
          "base_uri": "https://localhost:8080/"
        },
        "id": "VhGTymajG0Wz",
        "outputId": "8e7fe82b-4256-4dd5-b852-8137ac24e80a"
      },
      "execution_count": 82,
      "outputs": [
        {
          "output_type": "execute_result",
          "data": {
            "text/plain": [
              "(torch.float32, dtype('float32'))"
            ]
          },
          "metadata": {},
          "execution_count": 82
        }
      ]
    },
    {
      "cell_type": "code",
      "source": [
        "# change the tensor\n",
        "\n",
        "tensor = tensor+1\n",
        "\n",
        "tensor, numpy_tensor # different memory"
      ],
      "metadata": {
        "colab": {
          "base_uri": "https://localhost:8080/"
        },
        "id": "Z-Z5uxSDHIOj",
        "outputId": "038f2139-3e7e-42d3-ce15-70d8f589828d"
      },
      "execution_count": 84,
      "outputs": [
        {
          "output_type": "execute_result",
          "data": {
            "text/plain": [
              "(tensor([3., 3., 3., 3., 3., 3., 3.]),\n",
              " array([1., 1., 1., 1., 1., 1., 1.], dtype=float32))"
            ]
          },
          "metadata": {},
          "execution_count": 84
        }
      ]
    },
    {
      "cell_type": "markdown",
      "source": [
        "## Reproducibility: trying to take random out of randomness\n",
        "\n",
        "To reduce randomness in neural networks, use **random seed**. It \"flavours\"the randomness"
      ],
      "metadata": {
        "id": "3aNiPonZHUAb"
      }
    },
    {
      "cell_type": "code",
      "source": [
        "torch.rand(3,3) # gives a random number every time its run"
      ],
      "metadata": {
        "colab": {
          "base_uri": "https://localhost:8080/"
        },
        "id": "scB5fonZHl0a",
        "outputId": "b3461d6a-6b20-43d2-d8d9-d795d27793a4"
      },
      "execution_count": 86,
      "outputs": [
        {
          "output_type": "execute_result",
          "data": {
            "text/plain": [
              "tensor([[0.5416, 0.9146, 0.6875],\n",
              "        [0.1471, 0.3507, 0.6684],\n",
              "        [0.6551, 0.0638, 0.5000]])"
            ]
          },
          "metadata": {},
          "execution_count": 86
        }
      ]
    },
    {
      "cell_type": "code",
      "source": [
        "# Create two random tensors\n",
        "\n",
        "random_tensor_A = torch.rand(3,4)\n",
        "random_tensor_B = torch.rand(3,4)\n",
        "\n",
        "print(random_tensor_A == random_tensor_B)"
      ],
      "metadata": {
        "colab": {
          "base_uri": "https://localhost:8080/"
        },
        "id": "4iwdN02wH0_a",
        "outputId": "baa316e7-7d5c-46b4-d6f7-0620731af1bb"
      },
      "execution_count": 89,
      "outputs": [
        {
          "output_type": "stream",
          "name": "stdout",
          "text": [
            "tensor([[False, False, False, False],\n",
            "        [False, False, False, False],\n",
            "        [False, False, False, False]])\n"
          ]
        }
      ]
    },
    {
      "cell_type": "code",
      "source": [
        "# Random but reproducible tensors\n",
        "\n",
        "# set the random seed\n",
        "RANDOM_SEED = 42\n",
        "\n",
        "torch.manual_seed(RANDOM_SEED)\n",
        "random_tensor_C = torch.rand(3,4)\n",
        "\n",
        "torch.manual_seed(RANDOM_SEED) # set the manual seed each time the rand function is called\n",
        "random_tensor_D = torch.rand(3,4)\n",
        "\n",
        "print(random_tensor_C == random_tensor_D)"
      ],
      "metadata": {
        "colab": {
          "base_uri": "https://localhost:8080/"
        },
        "id": "oEoHYouCIhVz",
        "outputId": "a98b8843-04e1-4195-b24a-311db2145b5b"
      },
      "execution_count": 92,
      "outputs": [
        {
          "output_type": "stream",
          "name": "stdout",
          "text": [
            "tensor([[True, True, True, True],\n",
            "        [True, True, True, True],\n",
            "        [True, True, True, True]])\n"
          ]
        }
      ]
    },
    {
      "cell_type": "markdown",
      "source": [
        "## Running Tensors and pytorch objects on GPUs and making computations faster"
      ],
      "metadata": {
        "id": "wXfsaCO-JYAh"
      }
    },
    {
      "cell_type": "code",
      "source": [
        "torch.cuda.is_available()"
      ],
      "metadata": {
        "colab": {
          "base_uri": "https://localhost:8080/"
        },
        "id": "PIrOjdKJKGcU",
        "outputId": "46f8b0ef-a1f1-4357-b5d1-dd244d9702c4"
      },
      "execution_count": 94,
      "outputs": [
        {
          "output_type": "execute_result",
          "data": {
            "text/plain": [
              "False"
            ]
          },
          "metadata": {},
          "execution_count": 94
        }
      ]
    },
    {
      "cell_type": "code",
      "source": [
        "# Set up device agnostic code\n",
        "device = \"cuda\" if torch.cuda.is_available() else \"cpu\"\n",
        "device"
      ],
      "metadata": {
        "colab": {
          "base_uri": "https://localhost:8080/",
          "height": 35
        },
        "id": "wHRCtHULM2hA",
        "outputId": "0b821702-ed3f-447f-bae0-3d0cc19c70e3"
      },
      "execution_count": 95,
      "outputs": [
        {
          "output_type": "execute_result",
          "data": {
            "text/plain": [
              "'cpu'"
            ],
            "application/vnd.google.colaboratory.intrinsic+json": {
              "type": "string"
            }
          },
          "metadata": {},
          "execution_count": 95
        }
      ]
    },
    {
      "cell_type": "code",
      "source": [
        "tensor = torch.tensor([1,2,3])\n",
        "tensor.device"
      ],
      "metadata": {
        "colab": {
          "base_uri": "https://localhost:8080/"
        },
        "id": "bbztB0WnNMsY",
        "outputId": "d920c60a-b7d2-44c5-a9e5-800bb89f52a2"
      },
      "execution_count": 96,
      "outputs": [
        {
          "output_type": "execute_result",
          "data": {
            "text/plain": [
              "device(type='cpu')"
            ]
          },
          "metadata": {},
          "execution_count": 96
        }
      ]
    },
    {
      "cell_type": "code",
      "source": [
        "# moving to GPU\n",
        "\n",
        "tensor_on_gpu = tensor.to(device)\n",
        "tensor_on_gpu.device # would give CUDA if connected to a GPU runtime"
      ],
      "metadata": {
        "colab": {
          "base_uri": "https://localhost:8080/"
        },
        "id": "3XDWAgE7PZp0",
        "outputId": "295892e6-7351-4993-ac2b-cec834c32d8d"
      },
      "execution_count": 99,
      "outputs": [
        {
          "output_type": "execute_result",
          "data": {
            "text/plain": [
              "device(type='cpu')"
            ]
          },
          "metadata": {},
          "execution_count": 99
        }
      ]
    },
    {
      "cell_type": "markdown",
      "source": [
        "## We cannot convert a Tensor which is on GPU to numpy\n",
        "Bring tensor to cpu first"
      ],
      "metadata": {
        "id": "APCaZHZyPpRu"
      }
    },
    {
      "cell_type": "code",
      "source": [
        "tensor_back_on_cpu = tensor_on_gpu.cpu().numpy()\n",
        "\n",
        "tensor_back_on_cpu.dtype"
      ],
      "metadata": {
        "colab": {
          "base_uri": "https://localhost:8080/"
        },
        "id": "kAUbSqFqP_h3",
        "outputId": "d9995c24-5e0c-4050-edd2-e3a0d3f3c551"
      },
      "execution_count": 102,
      "outputs": [
        {
          "output_type": "execute_result",
          "data": {
            "text/plain": [
              "dtype('int64')"
            ]
          },
          "metadata": {},
          "execution_count": 102
        }
      ]
    },
    {
      "cell_type": "code",
      "source": [],
      "metadata": {
        "id": "3JP9W4m7QPIv"
      },
      "execution_count": null,
      "outputs": []
    }
  ]
}