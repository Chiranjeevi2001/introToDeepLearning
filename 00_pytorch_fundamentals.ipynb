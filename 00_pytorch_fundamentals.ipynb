{
  "nbformat": 4,
  "nbformat_minor": 0,
  "metadata": {
    "colab": {
      "provenance": [],
      "authorship_tag": "ABX9TyNpC0gr46UsRZou2hxusT8X",
      "include_colab_link": true
    },
    "kernelspec": {
      "name": "python3",
      "display_name": "Python 3"
    },
    "language_info": {
      "name": "python"
    }
  },
  "cells": [
    {
      "cell_type": "markdown",
      "metadata": {
        "id": "view-in-github",
        "colab_type": "text"
      },
      "source": [
        "<a href=\"https://colab.research.google.com/github/Chiranjeevi2001/introToDeepLearning/blob/main/00_pytorch_fundamentals.ipynb\" target=\"_parent\"><img src=\"https://colab.research.google.com/assets/colab-badge.svg\" alt=\"Open In Colab\"/></a>"
      ]
    },
    {
      "cell_type": "code",
      "execution_count": 1,
      "metadata": {
        "colab": {
          "base_uri": "https://localhost:8080/"
        },
        "id": "VeLz-_wlcm49",
        "outputId": "0829d58a-c99c-4d87-cf5b-894b5ee49420"
      },
      "outputs": [
        {
          "output_type": "stream",
          "name": "stdout",
          "text": [
            "/bin/bash: line 1: nvidia-smi: command not found\n"
          ]
        }
      ],
      "source": [
        "!nvidia-smi"
      ]
    },
    {
      "cell_type": "markdown",
      "source": [
        "##00 PyTorch Fundamentals"
      ],
      "metadata": {
        "id": "pnTZ38MPdaQ0"
      }
    },
    {
      "cell_type": "code",
      "source": [
        "import torch\n",
        "import pandas as pd\n",
        "import numpy as np\n",
        "import matplotlib.pyplot as plt\n",
        "print(torch.__version__)"
      ],
      "metadata": {
        "colab": {
          "base_uri": "https://localhost:8080/"
        },
        "id": "GttBIMRUdywO",
        "outputId": "ae419e9a-0013-4cc1-9941-ac52b04b31ee"
      },
      "execution_count": 2,
      "outputs": [
        {
          "output_type": "stream",
          "name": "stdout",
          "text": [
            "2.1.0+cu121\n"
          ]
        }
      ]
    },
    {
      "cell_type": "markdown",
      "source": [
        "## Introduction to Tensors"
      ],
      "metadata": {
        "id": "RUt1KwQmd2Fk"
      }
    },
    {
      "cell_type": "code",
      "source": [
        "# creating tensors\n",
        "#scalar\n",
        "scalar  = torch.tensor(73)\n",
        "print(scalar.shape)"
      ],
      "metadata": {
        "colab": {
          "base_uri": "https://localhost:8080/"
        },
        "id": "mT30z47Eeysy",
        "outputId": "f5f3576b-88d3-42c2-e7e3-5fef234708f2"
      },
      "execution_count": 3,
      "outputs": [
        {
          "output_type": "stream",
          "name": "stdout",
          "text": [
            "torch.Size([])\n"
          ]
        }
      ]
    },
    {
      "cell_type": "code",
      "source": [
        "scalar.ndim"
      ],
      "metadata": {
        "colab": {
          "base_uri": "https://localhost:8080/"
        },
        "id": "KN7ibX08fEqG",
        "outputId": "0a394b4e-9dc4-4cf7-f204-4da8b527cf0d"
      },
      "execution_count": 4,
      "outputs": [
        {
          "output_type": "execute_result",
          "data": {
            "text/plain": [
              "0"
            ]
          },
          "metadata": {},
          "execution_count": 4
        }
      ]
    },
    {
      "cell_type": "code",
      "source": [
        "# Get Tensor back as Python int\n",
        "scalar.item()"
      ],
      "metadata": {
        "colab": {
          "base_uri": "https://localhost:8080/"
        },
        "id": "VWON00GsfmFd",
        "outputId": "c597ef46-0f8a-4627-b099-85b68193f7ee"
      },
      "execution_count": 5,
      "outputs": [
        {
          "output_type": "execute_result",
          "data": {
            "text/plain": [
              "73"
            ]
          },
          "metadata": {},
          "execution_count": 5
        }
      ]
    },
    {
      "cell_type": "code",
      "source": [
        "# vector\n",
        "\n",
        "vector = torch.tensor([7,7])\n",
        "vector"
      ],
      "metadata": {
        "colab": {
          "base_uri": "https://localhost:8080/"
        },
        "id": "mGNH2JOrfpmM",
        "outputId": "28ca78bb-2e1a-4e66-80b3-2ee6524d8636"
      },
      "execution_count": 6,
      "outputs": [
        {
          "output_type": "execute_result",
          "data": {
            "text/plain": [
              "tensor([7, 7])"
            ]
          },
          "metadata": {},
          "execution_count": 6
        }
      ]
    },
    {
      "cell_type": "code",
      "source": [
        "vector.ndim"
      ],
      "metadata": {
        "colab": {
          "base_uri": "https://localhost:8080/"
        },
        "id": "Jl_DnNfEf82W",
        "outputId": "764f9e7d-13ea-4a20-b7d6-6d1f07972561"
      },
      "execution_count": 7,
      "outputs": [
        {
          "output_type": "execute_result",
          "data": {
            "text/plain": [
              "1"
            ]
          },
          "metadata": {},
          "execution_count": 7
        }
      ]
    },
    {
      "cell_type": "code",
      "source": [
        "vector.shape"
      ],
      "metadata": {
        "colab": {
          "base_uri": "https://localhost:8080/"
        },
        "id": "FCrpoGEmf-hX",
        "outputId": "3b937c9a-a81d-4e82-9340-b99d1e241216"
      },
      "execution_count": 8,
      "outputs": [
        {
          "output_type": "execute_result",
          "data": {
            "text/plain": [
              "torch.Size([2])"
            ]
          },
          "metadata": {},
          "execution_count": 8
        }
      ]
    },
    {
      "cell_type": "code",
      "source": [
        "# Matrix\n",
        "\n",
        "MATRIX = torch.tensor([[7,8],\n",
        "                       [1,2]])\n",
        "MATRIX"
      ],
      "metadata": {
        "colab": {
          "base_uri": "https://localhost:8080/"
        },
        "id": "ff-gLoCPgCkH",
        "outputId": "09076cbe-14b4-4081-dd92-1da55e83041c"
      },
      "execution_count": 9,
      "outputs": [
        {
          "output_type": "execute_result",
          "data": {
            "text/plain": [
              "tensor([[7, 8],\n",
              "        [1, 2]])"
            ]
          },
          "metadata": {},
          "execution_count": 9
        }
      ]
    },
    {
      "cell_type": "code",
      "source": [
        "MATRIX.ndim"
      ],
      "metadata": {
        "colab": {
          "base_uri": "https://localhost:8080/"
        },
        "id": "tPDxOxhMgRsy",
        "outputId": "30d5b70f-7196-4a2f-d2ea-96c3e4211039"
      },
      "execution_count": 10,
      "outputs": [
        {
          "output_type": "execute_result",
          "data": {
            "text/plain": [
              "2"
            ]
          },
          "metadata": {},
          "execution_count": 10
        }
      ]
    },
    {
      "cell_type": "code",
      "source": [
        "MATRIX.shape"
      ],
      "metadata": {
        "colab": {
          "base_uri": "https://localhost:8080/"
        },
        "id": "dPYEd-OugU6Z",
        "outputId": "2307151e-36c9-48a1-c8b5-9c758104eab4"
      },
      "execution_count": 11,
      "outputs": [
        {
          "output_type": "execute_result",
          "data": {
            "text/plain": [
              "torch.Size([2, 2])"
            ]
          },
          "metadata": {},
          "execution_count": 11
        }
      ]
    },
    {
      "cell_type": "code",
      "source": [
        "# Tensor\n",
        "\n",
        "TENSOR = torch.tensor([[[2,3], [4,5]],\n",
        "                       [[2,3],[10, 19]]])\n",
        "TENSOR"
      ],
      "metadata": {
        "colab": {
          "base_uri": "https://localhost:8080/"
        },
        "id": "1C6zNH0ggX4B",
        "outputId": "34a3f3b3-e7ea-4d0b-c101-674488d2d069"
      },
      "execution_count": 12,
      "outputs": [
        {
          "output_type": "execute_result",
          "data": {
            "text/plain": [
              "tensor([[[ 2,  3],\n",
              "         [ 4,  5]],\n",
              "\n",
              "        [[ 2,  3],\n",
              "         [10, 19]]])"
            ]
          },
          "metadata": {},
          "execution_count": 12
        }
      ]
    },
    {
      "cell_type": "code",
      "source": [
        "TENSOR.ndim"
      ],
      "metadata": {
        "colab": {
          "base_uri": "https://localhost:8080/"
        },
        "id": "RWQRQmzLg0UV",
        "outputId": "7d2a9c1b-c358-4eb0-fe9d-699ac6fdceea"
      },
      "execution_count": 13,
      "outputs": [
        {
          "output_type": "execute_result",
          "data": {
            "text/plain": [
              "3"
            ]
          },
          "metadata": {},
          "execution_count": 13
        }
      ]
    },
    {
      "cell_type": "code",
      "source": [
        "TENSOR.shape"
      ],
      "metadata": {
        "colab": {
          "base_uri": "https://localhost:8080/"
        },
        "id": "Pn_VLuqVg4SP",
        "outputId": "8effe01e-b3cf-402f-89ac-0b895923c79d"
      },
      "execution_count": 14,
      "outputs": [
        {
          "output_type": "execute_result",
          "data": {
            "text/plain": [
              "torch.Size([2, 2, 2])"
            ]
          },
          "metadata": {},
          "execution_count": 14
        }
      ]
    },
    {
      "cell_type": "markdown",
      "source": [
        "## random tensor"
      ],
      "metadata": {
        "id": "1zJjLXo-g6SY"
      }
    },
    {
      "cell_type": "code",
      "source": [
        "random_tensor = torch.rand(3,4,2,10)\n",
        "random_tensor"
      ],
      "metadata": {
        "colab": {
          "base_uri": "https://localhost:8080/"
        },
        "id": "eAjXGUu_n7nY",
        "outputId": "b60be1aa-a7ff-444a-a071-c14ff7920c74"
      },
      "execution_count": 15,
      "outputs": [
        {
          "output_type": "execute_result",
          "data": {
            "text/plain": [
              "tensor([[[[0.2712, 0.0821, 0.2847, 0.4411, 0.3089, 0.0925, 0.5292, 0.5522,\n",
              "           0.4825, 0.2551],\n",
              "          [0.5331, 0.6219, 0.5308, 0.9480, 0.2321, 0.3331, 0.9807, 0.5493,\n",
              "           0.7142, 0.1305]],\n",
              "\n",
              "         [[0.8845, 0.8937, 0.0577, 0.1199, 0.5397, 0.2967, 0.0983, 0.6179,\n",
              "           0.8028, 0.8998],\n",
              "          [0.8255, 0.6205, 0.1350, 0.6204, 0.8306, 0.4171, 0.4246, 0.1407,\n",
              "           0.2059, 0.5459]],\n",
              "\n",
              "         [[0.0578, 0.5174, 0.5809, 0.6528, 0.2367, 0.5940, 0.7321, 0.8629,\n",
              "           0.3508, 0.6953],\n",
              "          [0.4205, 0.8836, 0.4235, 0.1754, 0.1564, 0.2666, 0.5312, 0.3337,\n",
              "           0.8688, 0.5684]],\n",
              "\n",
              "         [[0.2593, 0.6356, 0.5462, 0.9504, 0.5644, 0.9227, 0.9570, 0.7560,\n",
              "           0.3107, 0.4267],\n",
              "          [0.1421, 0.3546, 0.9023, 0.3554, 0.7997, 0.2680, 0.9246, 0.2666,\n",
              "           0.0609, 0.2060]]],\n",
              "\n",
              "\n",
              "        [[[0.9483, 0.9525, 0.3014, 0.6027, 0.8055, 0.7361, 0.2553, 0.4007,\n",
              "           0.5363, 0.9527],\n",
              "          [0.4430, 0.7934, 0.5548, 0.7934, 0.6777, 0.7462, 0.5173, 0.3157,\n",
              "           0.9438, 0.1195]],\n",
              "\n",
              "         [[0.3382, 0.7670, 0.1639, 0.8343, 0.7117, 0.4020, 0.5861, 0.3587,\n",
              "           0.7827, 0.9436],\n",
              "          [0.6556, 0.5386, 0.9617, 0.0342, 0.6989, 0.8227, 0.6254, 0.1793,\n",
              "           0.8428, 0.8671]],\n",
              "\n",
              "         [[0.2923, 0.8612, 0.8392, 0.8877, 0.5869, 0.1711, 0.3673, 0.8388,\n",
              "           0.5218, 0.6466],\n",
              "          [0.4462, 0.1533, 0.7271, 0.2255, 0.7610, 0.3799, 0.2970, 0.5068,\n",
              "           0.0281, 0.8996]],\n",
              "\n",
              "         [[0.6143, 0.4593, 0.2185, 0.1813, 0.3437, 0.5931, 0.5882, 0.9484,\n",
              "           0.3507, 0.5691],\n",
              "          [0.6913, 0.0069, 0.8981, 0.0395, 0.7662, 0.3362, 0.0482, 0.3383,\n",
              "           0.1190, 0.1013]]],\n",
              "\n",
              "\n",
              "        [[[0.1010, 0.9972, 0.8626, 0.3306, 0.1140, 0.6312, 0.3134, 0.4720,\n",
              "           0.8100, 0.0183],\n",
              "          [0.6825, 0.4748, 0.4434, 0.1269, 0.0270, 0.5280, 0.6069, 0.7318,\n",
              "           0.3616, 0.4968]],\n",
              "\n",
              "         [[0.5074, 0.5288, 0.5682, 0.1304, 0.5716, 0.3950, 0.1286, 0.8284,\n",
              "           0.7852, 0.0364],\n",
              "          [0.8745, 0.3421, 0.1998, 0.5230, 0.3265, 0.9736, 0.3763, 0.4927,\n",
              "           0.6316, 0.2285]],\n",
              "\n",
              "         [[0.5586, 0.5334, 0.4828, 0.3035, 0.0868, 0.1359, 0.9070, 0.4530,\n",
              "           0.4356, 0.5827],\n",
              "          [0.1248, 0.9055, 0.7970, 0.2297, 0.1869, 0.0946, 0.6175, 0.4127,\n",
              "           0.4536, 0.4644]],\n",
              "\n",
              "         [[0.6543, 0.0583, 0.6736, 0.0971, 0.8494, 0.6359, 0.8155, 0.5080,\n",
              "           0.5840, 0.2733],\n",
              "          [0.7095, 0.2570, 0.3708, 0.2591, 0.1861, 0.2050, 0.8848, 0.9266,\n",
              "           0.3628, 0.5717]]]])"
            ]
          },
          "metadata": {},
          "execution_count": 15
        }
      ]
    },
    {
      "cell_type": "code",
      "source": [
        "#creating a tensor with the same size as that of an image\n",
        "random_image_size_tensor = torch.rand(size=(224,224,3) )#height, width and color channel (rgb)\n",
        "random_image_size_tensor.shape, random_image_size_tensor.ndim"
      ],
      "metadata": {
        "colab": {
          "base_uri": "https://localhost:8080/"
        },
        "id": "WXJqowCnoBBA",
        "outputId": "7b2b3cd9-2eb8-49a3-bb61-5e8e8c72afd3"
      },
      "execution_count": 16,
      "outputs": [
        {
          "output_type": "execute_result",
          "data": {
            "text/plain": [
              "(torch.Size([224, 224, 3]), 3)"
            ]
          },
          "metadata": {},
          "execution_count": 16
        }
      ]
    },
    {
      "cell_type": "markdown",
      "source": [
        "### Zeros and ones"
      ],
      "metadata": {
        "id": "Te-UH2LbolVN"
      }
    },
    {
      "cell_type": "code",
      "source": [
        "zeros = torch.zeros(3,3)\n",
        "zeros"
      ],
      "metadata": {
        "colab": {
          "base_uri": "https://localhost:8080/"
        },
        "id": "yU1eAjncpS8f",
        "outputId": "dc5b70b0-fb5b-4374-f2f8-f33b5dbfa154"
      },
      "execution_count": 17,
      "outputs": [
        {
          "output_type": "execute_result",
          "data": {
            "text/plain": [
              "tensor([[0., 0., 0.],\n",
              "        [0., 0., 0.],\n",
              "        [0., 0., 0.]])"
            ]
          },
          "metadata": {},
          "execution_count": 17
        }
      ]
    },
    {
      "cell_type": "code",
      "source": [
        "random_tensor = torch.rand(3,3)\n",
        "zeros*random_tensor"
      ],
      "metadata": {
        "colab": {
          "base_uri": "https://localhost:8080/"
        },
        "id": "dQLANz2ppWwj",
        "outputId": "dbc2d605-02cb-4012-9d39-80eb918f04cf"
      },
      "execution_count": 18,
      "outputs": [
        {
          "output_type": "execute_result",
          "data": {
            "text/plain": [
              "tensor([[0., 0., 0.],\n",
              "        [0., 0., 0.],\n",
              "        [0., 0., 0.]])"
            ]
          },
          "metadata": {},
          "execution_count": 18
        }
      ]
    },
    {
      "cell_type": "code",
      "source": [
        "ones = torch.ones(size=(3,4))\n",
        "ones"
      ],
      "metadata": {
        "colab": {
          "base_uri": "https://localhost:8080/"
        },
        "id": "iE1Urcv2pjAB",
        "outputId": "376e8d39-8672-4b64-d63f-66ae20873538"
      },
      "execution_count": 19,
      "outputs": [
        {
          "output_type": "execute_result",
          "data": {
            "text/plain": [
              "tensor([[1., 1., 1., 1.],\n",
              "        [1., 1., 1., 1.],\n",
              "        [1., 1., 1., 1.]])"
            ]
          },
          "metadata": {},
          "execution_count": 19
        }
      ]
    },
    {
      "cell_type": "code",
      "source": [
        "ones.dtype"
      ],
      "metadata": {
        "colab": {
          "base_uri": "https://localhost:8080/"
        },
        "id": "c9zETp1BptPP",
        "outputId": "ea00135e-8267-4ed6-b808-f3c18c9f2ce8"
      },
      "execution_count": 20,
      "outputs": [
        {
          "output_type": "execute_result",
          "data": {
            "text/plain": [
              "torch.float32"
            ]
          },
          "metadata": {},
          "execution_count": 20
        }
      ]
    },
    {
      "cell_type": "markdown",
      "source": [
        "### Creating a range of tensors and tensors-like"
      ],
      "metadata": {
        "id": "NDsZLl4upuvq"
      }
    },
    {
      "cell_type": "code",
      "source": [
        "# Use torch.arange()\n",
        "\n",
        "one_to_ten = torch.arange(0,10.1,0.1) # start (inclusive), end(exclusive) and the step.\n",
        "one_to_ten, one_to_ten.shape"
      ],
      "metadata": {
        "colab": {
          "base_uri": "https://localhost:8080/"
        },
        "id": "DVGmYfKCqDHT",
        "outputId": "97582bc6-1cd4-47ca-8035-5c66c6a23d58"
      },
      "execution_count": 21,
      "outputs": [
        {
          "output_type": "execute_result",
          "data": {
            "text/plain": [
              "(tensor([ 0.0000,  0.1000,  0.2000,  0.3000,  0.4000,  0.5000,  0.6000,  0.7000,\n",
              "          0.8000,  0.9000,  1.0000,  1.1000,  1.2000,  1.3000,  1.4000,  1.5000,\n",
              "          1.6000,  1.7000,  1.8000,  1.9000,  2.0000,  2.1000,  2.2000,  2.3000,\n",
              "          2.4000,  2.5000,  2.6000,  2.7000,  2.8000,  2.9000,  3.0000,  3.1000,\n",
              "          3.2000,  3.3000,  3.4000,  3.5000,  3.6000,  3.7000,  3.8000,  3.9000,\n",
              "          4.0000,  4.1000,  4.2000,  4.3000,  4.4000,  4.5000,  4.6000,  4.7000,\n",
              "          4.8000,  4.9000,  5.0000,  5.1000,  5.2000,  5.3000,  5.4000,  5.5000,\n",
              "          5.6000,  5.7000,  5.8000,  5.9000,  6.0000,  6.1000,  6.2000,  6.3000,\n",
              "          6.4000,  6.5000,  6.6000,  6.7000,  6.8000,  6.9000,  7.0000,  7.1000,\n",
              "          7.2000,  7.3000,  7.4000,  7.5000,  7.6000,  7.7000,  7.8000,  7.9000,\n",
              "          8.0000,  8.1000,  8.2000,  8.3000,  8.4000,  8.5000,  8.6000,  8.7000,\n",
              "          8.8000,  8.9000,  9.0000,  9.1000,  9.2000,  9.3000,  9.4000,  9.5000,\n",
              "          9.6000,  9.7000,  9.8000,  9.9000, 10.0000]),\n",
              " torch.Size([101]))"
            ]
          },
          "metadata": {},
          "execution_count": 21
        }
      ]
    },
    {
      "cell_type": "code",
      "source": [
        "# Creating tensor-like\n",
        "\n",
        "ten_zeros = torch.zeros_like(input = one_to_ten) #create a zeros tensor with the same shape as that of one_to_ten tensor\n",
        "ten_zeros, ten_zeros.shape"
      ],
      "metadata": {
        "colab": {
          "base_uri": "https://localhost:8080/"
        },
        "id": "uipdObE-qHUe",
        "outputId": "f02c0139-d292-45b5-a07b-fb9da6cd5b8a"
      },
      "execution_count": 22,
      "outputs": [
        {
          "output_type": "execute_result",
          "data": {
            "text/plain": [
              "(tensor([0., 0., 0., 0., 0., 0., 0., 0., 0., 0., 0., 0., 0., 0., 0., 0., 0., 0., 0., 0., 0., 0., 0., 0.,\n",
              "         0., 0., 0., 0., 0., 0., 0., 0., 0., 0., 0., 0., 0., 0., 0., 0., 0., 0., 0., 0., 0., 0., 0., 0.,\n",
              "         0., 0., 0., 0., 0., 0., 0., 0., 0., 0., 0., 0., 0., 0., 0., 0., 0., 0., 0., 0., 0., 0., 0., 0.,\n",
              "         0., 0., 0., 0., 0., 0., 0., 0., 0., 0., 0., 0., 0., 0., 0., 0., 0., 0., 0., 0., 0., 0., 0., 0.,\n",
              "         0., 0., 0., 0., 0.]),\n",
              " torch.Size([101]))"
            ]
          },
          "metadata": {},
          "execution_count": 22
        }
      ]
    },
    {
      "cell_type": "markdown",
      "source": [
        "## Tensor datatypes"
      ],
      "metadata": {
        "id": "bIiBDQAmrDdz"
      }
    },
    {
      "cell_type": "code",
      "source": [
        "float32_tensor = torch.tensor([3.0,6.0,9.0], dtype = None, #datatype of tensor\n",
        "                              device = None, #on which device the tensor is stored, default = \"cpu\"\n",
        "                              requires_grad = False # track the gradients with tensor operations\n",
        "                              )"
      ],
      "metadata": {
        "id": "kRSCW6Qfrf0n"
      },
      "execution_count": 23,
      "outputs": []
    },
    {
      "cell_type": "code",
      "source": [
        "float32_tensor, float32_tensor.dtype"
      ],
      "metadata": {
        "colab": {
          "base_uri": "https://localhost:8080/"
        },
        "id": "JpDOQ8VErnv1",
        "outputId": "52eab9fa-bcde-4a95-f99a-9b3801a3310f"
      },
      "execution_count": 24,
      "outputs": [
        {
          "output_type": "execute_result",
          "data": {
            "text/plain": [
              "(tensor([3., 6., 9.]), torch.float32)"
            ]
          },
          "metadata": {},
          "execution_count": 24
        }
      ]
    },
    {
      "cell_type": "code",
      "source": [
        "float16_tensor = float32_tensor.type(torch.float16)\n",
        "float16_tensor\n"
      ],
      "metadata": {
        "colab": {
          "base_uri": "https://localhost:8080/"
        },
        "id": "1wlKWK_Rrr2Q",
        "outputId": "68598145-5ed7-4ade-888b-bdbbac30cf64"
      },
      "execution_count": 25,
      "outputs": [
        {
          "output_type": "execute_result",
          "data": {
            "text/plain": [
              "tensor([3., 6., 9.], dtype=torch.float16)"
            ]
          },
          "metadata": {},
          "execution_count": 25
        }
      ]
    },
    {
      "cell_type": "code",
      "source": [
        "float16_tensor * float32_tensor"
      ],
      "metadata": {
        "colab": {
          "base_uri": "https://localhost:8080/"
        },
        "id": "Lb-S73pIt61o",
        "outputId": "13f6a76b-8adf-484d-ccbf-c792ea7793fb"
      },
      "execution_count": 26,
      "outputs": [
        {
          "output_type": "execute_result",
          "data": {
            "text/plain": [
              "tensor([ 9., 36., 81.])"
            ]
          },
          "metadata": {},
          "execution_count": 26
        }
      ]
    },
    {
      "cell_type": "code",
      "source": [
        "int32_tensor = torch.tensor([3,6,9], dtype = torch.int32)\n",
        "int32_tensor"
      ],
      "metadata": {
        "colab": {
          "base_uri": "https://localhost:8080/"
        },
        "id": "fr0cwNI1uHT_",
        "outputId": "f1d934b9-54b2-4152-fb2f-66259c0af6da"
      },
      "execution_count": 27,
      "outputs": [
        {
          "output_type": "execute_result",
          "data": {
            "text/plain": [
              "tensor([3, 6, 9], dtype=torch.int32)"
            ]
          },
          "metadata": {},
          "execution_count": 27
        }
      ]
    },
    {
      "cell_type": "code",
      "source": [
        "float32_tensor * int32_tensor"
      ],
      "metadata": {
        "colab": {
          "base_uri": "https://localhost:8080/"
        },
        "id": "6vg187nxufsj",
        "outputId": "99f83163-1be3-4936-9e1b-df9501e29c4b"
      },
      "execution_count": 28,
      "outputs": [
        {
          "output_type": "execute_result",
          "data": {
            "text/plain": [
              "tensor([ 9., 36., 81.])"
            ]
          },
          "metadata": {},
          "execution_count": 28
        }
      ]
    },
    {
      "cell_type": "markdown",
      "source": [
        "## Getting information from tensors (tensor attributes)"
      ],
      "metadata": {
        "id": "YCm4Mvy8ujOf"
      }
    },
    {
      "cell_type": "code",
      "source": [
        "int32_tensor.dtype, float32_tensor.dtype, float16_tensor.dtype # getting the datatype"
      ],
      "metadata": {
        "colab": {
          "base_uri": "https://localhost:8080/"
        },
        "id": "G_euSsBgu8jE",
        "outputId": "b4cef91b-3891-4e27-f3db-de8c5d4dc6ac"
      },
      "execution_count": 29,
      "outputs": [
        {
          "output_type": "execute_result",
          "data": {
            "text/plain": [
              "(torch.int32, torch.float32, torch.float16)"
            ]
          },
          "metadata": {},
          "execution_count": 29
        }
      ]
    },
    {
      "cell_type": "code",
      "source": [
        "int32_tensor.shape, float32_tensor.shape, float16_tensor.shape # getting the shape"
      ],
      "metadata": {
        "colab": {
          "base_uri": "https://localhost:8080/"
        },
        "id": "AJyAUMahvO-6",
        "outputId": "94b3a028-1fc8-46c1-e5b1-e951156c094e"
      },
      "execution_count": 30,
      "outputs": [
        {
          "output_type": "execute_result",
          "data": {
            "text/plain": [
              "(torch.Size([3]), torch.Size([3]), torch.Size([3]))"
            ]
          },
          "metadata": {},
          "execution_count": 30
        }
      ]
    },
    {
      "cell_type": "code",
      "source": [
        "int32_tensor.device, float32_tensor.device, float16_tensor.device # get the device"
      ],
      "metadata": {
        "colab": {
          "base_uri": "https://localhost:8080/"
        },
        "id": "IOLJ8teHvVZ5",
        "outputId": "ff296953-3fb3-4d9e-93fa-92d03c9db18f"
      },
      "execution_count": 31,
      "outputs": [
        {
          "output_type": "execute_result",
          "data": {
            "text/plain": [
              "(device(type='cpu'), device(type='cpu'), device(type='cpu'))"
            ]
          },
          "metadata": {},
          "execution_count": 31
        }
      ]
    },
    {
      "cell_type": "code",
      "source": [
        "gpu_tensor = int32_tensor.to(\"cpu\")"
      ],
      "metadata": {
        "id": "ezHqsnfivjfs"
      },
      "execution_count": 33,
      "outputs": []
    },
    {
      "cell_type": "code",
      "source": [
        "gpu_tensor.device"
      ],
      "metadata": {
        "colab": {
          "base_uri": "https://localhost:8080/"
        },
        "id": "1u_0d9G6wR7c",
        "outputId": "14f856af-cd25-412b-8162-b96cacca9b35"
      },
      "execution_count": 34,
      "outputs": [
        {
          "output_type": "execute_result",
          "data": {
            "text/plain": [
              "device(type='cpu')"
            ]
          },
          "metadata": {},
          "execution_count": 34
        }
      ]
    },
    {
      "cell_type": "markdown",
      "source": [
        "## Manipulating Tensors (Tensor Operations)\n",
        "\n",
        "1. Addition\n",
        "2. Subtraction\n",
        "3. Multiplication (element wise)\n",
        "4. Division\n",
        "5. Matrix Multiplication"
      ],
      "metadata": {
        "id": "0-RH_js2wgeA"
      }
    },
    {
      "cell_type": "code",
      "source": [
        "# Create a tensor\n",
        "\n",
        "tensor = torch.tensor([1,2,3])\n",
        "tensor + 10 # adds 10 to every element"
      ],
      "metadata": {
        "colab": {
          "base_uri": "https://localhost:8080/"
        },
        "id": "onelBrSnwxtn",
        "outputId": "863130ee-6b4e-4043-ef87-1e9f4488c668"
      },
      "execution_count": 35,
      "outputs": [
        {
          "output_type": "execute_result",
          "data": {
            "text/plain": [
              "tensor([11, 12, 13])"
            ]
          },
          "metadata": {},
          "execution_count": 35
        }
      ]
    },
    {
      "cell_type": "code",
      "source": [
        "tensor * 10"
      ],
      "metadata": {
        "colab": {
          "base_uri": "https://localhost:8080/"
        },
        "id": "DN5oU88YxMeI",
        "outputId": "1154ad4f-6120-4ab8-d906-647e44d8771d"
      },
      "execution_count": 36,
      "outputs": [
        {
          "output_type": "execute_result",
          "data": {
            "text/plain": [
              "tensor([10, 20, 30])"
            ]
          },
          "metadata": {},
          "execution_count": 36
        }
      ]
    },
    {
      "cell_type": "code",
      "source": [
        "tensor/5"
      ],
      "metadata": {
        "colab": {
          "base_uri": "https://localhost:8080/"
        },
        "id": "BXIRRBxOxSeN",
        "outputId": "28d4b1f7-2c42-4520-8ce4-bf99c623465c"
      },
      "execution_count": 37,
      "outputs": [
        {
          "output_type": "execute_result",
          "data": {
            "text/plain": [
              "tensor([0.2000, 0.4000, 0.6000])"
            ]
          },
          "metadata": {},
          "execution_count": 37
        }
      ]
    },
    {
      "cell_type": "code",
      "source": [
        "tensor-10"
      ],
      "metadata": {
        "colab": {
          "base_uri": "https://localhost:8080/"
        },
        "id": "WugtRZioxU8I",
        "outputId": "ddb68725-342f-4e87-fe16-c57cd9e38a9e"
      },
      "execution_count": 38,
      "outputs": [
        {
          "output_type": "execute_result",
          "data": {
            "text/plain": [
              "tensor([-9, -8, -7])"
            ]
          },
          "metadata": {},
          "execution_count": 38
        }
      ]
    },
    {
      "cell_type": "code",
      "source": [
        "# Inbuilt functions for tensor\n",
        "\n",
        "torch.mul(tensor, 10)"
      ],
      "metadata": {
        "colab": {
          "base_uri": "https://localhost:8080/"
        },
        "id": "Tmcmi4FKxXU2",
        "outputId": "840e7878-6bb2-425b-f9a1-af9acc25aceb"
      },
      "execution_count": 39,
      "outputs": [
        {
          "output_type": "execute_result",
          "data": {
            "text/plain": [
              "tensor([10, 20, 30])"
            ]
          },
          "metadata": {},
          "execution_count": 39
        }
      ]
    },
    {
      "cell_type": "markdown",
      "source": [
        "### Matrix Multiplication (most common tensor operation)"
      ],
      "metadata": {
        "id": "IDg-j3a2xqFc"
      }
    },
    {
      "cell_type": "code",
      "source": [
        "%%time\n",
        "torch.matmul(tensor, tensor) ## works like a dot product for 1-d tensors"
      ],
      "metadata": {
        "colab": {
          "base_uri": "https://localhost:8080/"
        },
        "id": "SPczM0qFyI9q",
        "outputId": "52e704fe-56a4-4c3b-9a3d-4dc8091fba37"
      },
      "execution_count": 40,
      "outputs": [
        {
          "output_type": "stream",
          "name": "stdout",
          "text": [
            "CPU times: user 189 µs, sys: 35 µs, total: 224 µs\n",
            "Wall time: 345 µs\n"
          ]
        },
        {
          "output_type": "execute_result",
          "data": {
            "text/plain": [
              "tensor(14)"
            ]
          },
          "metadata": {},
          "execution_count": 40
        }
      ]
    },
    {
      "cell_type": "code",
      "source": [
        "# calculating dot product manually\n",
        "%%time\n",
        "value = 0\n",
        "for i in range(len(tensor)):\n",
        "  value += tensor[i]*tensor[i]\n",
        "print(value)"
      ],
      "metadata": {
        "id": "w33hItVPzz9O",
        "colab": {
          "base_uri": "https://localhost:8080/"
        },
        "outputId": "2347e64f-97ff-40d0-b393-c37b28a5a837"
      },
      "execution_count": 41,
      "outputs": [
        {
          "output_type": "stream",
          "name": "stdout",
          "text": [
            "tensor(14)\n",
            "CPU times: user 501 µs, sys: 916 µs, total: 1.42 ms\n",
            "Wall time: 1.35 ms\n"
          ]
        }
      ]
    },
    {
      "cell_type": "markdown",
      "source": [
        "### One of the most common errors in deep learning: Shape Errors\n",
        "\n",
        "Inner dimensions during matrix multiplication should match\n",
        "\n",
        "* `(3,2) @ (3,2)` won't work\n",
        "* `(3,2) @ (2,3)` will work\n",
        "\n",
        "The resulting matrix will have the dimensions of the outter dimensions."
      ],
      "metadata": {
        "id": "TLrp3MqeuWfm"
      }
    },
    {
      "cell_type": "code",
      "source": [
        "torch.matmul(torch.rand(3,2), torch.rand(2,2)).shape"
      ],
      "metadata": {
        "colab": {
          "base_uri": "https://localhost:8080/"
        },
        "id": "ZAen-wNc5ElM",
        "outputId": "74ded477-ecbb-416f-b1f4-902be37ef9a2"
      },
      "execution_count": 45,
      "outputs": [
        {
          "output_type": "execute_result",
          "data": {
            "text/plain": [
              "torch.Size([3, 2])"
            ]
          },
          "metadata": {},
          "execution_count": 45
        }
      ]
    },
    {
      "cell_type": "code",
      "source": [],
      "metadata": {
        "id": "0yrEjhXT5qWa"
      },
      "execution_count": null,
      "outputs": []
    }
  ]
}